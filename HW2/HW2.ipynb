{
 "cells": [
  {
   "cell_type": "markdown",
   "metadata": {},
   "source": [
    "# Unstructured Data Analytics HW2\n",
    "\n",
    "Name: Wenjia Hu\n",
    "\n",
    "Andrew ID: wenjiah\n",
    "\n",
    "Collaborators (if none, say \"none\"; do *not* leave this blank):\n",
    "I use ChatGPT to identify syntax for some of my code and library\n",
    "\n",
    "Reminder: you should not be sharing code."
   ]
  },
  {
   "cell_type": "markdown",
   "metadata": {},
   "source": [
    "## Question 1: Clustering emails using Gaussian Mixture Models [50 pts]"
   ]
  },
  {
   "cell_type": "markdown",
   "metadata": {},
   "source": [
    "For this problem, we will be analyzing emails taken from the [Enron Email Dataset](https://www.cs.cmu.edu/~enron/). We have already curated the data for you in the `data/enron` directory, with one file per email (so there is no need to redownload the dataset as it is already included in this homework zip archive). The dataset includes a combination of \"spam\" and \"ham\" emails. Spam emails are unsolicited messages intended to sell a product or scam users into providing personal information, while ham emails represent everything that is not spam.\n",
    "\n",
    "The language used in spam emails tends to be considerably different from typical business emails. Most spam filters leverage this difference in word frequencies to detect spam as it arrives and filter it out of email inboxes. We will use Gaussian Mixture Models (GMMs) to cluster the emails and attempt to identify groups of emails which are likely to be spam."
   ]
  },
  {
   "cell_type": "markdown",
   "metadata": {},
   "source": [
    "### Part A: Construct a list of processed documents [10 points]"
   ]
  },
  {
   "cell_type": "markdown",
   "metadata": {},
   "source": [
    "Provided below is a function that returns a document present in a file given a filename. The function performs some preprocessing to (1) remove punctuation, (2),(3) remove whitespace and (4) lowercase all words. Using the `make_word_list` function, construct a list of processed documents."
   ]
  },
  {
   "cell_type": "code",
   "execution_count": 2,
   "metadata": {},
   "outputs": [],
   "source": [
    "import re\n",
    "import string\n",
    "import codecs\n",
    "\n",
    "def make_word_list(path):\n",
    "    \n",
    "    with codecs.open(path, \"r\", encoding='utf-8', errors='ignore') as f:\n",
    "        corpus_text = f.read()\n",
    "\n",
    "    for c in string.punctuation:\n",
    "        corpus_text = corpus_text.replace(c, \"\")  # -- (1)\n",
    "    \n",
    "    text = re.sub(r'\\S*\\d\\S*', '', corpus_text) # -- (2)\n",
    "    text = re.sub(r'[^\\w\\s]', '', text)         # -- (3)\n",
    "    \n",
    "    text = text.lower().split()           # -- (4)         \n",
    "    \n",
    "    li = []\n",
    "    for token in text:\n",
    "        li.append(token)\n",
    "\n",
    "    return \" \".join(li)"
   ]
  },
  {
   "cell_type": "code",
   "execution_count": 8,
   "metadata": {},
   "outputs": [],
   "source": [
    "folder_path = '/Users/cmu-work/Code/CMU Class Code/95865_unstructure_data_analysis/HW2/data/enron'\n",
    "\n",
    "# list all files in the folder\n",
    "import os\n",
    "file_list = os.listdir(folder_path)\n",
    "\n",
    "full_path_list = []\n",
    "for file in file_list:\n",
    "    full_path_list.append(folder_path + '/' + file)"
   ]
  },
  {
   "cell_type": "code",
   "execution_count": 19,
   "metadata": {},
   "outputs": [],
   "source": [
    "processed_doc_list = []\n",
    "for path in full_path_list:\n",
    "    processed_doc_list.append(make_word_list(path))"
   ]
  },
  {
   "cell_type": "markdown",
   "metadata": {},
   "source": [
    "### Part B: Construct a document matrix [10 points]"
   ]
  },
  {
   "cell_type": "markdown",
   "metadata": {},
   "source": [
    "Next, construct a document matrix `X` as a matrix of [TF-IDF](https://en.wikipedia.org/wiki/Tf%E2%80%93idf) features for each document. TF-IDF features encode information about the word frequency within a document, weighted by the frequency of the same word for corpus as a whole.\n",
    "\n",
    "   - Use the `TfidfVectorizer` from [scikit-learn](http://scikit-learn.org/stable/modules/generated/sklearn.feature_extraction.text.TfidfVectorizer.html) to create the document matrix `X`.\n",
    "   - Set `min_df=50`; this drops words that don't occur in at least 50 documents.\n",
    "   - Set `stop_words=\"english\"` and `max_df=0.8` to filter out stop-words.\n",
    "   - Print the number of unique words in the vocabulary Hint: Look for the `vocabulary_` attribute in the `TfidfVectorizer` object after fitting the vectorizer to the data set. The vocabulary will also be needed in part (d)."
   ]
  },
  {
   "cell_type": "code",
   "execution_count": 20,
   "metadata": {},
   "outputs": [],
   "source": [
    "# construct a document-term matrix\n",
    "\n",
    "# import TfidfVectorizer\n",
    "from sklearn.feature_extraction.text import TfidfVectorizer\n",
    "\n",
    "# set min_df = 50,  stop_words = 'english', and max_df = 0.8\n",
    "vectorizer = TfidfVectorizer(min_df=50, stop_words='english', max_df=0.8)\n",
    "\n",
    "# fit and transform the documents\n",
    "X = vectorizer.fit_transform(processed_doc_list)\n"
   ]
  },
  {
   "cell_type": "code",
   "execution_count": 34,
   "metadata": {},
   "outputs": [
    {
     "data": {
      "text/plain": [
       "(5172, 1680)"
      ]
     },
     "execution_count": 34,
     "metadata": {},
     "output_type": "execute_result"
    }
   ],
   "source": [
    "# sanity check\n",
    "# tfidf_matrix.shape"
   ]
  },
  {
   "cell_type": "code",
   "execution_count": 24,
   "metadata": {},
   "outputs": [
    {
     "name": "stdout",
     "output_type": "stream",
     "text": [
      "number of unique words in the vocabulary is:  1680\n"
     ]
    }
   ],
   "source": [
    "# find the number of keys in the vocabulary\n",
    "print(\"number of unique words in the vocabulary is: \", len(vectorizer.vocabulary_))"
   ]
  },
  {
   "cell_type": "markdown",
   "metadata": {},
   "source": [
    "### Part C: Perform Clustering [10 points]"
   ]
  },
  {
   "cell_type": "markdown",
   "metadata": {},
   "source": [
    "Perform clustering on the document matrix `X` using GMMs. \n",
    "- Use the `GaussianMixture` module from [scikit-learn](http://scikit-learn.org/stable/modules/generated/sklearn.mixture.GaussianMixture.html) to cluster the documents.\n",
    "- Set the number of clusters (mixture components) to 3.\n",
    "- Print the number of documents assigned to each cluster."
   ]
  },
  {
   "cell_type": "code",
   "execution_count": 38,
   "metadata": {},
   "outputs": [],
   "source": [
    "# cluster the documents using GaussianMixture\n",
    "from sklearn.mixture import GaussianMixture\n",
    "gmm = GaussianMixture(n_components=3, random_state=0).fit(X.toarray())\n"
   ]
  },
  {
   "cell_type": "code",
   "execution_count": 27,
   "metadata": {},
   "outputs": [
    {
     "name": "stdout",
     "output_type": "stream",
     "text": [
      "{0: 4479, 1: 365, 2: 328}\n"
     ]
    }
   ],
   "source": [
    "# Print the number of documents assigned to each cluster.\n",
    "import numpy as np\n",
    "unique, counts = np.unique(gmm.predict(X.toarray()), return_counts=True)\n",
    "print(dict(zip(unique, counts)))"
   ]
  },
  {
   "cell_type": "code",
   "execution_count": 29,
   "metadata": {},
   "outputs": [
    {
     "data": {
      "text/plain": [
       "5172"
      ]
     },
     "execution_count": 29,
     "metadata": {},
     "output_type": "execute_result"
    }
   ],
   "source": [
    "# quick sanity check\n",
    "# len(processed_doc_list)"
   ]
  },
  {
   "cell_type": "markdown",
   "metadata": {},
   "source": [
    "### Part D: Characterize the clusters [10 points]"
   ]
  },
  {
   "cell_type": "markdown",
   "metadata": {},
   "source": [
    "Now, we will attempt to characterize the clusters based on the frequency of spam-relevant words. \n",
    "- Select 3 \"spammy\" words from the vocabulary that you expect to occur frequently in spam emails and less frequently in normal business emails (e.g., 'click', 'www', 'offer'). Construct a list, `spam_indices`, storing the indices of the spammy words you selected in the vocabulary generated by `TfidfVectorizer`.\n",
    "- Select 3 \"hammy\" words from the vocabulary you think will occur frequently in business emails and infrequently in spam emails (e.g., 'meeting', 'attached', 'review'). Construct a list, `ham_indices`, storing the indices of the hammy words you selected in the vocabulary generated by `TfidfVectorizer`.\n",
    "- Use the function provided below, `plot_spam_words_by_cluster`, to plot the average TF-IDF features for your selected spammy words and hammy words for each cluster. The function takes the following parameters:\n",
    "    - `X` is a matrix of TF-IDF features (rows index documents, columns index terms).\n",
    "    - `predicted` is predicted cluster assignments returned by `GaussianMixture.predict()`\n",
    "    - `n_clusters` is the number of clusters. This should match the number of clusters from your GMM.\n",
    "    - `spam_indices` is a list of indices of spammy words in the vocabulary.\n",
    "    - `ham_indices` is a list of indices of hammy (typical business) words in the vocabulary."
   ]
  },
  {
   "cell_type": "code",
   "execution_count": 30,
   "metadata": {},
   "outputs": [],
   "source": [
    "def plot_spam_words_by_cluster(X, predicted, n_clusters, spam_indices, ham_indices):\n",
    "    import numpy as np\n",
    "    import matplotlib.pyplot as plt\n",
    "    \n",
    "    # Calculate mean TF-IDF features for each cluster\n",
    "    mean_tfidf_spam = []\n",
    "    mean_tfidf_ham = []\n",
    "    for spam in spam_indices:\n",
    "        mean_tfidf_spam.append([])\n",
    "    for ham in ham_indices:\n",
    "        mean_tfidf_ham.append([])\n",
    "    \n",
    "    for i in range(n_clusters):\n",
    "        for j, spam_idx in enumerate(spam_indices):\n",
    "            mean_tfidf_spam[j].append(X[predicted==i, spam_idx].mean())\n",
    "        for j, ham_idx in enumerate(ham_indices):\n",
    "            mean_tfidf_ham[j].append(X[predicted==i, ham_idx].mean())\n",
    "    \n",
    "    # Generate plot\n",
    "    fig, ax = plt.subplots()\n",
    "\n",
    "    ind = np.arange(n_clusters)    # the x locations for the groups\n",
    "    width = 0.10         # the width of the bars\n",
    "\n",
    "    # Plot spam bars\n",
    "    for i, val in enumerate(mean_tfidf_spam):\n",
    "        spam_bar = ax.bar(ind - (len(mean_tfidf_spam)-i-1)*width, val, width, color='r', bottom=0)\n",
    "\n",
    "    # Plot ham bars\n",
    "    for i, val in enumerate(mean_tfidf_ham):\n",
    "        ham_bar = ax.bar(ind + (len(mean_tfidf_ham)-i)*width, val, width,\n",
    "                color='y', bottom=0)\n",
    "\n",
    "    ax.set_title('Mean TF-IDF Features by Cluster for Spam-Relevant Words')\n",
    "    ax.set_xticks(ind + width / 2)\n",
    "    xticklabels = []\n",
    "    for i in range(n_clusters):\n",
    "        xticklabels.append('Cluster ' + str(i) + '\\n(n=' + str((predicted==i).sum()) + ')')\n",
    "    ax.set_xticklabels(xticklabels)\n",
    "\n",
    "    ax.legend((spam_bar[0], ham_bar[0]), ('Spammy words', 'Hammy words'))\n",
    "    ax.autoscale_view()\n",
    "    ax.set_ylabel('Mean TF-IDF')\n",
    "    plt.show()"
   ]
  },
  {
   "cell_type": "code",
   "execution_count": null,
   "metadata": {},
   "outputs": [],
   "source": [
    "vocabulary = vectorizer.vocabulary_\n",
    "\n",
    "\n"
   ]
  },
  {
   "cell_type": "code",
   "execution_count": 54,
   "metadata": {},
   "outputs": [
    {
     "data": {
      "text/plain": [
       "[940, 348, 1670]"
      ]
     },
     "execution_count": 54,
     "metadata": {},
     "output_type": "execute_result"
    }
   ],
   "source": [
    "# identify the indices of the spam documents from TfidfVectorizer\n",
    "spam_words = ['money', 'deal', 'www' ]\n",
    "spam_indices = [vocabulary.get(i) for i in spam_words]\n",
    "spam_indices\n"
   ]
  },
  {
   "cell_type": "code",
   "execution_count": 57,
   "metadata": {},
   "outputs": [
    {
     "data": {
      "text/plain": [
       "[904, 1089, 1491]"
      ]
     },
     "execution_count": 57,
     "metadata": {},
     "output_type": "execute_result"
    }
   ],
   "source": [
    "# identify the indices of the ham documents\n",
    "ham_words = ['meeting', 'plan', 'team']\n",
    "ham_indices = [vocabulary.get(i) for i in ham_words]\n",
    "ham_indices"
   ]
  },
  {
   "cell_type": "code",
   "execution_count": 58,
   "metadata": {},
   "outputs": [
    {
     "data": {
      "image/png": "[encoded data removed]",
      "text/plain": [
       "<Figure size 432x288 with 1 Axes>"
      ]
     },
     "metadata": {
      "needs_background": "light"
     },
     "output_type": "display_data"
    }
   ],
   "source": [
    "predicted = gmm.predict(X.toarray())\n",
    "n_clusters = 3\n",
    "\n",
    "plot_spam_words_by_cluster(X, predicted, n_clusters, spam_indices, ham_indices)"
   ]
  },
  {
   "cell_type": "markdown",
   "metadata": {},
   "source": [
    "### Part E: Interpret results [10 points]|"
   ]
  },
  {
   "cell_type": "markdown",
   "metadata": {},
   "source": [
    "From the plot generated in part (d), do any of the clusters correspond to spam emails, based on the frequency of spammy and hammy words? Do any of the clusters appear to correspond to typical business emails (ham)? \n",
    "\n",
    "Re-run your analysis with a different choice for the number of clusters in your GMM (e.g., `n_clusters=5` or `n_clusters=2`). How does changing the number of clusters affect your results? Does one choice of `n_clusters` appear better than another for locating clusters of spam emails?"
   ]
  },
  {
   "cell_type": "markdown",
   "metadata": {},
   "source": [
    "#### Answer: \n",
    "Based on the result, when n = 3, cluster 1 (n=365) seems to correspond to typical business emails (ham), while cluster 2 (n=382) seems to correspond to marketing emails (spam)\n",
    "\n",
    "n = 5 seem to be better than n = 2 in terms of locating clusters of spam emails."
   ]
  },
  {
   "cell_type": "code",
   "execution_count": 59,
   "metadata": {},
   "outputs": [
    {
     "data": {
      "image/png": "[encoded data removed]",
      "text/plain": [
       "<Figure size 432x288 with 1 Axes>"
      ]
     },
     "metadata": {
      "needs_background": "light"
     },
     "output_type": "display_data"
    }
   ],
   "source": [
    "gmm = GaussianMixture(n_components=5, random_state=0).fit(X.toarray())\n",
    "\n",
    "vocabulary = vectorizer.vocabulary_\n",
    "\n",
    "# identify the indices of the spam documents from TfidfVectorizer\n",
    "spam_words = ['money', 'deal', 'www' ]\n",
    "spam_indices = [vocabulary.get(i) for i in spam_words]\n",
    "\n",
    "# identify the indices of the ham documents\n",
    "ham_words = ['meeting', 'plan', 'team']\n",
    "ham_indices = [vocabulary.get(i) for i in ham_words]\n",
    "\n",
    "predicted = gmm.predict(X.toarray())\n",
    "n_clusters = 5\n",
    "\n",
    "plot_spam_words_by_cluster(X, predicted, n_clusters, spam_indices, ham_indices)\n"
   ]
  },
  {
   "cell_type": "code",
   "execution_count": 60,
   "metadata": {},
   "outputs": [
    {
     "data": {
      "image/png": "[encoded data removed]",
      "text/plain": [
       "<Figure size 432x288 with 1 Axes>"
      ]
     },
     "metadata": {
      "needs_background": "light"
     },
     "output_type": "display_data"
    }
   ],
   "source": [
    "gmm = GaussianMixture(n_components=2, random_state=0).fit(X.toarray())\n",
    "\n",
    "vocabulary = vectorizer.vocabulary_\n",
    "\n",
    "# identify the indices of the spam documents from TfidfVectorizer\n",
    "spam_words = ['money', 'deal', 'www' ]\n",
    "spam_indices = [vocabulary.get(i) for i in spam_words]\n",
    "\n",
    "# identify the indices of the ham documents\n",
    "ham_words = ['meeting', 'plan', 'team']\n",
    "ham_indices = [vocabulary.get(i) for i in ham_words]\n",
    "\n",
    "predicted = gmm.predict(X.toarray())\n",
    "n_clusters = 2\n",
    "\n",
    "plot_spam_words_by_cluster(X, predicted, n_clusters, spam_indices, ham_indices)"
   ]
  },
  {
   "cell_type": "markdown",
   "metadata": {},
   "source": [
    "## Question 2: Latent \"Purposes\" in Mobile Apps [45 points]\n",
    "\n",
    "\n",
    "Think of Android applications as \"documents\", where \"words\" are the \"permissions\" that each app requests. Each app has a set of latent \"purposes\" (topics); a \"purpose\" may be a specific task (such as taking photographs and uploading them to the internet), and an application may have a mixture of purposes of varying strength.\n",
    "\n",
    "Can we uncover these purposes from a dataset of Android applications and the permissions they request?"
   ]
  },
  {
   "cell_type": "code",
   "execution_count": 1,
   "metadata": {},
   "outputs": [],
   "source": [
    "import numpy as np\n",
    "import matplotlib.pyplot as plt\n",
    "import pandas as pd\n",
    "%matplotlib inline"
   ]
  },
  {
   "cell_type": "markdown",
   "metadata": {},
   "source": [
    "### Part A: Load the data [0 points]"
   ]
  },
  {
   "cell_type": "markdown",
   "metadata": {},
   "source": [
    "The [dataset](http://www.mariofrank.net/andrApps/) contains ~180,000 applications from the Android app store, including each app's name, description and permissions requested. For more about Android app permissions, see [this report](http://www.pewinternet.org/2015/11/10/an-analysis-of-android-app-permissions/).\n",
    "\n",
    "   * Download the data and unzip it into the same folder as this notebook.\n",
    "   * Rename the CSV file to \"android.csv\".\n",
    "   * Run the cells below to load the data into the notebook.\n",
    "\n",
    "This may take up ~2GB of RAM."
   ]
  },
  {
   "cell_type": "code",
   "execution_count": 2,
   "metadata": {},
   "outputs": [],
   "source": [
    "df = pd.read_csv(\"/Users/cmu-work/Code/CMU Class Code/95865_unstructure_data_analysis/HW2/APR.csv\", sep=\",\",  thousands=\",\")"
   ]
  },
  {
   "cell_type": "code",
   "execution_count": 3,
   "metadata": {},
   "outputs": [],
   "source": [
    "df[\"Number of ratings\"] = df[\"Number of ratings\"].astype(int) # fix data type\n",
    "df = df.drop_duplicates(subset=[\"App\"]).reset_index(drop=True)"
   ]
  },
  {
   "cell_type": "code",
   "execution_count": 4,
   "metadata": {},
   "outputs": [
    {
     "data": {
      "text/html": [
       "<div>\n",
       "<style scoped>\n",
       "    .dataframe tbody tr th:only-of-type {\n",
       "        vertical-align: middle;\n",
       "    }\n",
       "\n",
       "    .dataframe tbody tr th {\n",
       "        vertical-align: top;\n",
       "    }\n",
       "\n",
       "    .dataframe thead th {\n",
       "        text-align: right;\n",
       "    }\n",
       "</style>\n",
       "<table border=\"1\" class=\"dataframe\">\n",
       "  <thead>\n",
       "    <tr style=\"text-align: right;\">\n",
       "      <th></th>\n",
       "      <th>App</th>\n",
       "      <th>Package</th>\n",
       "      <th>Category</th>\n",
       "      <th>Description</th>\n",
       "      <th>Rating</th>\n",
       "      <th>Number of ratings</th>\n",
       "      <th>Price</th>\n",
       "      <th>Related apps</th>\n",
       "      <th>Dangerous permissions count</th>\n",
       "      <th>Safe permissions count</th>\n",
       "      <th>...</th>\n",
       "      <th>Your personal information : read Browser's history and bookmarks (D)</th>\n",
       "      <th>Your personal information : read calendar events (D)</th>\n",
       "      <th>Your personal information : read contact data (D)</th>\n",
       "      <th>Your personal information : read sensitive log data (D)</th>\n",
       "      <th>Your personal information : read user defined dictionary (D)</th>\n",
       "      <th>Your personal information : retrieve system internal state (S)</th>\n",
       "      <th>Your personal information : set alarm in alarm clock (S)</th>\n",
       "      <th>Your personal information : write Browser's history and bookmarks (D)</th>\n",
       "      <th>Your personal information : write contact data (D)</th>\n",
       "      <th>Your personal information : write to user defined dictionary (S)</th>\n",
       "    </tr>\n",
       "  </thead>\n",
       "  <tbody>\n",
       "    <tr>\n",
       "      <th>0</th>\n",
       "      <td>Google Maps</td>\n",
       "      <td>com.google.android.apps.maps</td>\n",
       "      <td>Travel &amp; Local</td>\n",
       "      <td>Download the latest release of Google Maps, an...</td>\n",
       "      <td>4.4</td>\n",
       "      <td>1438259</td>\n",
       "      <td>$0.00</td>\n",
       "      <td>{com.jsdfproductions.ctatrackerpro, com.alk.co...</td>\n",
       "      <td>17.0</td>\n",
       "      <td>8</td>\n",
       "      <td>...</td>\n",
       "      <td>0</td>\n",
       "      <td>0</td>\n",
       "      <td>1</td>\n",
       "      <td>0</td>\n",
       "      <td>0</td>\n",
       "      <td>0</td>\n",
       "      <td>0</td>\n",
       "      <td>0</td>\n",
       "      <td>1</td>\n",
       "      <td>0</td>\n",
       "    </tr>\n",
       "    <tr>\n",
       "      <th>1</th>\n",
       "      <td>Snowfall Live Wallpaper</td>\n",
       "      <td>fishnoodle.snowfall_free</td>\n",
       "      <td>Personalization</td>\n",
       "      <td>Snowfall Live Wallpaper: Wintertime on your ho...</td>\n",
       "      <td>4.3</td>\n",
       "      <td>18147</td>\n",
       "      <td>$0.00</td>\n",
       "      <td>{colfore.wallpaper.snowfree, com.tabsoft.wallp...</td>\n",
       "      <td>0.0</td>\n",
       "      <td>0</td>\n",
       "      <td>...</td>\n",
       "      <td>0</td>\n",
       "      <td>0</td>\n",
       "      <td>0</td>\n",
       "      <td>0</td>\n",
       "      <td>0</td>\n",
       "      <td>0</td>\n",
       "      <td>0</td>\n",
       "      <td>0</td>\n",
       "      <td>0</td>\n",
       "      <td>0</td>\n",
       "    </tr>\n",
       "    <tr>\n",
       "      <th>2</th>\n",
       "      <td>Aquarium Live Wallpaper</td>\n",
       "      <td>fishnoodle.aquarium_free</td>\n",
       "      <td>Personalization</td>\n",
       "      <td>A beautiful tropical fish tank live wallpaper!...</td>\n",
       "      <td>4.1</td>\n",
       "      <td>62145</td>\n",
       "      <td>$0.00</td>\n",
       "      <td>{com.convisual.lwp.fishometerlite, com.accessl...</td>\n",
       "      <td>0.0</td>\n",
       "      <td>0</td>\n",
       "      <td>...</td>\n",
       "      <td>0</td>\n",
       "      <td>0</td>\n",
       "      <td>0</td>\n",
       "      <td>0</td>\n",
       "      <td>0</td>\n",
       "      <td>0</td>\n",
       "      <td>0</td>\n",
       "      <td>0</td>\n",
       "      <td>0</td>\n",
       "      <td>0</td>\n",
       "    </tr>\n",
       "  </tbody>\n",
       "</table>\n",
       "<p>3 rows × 183 columns</p>\n",
       "</div>"
      ],
      "text/plain": [
       "                       App                       Package         Category  \\\n",
       "0              Google Maps  com.google.android.apps.maps   Travel & Local   \n",
       "1  Snowfall Live Wallpaper      fishnoodle.snowfall_free  Personalization   \n",
       "2  Aquarium Live Wallpaper      fishnoodle.aquarium_free  Personalization   \n",
       "\n",
       "                                         Description  Rating  \\\n",
       "0  Download the latest release of Google Maps, an...     4.4   \n",
       "1  Snowfall Live Wallpaper: Wintertime on your ho...     4.3   \n",
       "2  A beautiful tropical fish tank live wallpaper!...     4.1   \n",
       "\n",
       "   Number of ratings  Price  \\\n",
       "0            1438259  $0.00   \n",
       "1              18147  $0.00   \n",
       "2              62145  $0.00   \n",
       "\n",
       "                                        Related apps  \\\n",
       "0  {com.jsdfproductions.ctatrackerpro, com.alk.co...   \n",
       "1  {colfore.wallpaper.snowfree, com.tabsoft.wallp...   \n",
       "2  {com.convisual.lwp.fishometerlite, com.accessl...   \n",
       "\n",
       "   Dangerous permissions count  Safe permissions count  ...  \\\n",
       "0                         17.0                       8  ...   \n",
       "1                          0.0                       0  ...   \n",
       "2                          0.0                       0  ...   \n",
       "\n",
       "   Your personal information : read Browser's history and bookmarks (D)  \\\n",
       "0                                                  0                      \n",
       "1                                                  0                      \n",
       "2                                                  0                      \n",
       "\n",
       "   Your personal information : read calendar events (D)  \\\n",
       "0                                                  0      \n",
       "1                                                  0      \n",
       "2                                                  0      \n",
       "\n",
       "   Your personal information : read contact data (D)  \\\n",
       "0                                                  1   \n",
       "1                                                  0   \n",
       "2                                                  0   \n",
       "\n",
       "   Your personal information : read sensitive log data (D)  \\\n",
       "0                                                  0         \n",
       "1                                                  0         \n",
       "2                                                  0         \n",
       "\n",
       "   Your personal information : read user defined dictionary (D)  \\\n",
       "0                                                  0              \n",
       "1                                                  0              \n",
       "2                                                  0              \n",
       "\n",
       "   Your personal information : retrieve system internal state (S)  \\\n",
       "0                                                  0                \n",
       "1                                                  0                \n",
       "2                                                  0                \n",
       "\n",
       "   Your personal information : set alarm in alarm clock (S)  \\\n",
       "0                                                  0          \n",
       "1                                                  0          \n",
       "2                                                  0          \n",
       "\n",
       "   Your personal information : write Browser's history and bookmarks (D)  \\\n",
       "0                                                  0                       \n",
       "1                                                  0                       \n",
       "2                                                  0                       \n",
       "\n",
       "   Your personal information : write contact data (D)  \\\n",
       "0                                                  1    \n",
       "1                                                  0    \n",
       "2                                                  0    \n",
       "\n",
       "   Your personal information : write to user defined dictionary (S)  \n",
       "0                                                  0                 \n",
       "1                                                  0                 \n",
       "2                                                  0                 \n",
       "\n",
       "[3 rows x 183 columns]"
      ]
     },
     "execution_count": 4,
     "metadata": {},
     "output_type": "execute_result"
    }
   ],
   "source": [
    "df.head(n=3)"
   ]
  },
  {
   "cell_type": "markdown",
   "metadata": {},
   "source": [
    "### Part B: Convert each app into a \"document\" [0 points]\n",
    "\n",
    "The code below does the following:\n",
    "\n",
    "   * Filter out all the columns except the permission columns.\n",
    "   * Convert this dataframe into a numpy matrix.\n",
    "\n",
    "There are thus 180295 apps (documents) and 173 permissions (words).\n",
    "\n",
    "   - `X` is the \"document\" or \"word-frequency\" matrix.\n",
    "   - `permission_columns` contains the words ordered by their column index in X.\n",
    "   - `app_names` contains the application names ordered by their row index in X.\n",
    "   - `app_ratings` contains the *number* of application ratings (not the ratings themselves)."
   ]
  },
  {
   "cell_type": "code",
   "execution_count": 5,
   "metadata": {},
   "outputs": [],
   "source": [
    "permission_columns = list(df.columns[10:])\n",
    "app_names = list(df[\"App\"])\n",
    "app_ratings = np.array(df[\"Number of ratings\"])\n",
    "df_perms = df[permission_columns]\n",
    "X = df_perms.values\n"
   ]
  },
  {
   "cell_type": "code",
   "execution_count": 6,
   "metadata": {},
   "outputs": [],
   "source": [
    "del df # uncomment to free up RAM\n",
    "del df_perms # uncomment to free up RAM"
   ]
  },
  {
   "cell_type": "code",
   "execution_count": 7,
   "metadata": {},
   "outputs": [
    {
     "data": {
      "text/plain": [
       "180295"
      ]
     },
     "execution_count": 7,
     "metadata": {},
     "output_type": "execute_result"
    }
   ],
   "source": [
    "len(app_names)"
   ]
  },
  {
   "cell_type": "code",
   "execution_count": 8,
   "metadata": {},
   "outputs": [
    {
     "data": {
      "text/plain": [
       "['Default : Access DRM content. (S)',\n",
       " 'Default : Access Email provider data (S)',\n",
       " 'Default : Access all system downloads (S)',\n",
       " 'Default : Access download manager. (S)',\n",
       " 'Default : Advanced download manager functions. (S)',\n",
       " 'Default : Audio File Access (S)',\n",
       " 'Default : Install DRM content. (S)',\n",
       " 'Default : Modify Google service configuration (S)',\n",
       " 'Default : Modify Google settings (S)',\n",
       " 'Default : Move application resources (S)',\n",
       " 'Default : Read Google settings (S)',\n",
       " 'Default : Send download notifications. (S)',\n",
       " 'Default : Voice Search Shortcuts (S)',\n",
       " 'Default : access SurfaceFlinger (S)',\n",
       " 'Default : access checkin properties (S)',\n",
       " 'Default : access the cache filesystem (S)',\n",
       " 'Default : access to passwords for Google accounts (S)',\n",
       " 'Default : act as an account authenticator (S)',\n",
       " 'Default : bind to a wallpaper (S)',\n",
       " 'Default : bind to an input method (S)',\n",
       " 'Default : change screen orientation (S)',\n",
       " 'Default : coarse (network-based) location (S)',\n",
       " 'Default : control location update notifications (S)',\n",
       " 'Default : control system backup and restore (S)',\n",
       " 'Default : delete applications (S)',\n",
       " \"Default : delete other applications' caches (S)\",\n",
       " \"Default : delete other applications' data (S)\",\n",
       " 'Default : directly call any phone numbers (S)',\n",
       " 'Default : directly install applications (S)',\n",
       " 'Default : disable or modify status bar (S)',\n",
       " 'Default : discover known accounts (S)',\n",
       " 'Default : display unauthorized windows (S)',\n",
       " 'Default : enable or disable application components (S)',\n",
       " 'Default : force application to close (S)',\n",
       " 'Default : force device reboot (S)',\n",
       " 'Default : full Internet access (S)',\n",
       " 'Default : interact with a device admin (S)',\n",
       " 'Default : manage application tokens (S)',\n",
       " 'Default : mock location sources for testing (S)',\n",
       " 'Default : modify battery statistics (S)',\n",
       " 'Default : modify secure system settings (S)',\n",
       " 'Default : modify the Google services map (S)',\n",
       " 'Default : modify/delete USB storage contents modify/delete SD card contents (S)',\n",
       " 'Default : monitor and control all application launching (S)',\n",
       " 'Default : partial shutdown (S)',\n",
       " 'Default : permanently disable device (S)',\n",
       " 'Default : permission to install a location provider (S)',\n",
       " 'Default : power device on or off (S)',\n",
       " 'Default : press keys and control buttons (S)',\n",
       " 'Default : prevent app switches (S)',\n",
       " 'Default : read frame buffer (S)',\n",
       " 'Default : read instant messages (S)',\n",
       " 'Default : read phone state and identity (S)',\n",
       " 'Default : record what you type and actions you take (S)',\n",
       " 'Default : reset system to factory defaults (S)',\n",
       " 'Default : run in factory test mode (S)',\n",
       " 'Default : set time (S)',\n",
       " 'Default : set wallpaper size hints (S)',\n",
       " 'Default : start IM service (S)',\n",
       " 'Default : update component usage statistics (S)',\n",
       " 'Default : write contact data (S)',\n",
       " 'Default : write instant messages (S)',\n",
       " 'Development tools : enable application debugging (D)',\n",
       " 'Development tools : limit number of running processes (D)',\n",
       " 'Development tools : make all background applications close (D)',\n",
       " 'Development tools : send Linux signals to applications (D)',\n",
       " 'Hardware controls : change your audio settings (D)',\n",
       " 'Hardware controls : control flashlight (S)',\n",
       " 'Hardware controls : control vibrator (S)',\n",
       " 'Hardware controls : record audio (D)',\n",
       " 'Hardware controls : take pictures and videos (D)',\n",
       " 'Hardware controls : test hardware (S)',\n",
       " 'Network communication : Broadcast data messages to applications. (S)',\n",
       " 'Network communication : control Near Field Communication (D)',\n",
       " 'Network communication : create Bluetooth connections (D)',\n",
       " 'Network communication : download files without notification (S)',\n",
       " 'Network communication : full Internet access (D)',\n",
       " 'Network communication : make/receive Internet calls (D)',\n",
       " 'Network communication : receive data from Internet (S)',\n",
       " 'Network communication : view Wi-Fi state (S)',\n",
       " 'Network communication : view network state (S)',\n",
       " 'Phone calls : intercept outgoing calls (D)',\n",
       " 'Phone calls : modify phone state (S)',\n",
       " 'Phone calls : read phone state and identity (D)',\n",
       " 'Services that cost you money : directly call phone numbers (D)',\n",
       " 'Services that cost you money : send SMS messages (D)',\n",
       " 'Storage : modify/delete USB storage contents modify/delete SD card contents (D)',\n",
       " 'System tools : allow Wi-Fi Multicast reception (D)',\n",
       " 'System tools : automatically start at boot (S)',\n",
       " 'System tools : bluetooth administration (D)',\n",
       " 'System tools : change Wi-Fi state (D)',\n",
       " 'System tools : change background data usage setting (S)',\n",
       " 'System tools : change network connectivity (D)',\n",
       " 'System tools : change your UI settings (D)',\n",
       " 'System tools : delete all application cache data (D)',\n",
       " 'System tools : disable keylock (D)',\n",
       " 'System tools : display system-level alerts (D)',\n",
       " 'System tools : expand/collapse status bar (S)',\n",
       " 'System tools : force stop other applications (S)',\n",
       " 'System tools : format external storage (D)',\n",
       " 'System tools : kill background processes (S)',\n",
       " 'System tools : make application always run (D)',\n",
       " 'System tools : measure application storage space (S)',\n",
       " 'System tools : modify global animation speed (D)',\n",
       " 'System tools : modify global system settings (D)',\n",
       " 'System tools : mount and unmount filesystems (D)',\n",
       " 'System tools : prevent device from sleeping (D)',\n",
       " 'System tools : read subscribed feeds (S)',\n",
       " 'System tools : read sync settings (S)',\n",
       " 'System tools : read sync statistics (S)',\n",
       " 'System tools : read/write to resources owned by diag (S)',\n",
       " 'System tools : reorder running applications (D)',\n",
       " 'System tools : retrieve running applications (D)',\n",
       " 'System tools : send package removed broadcast (S)',\n",
       " 'System tools : send sticky broadcast (S)',\n",
       " 'System tools : set preferred applications (S)',\n",
       " 'System tools : set time zone (D)',\n",
       " 'System tools : set wallpaper (S)',\n",
       " 'System tools : set wallpaper size hints (S)',\n",
       " 'System tools : write Access Point Name settings (D)',\n",
       " 'System tools : write subscribed feeds (D)',\n",
       " 'System tools : write sync settings (D)',\n",
       " 'Your accounts : Blogger (D)',\n",
       " 'Your accounts : Google App Engine (D)',\n",
       " 'Your accounts : Google Docs (D)',\n",
       " 'Your accounts : Google Finance (D)',\n",
       " 'Your accounts : Google Maps (D)',\n",
       " 'Your accounts : Google Spreadsheets (D)',\n",
       " 'Your accounts : Google Voice (D)',\n",
       " 'Your accounts : Google mail (D)',\n",
       " 'Your accounts : Picasa Web Albums (D)',\n",
       " 'Your accounts : YouTube (D)',\n",
       " 'Your accounts : YouTube usernames (D)',\n",
       " 'Your accounts : access all Google services (S)',\n",
       " 'Your accounts : access other Google services (D)',\n",
       " 'Your accounts : act as an account authenticator (D)',\n",
       " 'Your accounts : act as the AccountManagerService (S)',\n",
       " 'Your accounts : contacts data in Google accounts (D)',\n",
       " 'Your accounts : discover known accounts (S)',\n",
       " 'Your accounts : manage the accounts list (D)',\n",
       " 'Your accounts : read Google service configuration (S)',\n",
       " 'Your accounts : use the authentication credentials of an account (D)',\n",
       " 'Your accounts : view configured accounts (S)',\n",
       " 'Your location : access extra location provider commands (S)',\n",
       " 'Your location : coarse (network-based) location (D)',\n",
       " 'Your location : fine (GPS) location (D)',\n",
       " 'Your location : mock location sources for testing (D)',\n",
       " 'Your messages : Read Email attachments (D)',\n",
       " 'Your messages : Send Gmail (S)',\n",
       " 'Your messages : edit SMS or MMS (D)',\n",
       " 'Your messages : modify Gmail (D)',\n",
       " 'Your messages : read Gmail (D)',\n",
       " 'Your messages : read Gmail attachment previews (D)',\n",
       " 'Your messages : read SMS or MMS (D)',\n",
       " 'Your messages : read instant messages (D)',\n",
       " 'Your messages : receive MMS (D)',\n",
       " 'Your messages : receive SMS (D)',\n",
       " 'Your messages : receive WAP (D)',\n",
       " 'Your messages : send SMS-received broadcast (S)',\n",
       " 'Your messages : send WAP-PUSH-received broadcast (S)',\n",
       " 'Your messages : write instant messages (D)',\n",
       " 'Your personal information : add or modify calendar events and send email to guests (D)',\n",
       " 'Your personal information : choose widgets (S)',\n",
       " \"Your personal information : read Browser's history and bookmarks (D)\",\n",
       " 'Your personal information : read calendar events (D)',\n",
       " 'Your personal information : read contact data (D)',\n",
       " 'Your personal information : read sensitive log data (D)',\n",
       " 'Your personal information : read user defined dictionary (D)',\n",
       " 'Your personal information : retrieve system internal state (S)',\n",
       " 'Your personal information : set alarm in alarm clock (S)',\n",
       " \"Your personal information : write Browser's history and bookmarks (D)\",\n",
       " 'Your personal information : write contact data (D)',\n",
       " 'Your personal information : write to user defined dictionary (S)']"
      ]
     },
     "execution_count": 8,
     "metadata": {},
     "output_type": "execute_result"
    }
   ],
   "source": [
    "permission_columns"
   ]
  },
  {
   "cell_type": "code",
   "execution_count": 9,
   "metadata": {},
   "outputs": [
    {
     "data": {
      "text/plain": [
       "(180295, 173)"
      ]
     },
     "execution_count": 9,
     "metadata": {},
     "output_type": "execute_result"
    }
   ],
   "source": [
    "X.shape"
   ]
  },
  {
   "cell_type": "markdown",
   "metadata": {},
   "source": [
    "### Part C: Downweight \"stopwords\" [2.5 points]\n",
    "\n",
    "There are some permissions requested by almost all applications (like \"INTERNET\"), they are similar to stop-words (\"the\", \"and\", etc.) in natural language. We can downweight them by TF-IDF normalization.\n",
    "\n",
    "   * Use the `TfidfTransformer` class in `scikit-learn` to transform X."
   ]
  },
  {
   "cell_type": "code",
   "execution_count": 10,
   "metadata": {},
   "outputs": [],
   "source": [
    "# TfidfTransformer\n",
    "from sklearn.feature_extraction.text import TfidfTransformer\n",
    "\n",
    "# transform the data\n",
    "tfidf = TfidfTransformer()\n",
    "X_tfidf = tfidf.fit_transform(X)"
   ]
  },
  {
   "cell_type": "code",
   "execution_count": 79,
   "metadata": {},
   "outputs": [
    {
     "data": {
      "text/plain": [
       "['Default : Access DRM content. (S)',\n",
       " 'Default : Access Email provider data (S)',\n",
       " 'Default : Access all system downloads (S)',\n",
       " 'Default : Access download manager. (S)',\n",
       " 'Default : Advanced download manager functions. (S)',\n",
       " 'Default : Audio File Access (S)',\n",
       " 'Default : Install DRM content. (S)',\n",
       " 'Default : Modify Google service configuration (S)',\n",
       " 'Default : Modify Google settings (S)',\n",
       " 'Default : Move application resources (S)',\n",
       " 'Default : Read Google settings (S)',\n",
       " 'Default : Send download notifications. (S)',\n",
       " 'Default : Voice Search Shortcuts (S)',\n",
       " 'Default : access SurfaceFlinger (S)',\n",
       " 'Default : access checkin properties (S)',\n",
       " 'Default : access the cache filesystem (S)',\n",
       " 'Default : access to passwords for Google accounts (S)',\n",
       " 'Default : act as an account authenticator (S)',\n",
       " 'Default : bind to a wallpaper (S)',\n",
       " 'Default : bind to an input method (S)',\n",
       " 'Default : change screen orientation (S)',\n",
       " 'Default : coarse (network-based) location (S)',\n",
       " 'Default : control location update notifications (S)',\n",
       " 'Default : control system backup and restore (S)',\n",
       " 'Default : delete applications (S)',\n",
       " \"Default : delete other applications' caches (S)\",\n",
       " \"Default : delete other applications' data (S)\",\n",
       " 'Default : directly call any phone numbers (S)',\n",
       " 'Default : directly install applications (S)',\n",
       " 'Default : disable or modify status bar (S)',\n",
       " 'Default : discover known accounts (S)',\n",
       " 'Default : display unauthorized windows (S)',\n",
       " 'Default : enable or disable application components (S)',\n",
       " 'Default : force application to close (S)',\n",
       " 'Default : force device reboot (S)',\n",
       " 'Default : full Internet access (S)',\n",
       " 'Default : interact with a device admin (S)',\n",
       " 'Default : manage application tokens (S)',\n",
       " 'Default : mock location sources for testing (S)',\n",
       " 'Default : modify battery statistics (S)',\n",
       " 'Default : modify secure system settings (S)',\n",
       " 'Default : modify the Google services map (S)',\n",
       " 'Default : modify/delete USB storage contents modify/delete SD card contents (S)',\n",
       " 'Default : monitor and control all application launching (S)',\n",
       " 'Default : partial shutdown (S)',\n",
       " 'Default : permanently disable device (S)',\n",
       " 'Default : permission to install a location provider (S)',\n",
       " 'Default : power device on or off (S)',\n",
       " 'Default : press keys and control buttons (S)',\n",
       " 'Default : prevent app switches (S)',\n",
       " 'Default : read frame buffer (S)',\n",
       " 'Default : read instant messages (S)',\n",
       " 'Default : read phone state and identity (S)',\n",
       " 'Default : record what you type and actions you take (S)',\n",
       " 'Default : reset system to factory defaults (S)',\n",
       " 'Default : run in factory test mode (S)',\n",
       " 'Default : set time (S)',\n",
       " 'Default : set wallpaper size hints (S)',\n",
       " 'Default : start IM service (S)',\n",
       " 'Default : update component usage statistics (S)',\n",
       " 'Default : write contact data (S)',\n",
       " 'Default : write instant messages (S)',\n",
       " 'Development tools : enable application debugging (D)',\n",
       " 'Development tools : limit number of running processes (D)',\n",
       " 'Development tools : make all background applications close (D)',\n",
       " 'Development tools : send Linux signals to applications (D)',\n",
       " 'Hardware controls : change your audio settings (D)',\n",
       " 'Hardware controls : control flashlight (S)',\n",
       " 'Hardware controls : control vibrator (S)',\n",
       " 'Hardware controls : record audio (D)',\n",
       " 'Hardware controls : take pictures and videos (D)',\n",
       " 'Hardware controls : test hardware (S)',\n",
       " 'Network communication : Broadcast data messages to applications. (S)',\n",
       " 'Network communication : control Near Field Communication (D)',\n",
       " 'Network communication : create Bluetooth connections (D)',\n",
       " 'Network communication : download files without notification (S)',\n",
       " 'Network communication : full Internet access (D)',\n",
       " 'Network communication : make/receive Internet calls (D)',\n",
       " 'Network communication : receive data from Internet (S)',\n",
       " 'Network communication : view Wi-Fi state (S)',\n",
       " 'Network communication : view network state (S)',\n",
       " 'Phone calls : intercept outgoing calls (D)',\n",
       " 'Phone calls : modify phone state (S)',\n",
       " 'Phone calls : read phone state and identity (D)',\n",
       " 'Services that cost you money : directly call phone numbers (D)',\n",
       " 'Services that cost you money : send SMS messages (D)',\n",
       " 'Storage : modify/delete USB storage contents modify/delete SD card contents (D)',\n",
       " 'System tools : allow Wi-Fi Multicast reception (D)',\n",
       " 'System tools : automatically start at boot (S)',\n",
       " 'System tools : bluetooth administration (D)',\n",
       " 'System tools : change Wi-Fi state (D)',\n",
       " 'System tools : change background data usage setting (S)',\n",
       " 'System tools : change network connectivity (D)',\n",
       " 'System tools : change your UI settings (D)',\n",
       " 'System tools : delete all application cache data (D)',\n",
       " 'System tools : disable keylock (D)',\n",
       " 'System tools : display system-level alerts (D)',\n",
       " 'System tools : expand/collapse status bar (S)',\n",
       " 'System tools : force stop other applications (S)',\n",
       " 'System tools : format external storage (D)',\n",
       " 'System tools : kill background processes (S)',\n",
       " 'System tools : make application always run (D)',\n",
       " 'System tools : measure application storage space (S)',\n",
       " 'System tools : modify global animation speed (D)',\n",
       " 'System tools : modify global system settings (D)',\n",
       " 'System tools : mount and unmount filesystems (D)',\n",
       " 'System tools : prevent device from sleeping (D)',\n",
       " 'System tools : read subscribed feeds (S)',\n",
       " 'System tools : read sync settings (S)',\n",
       " 'System tools : read sync statistics (S)',\n",
       " 'System tools : read/write to resources owned by diag (S)',\n",
       " 'System tools : reorder running applications (D)',\n",
       " 'System tools : retrieve running applications (D)',\n",
       " 'System tools : send package removed broadcast (S)',\n",
       " 'System tools : send sticky broadcast (S)',\n",
       " 'System tools : set preferred applications (S)',\n",
       " 'System tools : set time zone (D)',\n",
       " 'System tools : set wallpaper (S)',\n",
       " 'System tools : set wallpaper size hints (S)',\n",
       " 'System tools : write Access Point Name settings (D)',\n",
       " 'System tools : write subscribed feeds (D)',\n",
       " 'System tools : write sync settings (D)',\n",
       " 'Your accounts : Blogger (D)',\n",
       " 'Your accounts : Google App Engine (D)',\n",
       " 'Your accounts : Google Docs (D)',\n",
       " 'Your accounts : Google Finance (D)',\n",
       " 'Your accounts : Google Maps (D)',\n",
       " 'Your accounts : Google Spreadsheets (D)',\n",
       " 'Your accounts : Google Voice (D)',\n",
       " 'Your accounts : Google mail (D)',\n",
       " 'Your accounts : Picasa Web Albums (D)',\n",
       " 'Your accounts : YouTube (D)',\n",
       " 'Your accounts : YouTube usernames (D)',\n",
       " 'Your accounts : access all Google services (S)',\n",
       " 'Your accounts : access other Google services (D)',\n",
       " 'Your accounts : act as an account authenticator (D)',\n",
       " 'Your accounts : act as the AccountManagerService (S)',\n",
       " 'Your accounts : contacts data in Google accounts (D)',\n",
       " 'Your accounts : discover known accounts (S)',\n",
       " 'Your accounts : manage the accounts list (D)',\n",
       " 'Your accounts : read Google service configuration (S)',\n",
       " 'Your accounts : use the authentication credentials of an account (D)',\n",
       " 'Your accounts : view configured accounts (S)',\n",
       " 'Your location : access extra location provider commands (S)',\n",
       " 'Your location : coarse (network-based) location (D)',\n",
       " 'Your location : fine (GPS) location (D)',\n",
       " 'Your location : mock location sources for testing (D)',\n",
       " 'Your messages : Read Email attachments (D)',\n",
       " 'Your messages : Send Gmail (S)',\n",
       " 'Your messages : edit SMS or MMS (D)',\n",
       " 'Your messages : modify Gmail (D)',\n",
       " 'Your messages : read Gmail (D)',\n",
       " 'Your messages : read Gmail attachment previews (D)',\n",
       " 'Your messages : read SMS or MMS (D)',\n",
       " 'Your messages : read instant messages (D)',\n",
       " 'Your messages : receive MMS (D)',\n",
       " 'Your messages : receive SMS (D)',\n",
       " 'Your messages : receive WAP (D)',\n",
       " 'Your messages : send SMS-received broadcast (S)',\n",
       " 'Your messages : send WAP-PUSH-received broadcast (S)',\n",
       " 'Your messages : write instant messages (D)',\n",
       " 'Your personal information : add or modify calendar events and send email to guests (D)',\n",
       " 'Your personal information : choose widgets (S)',\n",
       " \"Your personal information : read Browser's history and bookmarks (D)\",\n",
       " 'Your personal information : read calendar events (D)',\n",
       " 'Your personal information : read contact data (D)',\n",
       " 'Your personal information : read sensitive log data (D)',\n",
       " 'Your personal information : read user defined dictionary (D)',\n",
       " 'Your personal information : retrieve system internal state (S)',\n",
       " 'Your personal information : set alarm in alarm clock (S)',\n",
       " \"Your personal information : write Browser's history and bookmarks (D)\",\n",
       " 'Your personal information : write contact data (D)',\n",
       " 'Your personal information : write to user defined dictionary (S)']"
      ]
     },
     "execution_count": 79,
     "metadata": {},
     "output_type": "execute_result"
    }
   ],
   "source": [
    "permission_columns"
   ]
  },
  {
   "cell_type": "markdown",
   "metadata": {},
   "source": [
    "### Part D: Discover 10 \"topics\" [2.5 points]\n",
    "\n",
    "   * Use the `LatentDirichletAllocation` class in `scikit-learn` to fit 10 topics to the data.\n",
    "   * Use 10 max iterations, set `n_jobs=-1` to use all cores on your machine (if it helps).\n",
    "   * Feel free to understand and play around with other parameters.\n",
    "   * This may take around 3 minutes to run."
   ]
  },
  {
   "cell_type": "code",
   "execution_count": 11,
   "metadata": {},
   "outputs": [
    {
     "name": "stdout",
     "output_type": "stream",
     "text": [
      "CPU times: user 7.36 s, sys: 744 ms, total: 8.1 s\n",
      "Wall time: 35.7 s\n"
     ]
    },
    {
     "data": {
      "text/html": [
       "<style>#sk-container-id-1 {color: black;}#sk-container-id-1 pre{padding: 0;}#sk-container-id-1 div.sk-toggleable {background-color: white;}#sk-container-id-1 label.sk-toggleable__label {cursor: pointer;display: block;width: 100%;margin-bottom: 0;padding: 0.3em;box-sizing: border-box;text-align: center;}#sk-container-id-1 label.sk-toggleable__label-arrow:before {content: \"▸\";float: left;margin-right: 0.25em;color: #696969;}#sk-container-id-1 label.sk-toggleable__label-arrow:hover:before {color: black;}#sk-container-id-1 div.sk-estimator:hover label.sk-toggleable__label-arrow:before {color: black;}#sk-container-id-1 div.sk-toggleable__content {max-height: 0;max-width: 0;overflow: hidden;text-align: left;background-color: #f0f8ff;}#sk-container-id-1 div.sk-toggleable__content pre {margin: 0.2em;color: black;border-radius: 0.25em;background-color: #f0f8ff;}#sk-container-id-1 input.sk-toggleable__control:checked~div.sk-toggleable__content {max-height: 200px;max-width: 100%;overflow: auto;}#sk-container-id-1 input.sk-toggleable__control:checked~label.sk-toggleable__label-arrow:before {content: \"▾\";}#sk-container-id-1 div.sk-estimator input.sk-toggleable__control:checked~label.sk-toggleable__label {background-color: #d4ebff;}#sk-container-id-1 div.sk-label input.sk-toggleable__control:checked~label.sk-toggleable__label {background-color: #d4ebff;}#sk-container-id-1 input.sk-hidden--visually {border: 0;clip: rect(1px 1px 1px 1px);clip: rect(1px, 1px, 1px, 1px);height: 1px;margin: -1px;overflow: hidden;padding: 0;position: absolute;width: 1px;}#sk-container-id-1 div.sk-estimator {font-family: monospace;background-color: #f0f8ff;border: 1px dotted black;border-radius: 0.25em;box-sizing: border-box;margin-bottom: 0.5em;}#sk-container-id-1 div.sk-estimator:hover {background-color: #d4ebff;}#sk-container-id-1 div.sk-parallel-item::after {content: \"\";width: 100%;border-bottom: 1px solid gray;flex-grow: 1;}#sk-container-id-1 div.sk-label:hover label.sk-toggleable__label {background-color: #d4ebff;}#sk-container-id-1 div.sk-serial::before {content: \"\";position: absolute;border-left: 1px solid gray;box-sizing: border-box;top: 0;bottom: 0;left: 50%;z-index: 0;}#sk-container-id-1 div.sk-serial {display: flex;flex-direction: column;align-items: center;background-color: white;padding-right: 0.2em;padding-left: 0.2em;position: relative;}#sk-container-id-1 div.sk-item {position: relative;z-index: 1;}#sk-container-id-1 div.sk-parallel {display: flex;align-items: stretch;justify-content: center;background-color: white;position: relative;}#sk-container-id-1 div.sk-item::before, #sk-container-id-1 div.sk-parallel-item::before {content: \"\";position: absolute;border-left: 1px solid gray;box-sizing: border-box;top: 0;bottom: 0;left: 50%;z-index: -1;}#sk-container-id-1 div.sk-parallel-item {display: flex;flex-direction: column;z-index: 1;position: relative;background-color: white;}#sk-container-id-1 div.sk-parallel-item:first-child::after {align-self: flex-end;width: 50%;}#sk-container-id-1 div.sk-parallel-item:last-child::after {align-self: flex-start;width: 50%;}#sk-container-id-1 div.sk-parallel-item:only-child::after {width: 0;}#sk-container-id-1 div.sk-dashed-wrapped {border: 1px dashed gray;margin: 0 0.4em 0.5em 0.4em;box-sizing: border-box;padding-bottom: 0.4em;background-color: white;}#sk-container-id-1 div.sk-label label {font-family: monospace;font-weight: bold;display: inline-block;line-height: 1.2em;}#sk-container-id-1 div.sk-label-container {text-align: center;}#sk-container-id-1 div.sk-container {/* jupyter's `normalize.less` sets `[hidden] { display: none; }` but bootstrap.min.css set `[hidden] { display: none !important; }` so we also need the `!important` here to be able to override the default hidden behavior on the sphinx rendered scikit-learn.org. See: https://github.com/scikit-learn/scikit-learn/issues/21755 */display: inline-block !important;position: relative;}#sk-container-id-1 div.sk-text-repr-fallback {display: none;}</style><div id=\"sk-container-id-1\" class=\"sk-top-container\"><div class=\"sk-text-repr-fallback\"><pre>LatentDirichletAllocation(n_jobs=-1, random_state=0)</pre><b>In a Jupyter environment, please rerun this cell to show the HTML representation or trust the notebook. <br />On GitHub, the HTML representation is unable to render, please try loading this page with nbviewer.org.</b></div><div class=\"sk-container\" hidden><div class=\"sk-item\"><div class=\"sk-estimator sk-toggleable\"><input class=\"sk-toggleable__control sk-hidden--visually\" id=\"sk-estimator-id-1\" type=\"checkbox\" checked><label for=\"sk-estimator-id-1\" class=\"sk-toggleable__label sk-toggleable__label-arrow\">LatentDirichletAllocation</label><div class=\"sk-toggleable__content\"><pre>LatentDirichletAllocation(n_jobs=-1, random_state=0)</pre></div></div></div></div></div>"
      ],
      "text/plain": [
       "LatentDirichletAllocation(n_jobs=-1, random_state=0)"
      ]
     },
     "execution_count": 11,
     "metadata": {},
     "output_type": "execute_result"
    }
   ],
   "source": [
    "%%time\n",
    "\n",
    "#  Use the `LatentDirichletAllocation` class in `scikit-learn` to fit 10 topics to the data.\n",
    "from sklearn.decomposition import LatentDirichletAllocation\n",
    "\n",
    "lda = LatentDirichletAllocation(n_components=10, random_state=0, n_jobs=-1)\n",
    "lda.fit(X_tfidf)\n"
   ]
  },
  {
   "cell_type": "markdown",
   "metadata": {},
   "source": [
    "Now each app can be viewed as a distribution over these 10 topics, and each topic is a distribution over all the permissions in the data."
   ]
  },
  {
   "cell_type": "markdown",
   "metadata": {},
   "source": [
    "### Part E: List the top 10 \"words\" in each topic [15 points]\n",
    "\n",
    "Do any of the topics correspond to meaningful app \"purposes\"? List the ones you find meaningful below:\n",
    "\n",
    "#### Answer\n",
    "Based on the top keywords, it seems like at least some of the applications clusters can be meaningfully interprated. For example \n",
    "   * Topic #0 - location, contact and personal contact based recommendation, thus it seem to be some kind of location-based applicatio\n",
    " "
   ]
  },
  {
   "cell_type": "markdown",
   "metadata": {},
   "source": [
    "**Topic #0: - Seem to be some kind of location-based application**\n",
    "\n",
    "Your location : coarse (network-based) location (D), Your location : fine (GPS) location (D), Network communication : full Internet access (D), Network communication : view network state (S), Phone calls : read phone state and identity (D), Services that cost you money : directly call phone numbers (D), Storage : modify/delete USB storage contents modify/delete SD card contents (D), Hardware controls : control vibrator (S), System tools : automatically start at boot (S), Your personal information : read Browser's history and bookmarks (D)\n",
    "\n",
    "\n",
    "Topic #1: \n",
    "\n",
    "Hardware controls : control vibrator (S), Network communication : full Internet access (D), Network communication : view network state (S), Storage : modify/delete USB storage contents modify/delete SD card contents (D), System tools : disable keylock (D), Phone calls : read phone state and identity (D), System tools : prevent device from sleeping (D), Default : modify battery statistics (S), Default : change screen orientation (S), System tools : modify global system settings (D)\n",
    "\n",
    "\n",
    "Topic #2: Network communication : full Internet access (D), Network communication : view network state (S), Default : partial shutdown (S), Network communication : download files without notification (S), Default : control system backup and restore (S), Your personal information : read contact data (D), Default : reset system to factory defaults (S), System tools : modify global system settings (D), Default : monitor and control all application launching (S), Your accounts : discover known accounts (S)\n",
    "\n",
    "Topic #3: Your accounts : discover known accounts (S), Default : directly install applications (S), Storage : modify/delete USB storage contents modify/delete SD card contents (D), Your accounts : use the authentication credentials of an account (D), Network communication : view network state (S), Network communication : full Internet access (D), System tools : prevent device from sleeping (D), Your personal information : read contact data (D), Your personal information : write contact data (D), Hardware controls : control vibrator (S)\n",
    "\n",
    "\n",
    "Topic #4: System tools : prevent device from sleeping (D), Storage : modify/delete USB storage contents modify/delete SD card contents (D), Network communication : full Internet access (D), Network communication : view network state (S), System tools : automatically start at boot (S), Phone calls : read phone state and identity (D), Hardware controls : control vibrator (S), System tools : change your UI settings (D), System tools : set wallpaper size hints (S), System tools : set wallpaper (S)\n",
    "Topic #5: Storage : modify/delete USB storage contents modify/delete SD card contents (D), System tools : set wallpaper (S), Network communication : full Internet access (D), Network communication : view network state (S), Phone calls : read phone state and identity (D), System tools : mount and unmount filesystems (D), Default : bind to a wallpaper (S), Default : read phone state and identity (S), Default : access the cache filesystem (S), Default : discover known accounts (S)\n",
    "Topic #6: Hardware controls : take pictures and videos (D), Storage : modify/delete USB storage contents modify/delete SD card contents (D), Hardware controls : record audio (D), Your location : fine (GPS) location (D), Your location : coarse (network-based) location (D), Network communication : full Internet access (D), Your location : access extra location provider commands (S), Network communication : view network state (S), Your location : mock location sources for testing (D), Hardware controls : control vibrator (S)\n",
    "Topic #7: Network communication : view Wi-Fi state (S), Phone calls : read phone state and identity (D), Network communication : view network state (S), Network communication : full Internet access (D), Storage : modify/delete USB storage contents modify/delete SD card contents (D), System tools : change Wi-Fi state (D), Network communication : create Bluetooth connections (D), System tools : bluetooth administration (D), System tools : change network connectivity (D), System tools : allow Wi-Fi Multicast reception (D)\n",
    "Topic #8: System tools : retrieve running applications (D), Phone calls : read phone state and identity (D), Services that cost you money : directly call phone numbers (D), Network communication : view network state (S), Network communication : receive data from Internet (S), Network communication : full Internet access (D), Storage : modify/delete USB storage contents modify/delete SD card contents (D), System tools : prevent device from sleeping (D), Your location : fine (GPS) location (D), Hardware controls : control vibrator (S)\n",
    "\n",
    "Topic #9: Your personal information : read contact data (D), Services that cost you money : send SMS messages (D), System tools : modify global system settings (D), Phone calls : read phone state and identity (D), Your messages : receive SMS (D), Network communication : full Internet access (D), Your messages : read SMS or MMS (D), Phone calls : intercept outgoing calls (D), System tools : automatically start at boot (S), Your personal information : write contact data (D)\n"
   ]
  },
  {
   "cell_type": "code",
   "execution_count": 12,
   "metadata": {},
   "outputs": [
    {
     "name": "stdout",
     "output_type": "stream",
     "text": [
      "Topic #0: Your location : coarse (network-based) location (D), Your location : fine (GPS) location (D), Network communication : full Internet access (D), Network communication : view network state (S), Phone calls : read phone state and identity (D), Services that cost you money : directly call phone numbers (D), Storage : modify/delete USB storage contents modify/delete SD card contents (D), Hardware controls : control vibrator (S), System tools : automatically start at boot (S), Your personal information : read Browser's history and bookmarks (D)\n",
      "Topic #1: Hardware controls : control vibrator (S), Network communication : full Internet access (D), Network communication : view network state (S), Storage : modify/delete USB storage contents modify/delete SD card contents (D), System tools : disable keylock (D), Phone calls : read phone state and identity (D), System tools : prevent device from sleeping (D), Default : modify battery statistics (S), Default : change screen orientation (S), System tools : modify global system settings (D)\n",
      "Topic #2: Network communication : full Internet access (D), Network communication : view network state (S), Default : partial shutdown (S), Network communication : download files without notification (S), Default : control system backup and restore (S), Your personal information : read contact data (D), Default : reset system to factory defaults (S), System tools : modify global system settings (D), Default : monitor and control all application launching (S), Your accounts : discover known accounts (S)\n",
      "Topic #3: Your accounts : discover known accounts (S), Default : directly install applications (S), Storage : modify/delete USB storage contents modify/delete SD card contents (D), Your accounts : use the authentication credentials of an account (D), Network communication : view network state (S), Network communication : full Internet access (D), System tools : prevent device from sleeping (D), Your personal information : read contact data (D), Your personal information : write contact data (D), Hardware controls : control vibrator (S)\n",
      "Topic #4: System tools : prevent device from sleeping (D), Storage : modify/delete USB storage contents modify/delete SD card contents (D), Network communication : full Internet access (D), Network communication : view network state (S), System tools : automatically start at boot (S), Phone calls : read phone state and identity (D), Hardware controls : control vibrator (S), System tools : change your UI settings (D), System tools : set wallpaper size hints (S), System tools : set wallpaper (S)\n",
      "Topic #5: Storage : modify/delete USB storage contents modify/delete SD card contents (D), System tools : set wallpaper (S), Network communication : full Internet access (D), Network communication : view network state (S), Phone calls : read phone state and identity (D), System tools : mount and unmount filesystems (D), Default : bind to a wallpaper (S), Default : read phone state and identity (S), Default : access the cache filesystem (S), Default : discover known accounts (S)\n",
      "Topic #6: Hardware controls : take pictures and videos (D), Storage : modify/delete USB storage contents modify/delete SD card contents (D), Hardware controls : record audio (D), Your location : fine (GPS) location (D), Your location : coarse (network-based) location (D), Network communication : full Internet access (D), Your location : access extra location provider commands (S), Network communication : view network state (S), Your location : mock location sources for testing (D), Hardware controls : control vibrator (S)\n",
      "Topic #7: Network communication : view Wi-Fi state (S), Phone calls : read phone state and identity (D), Network communication : view network state (S), Network communication : full Internet access (D), Storage : modify/delete USB storage contents modify/delete SD card contents (D), System tools : change Wi-Fi state (D), Network communication : create Bluetooth connections (D), System tools : bluetooth administration (D), System tools : change network connectivity (D), System tools : allow Wi-Fi Multicast reception (D)\n",
      "Topic #8: System tools : retrieve running applications (D), Phone calls : read phone state and identity (D), Services that cost you money : directly call phone numbers (D), Network communication : view network state (S), Network communication : receive data from Internet (S), Network communication : full Internet access (D), Storage : modify/delete USB storage contents modify/delete SD card contents (D), System tools : prevent device from sleeping (D), Your location : fine (GPS) location (D), Hardware controls : control vibrator (S)\n",
      "Topic #9: Your personal information : read contact data (D), Services that cost you money : send SMS messages (D), System tools : modify global system settings (D), Phone calls : read phone state and identity (D), Your messages : receive SMS (D), Network communication : full Internet access (D), Your messages : read SMS or MMS (D), Phone calls : intercept outgoing calls (D), System tools : automatically start at boot (S), Your personal information : write contact data (D)\n",
      "\n"
     ]
    }
   ],
   "source": [
    "# list the top 10 words for each topic\n",
    "def print_top_words(model, feature_names, n_top_words):\n",
    "    for topic_idx, topic in enumerate(model.components_):\n",
    "        message = \"Topic #%d: \" % topic_idx\n",
    "        message += \", \".join([feature_names[i]\n",
    "                             for i in topic.argsort()[:-n_top_words - 1:-1]])\n",
    "        print(message)\n",
    "    print()\n",
    "\n",
    "n_top_words = 10\n",
    "print_top_words(lda, permission_columns, n_top_words)"
   ]
  },
  {
   "cell_type": "markdown",
   "metadata": {},
   "source": [
    "*** WRITE YOUR ANSWER HERE IN TEXT ***"
   ]
  },
  {
   "cell_type": "markdown",
   "metadata": {},
   "source": [
    "### Part F: For each topic, list the top 3 apps with at least 100000 ratings having the highest probability assigned to that topic [15 points]\n",
    "\n",
    "   - This further helps us understand what the topics actually mean.\n",
    "   - However, the data is noisy and this exercise may result in listing a bunch of obscure apps.\n",
    "   - Hence, filtering out all apps with less than 100000 ratings may help."
   ]
  },
  {
   "cell_type": "code",
   "execution_count": 34,
   "metadata": {},
   "outputs": [],
   "source": [
    "doc_topic_dist = lda.transform(X_tfidf)"
   ]
  },
  {
   "cell_type": "code",
   "execution_count": 35,
   "metadata": {},
   "outputs": [],
   "source": [
    "# turn the topic distribution into a DataFrame\n",
    "df_doc_topic_dist = pd.DataFrame(doc_topic_dist)\n",
    "\n",
    "# add the app names\n",
    "df_doc_topic_dist[\"App\"] = app_names\n",
    "\n",
    "# add the number of ratings\n",
    "df_doc_topic_dist[\"Number of ratings\"] = app_ratings"
   ]
  },
  {
   "cell_type": "code",
   "execution_count": 19,
   "metadata": {},
   "outputs": [
    {
     "data": {
      "text/html": [
       "<div>\n",
       "<style scoped>\n",
       "    .dataframe tbody tr th:only-of-type {\n",
       "        vertical-align: middle;\n",
       "    }\n",
       "\n",
       "    .dataframe tbody tr th {\n",
       "        vertical-align: top;\n",
       "    }\n",
       "\n",
       "    .dataframe thead th {\n",
       "        text-align: right;\n",
       "    }\n",
       "</style>\n",
       "<table border=\"1\" class=\"dataframe\">\n",
       "  <thead>\n",
       "    <tr style=\"text-align: right;\">\n",
       "      <th></th>\n",
       "      <th>0</th>\n",
       "      <th>1</th>\n",
       "      <th>2</th>\n",
       "      <th>3</th>\n",
       "      <th>4</th>\n",
       "      <th>5</th>\n",
       "      <th>6</th>\n",
       "      <th>7</th>\n",
       "      <th>8</th>\n",
       "      <th>9</th>\n",
       "      <th>App</th>\n",
       "      <th>Number of ratings</th>\n",
       "    </tr>\n",
       "  </thead>\n",
       "  <tbody>\n",
       "    <tr>\n",
       "      <th>0</th>\n",
       "      <td>0.018412</td>\n",
       "      <td>0.018413</td>\n",
       "      <td>0.018407</td>\n",
       "      <td>0.710073</td>\n",
       "      <td>0.018412</td>\n",
       "      <td>0.018407</td>\n",
       "      <td>0.018413</td>\n",
       "      <td>0.142626</td>\n",
       "      <td>0.018416</td>\n",
       "      <td>0.018421</td>\n",
       "      <td>Google Maps</td>\n",
       "      <td>1438259</td>\n",
       "    </tr>\n",
       "    <tr>\n",
       "      <th>1</th>\n",
       "      <td>0.019843</td>\n",
       "      <td>0.019846</td>\n",
       "      <td>0.019843</td>\n",
       "      <td>0.523399</td>\n",
       "      <td>0.019845</td>\n",
       "      <td>0.019843</td>\n",
       "      <td>0.019843</td>\n",
       "      <td>0.019842</td>\n",
       "      <td>0.019845</td>\n",
       "      <td>0.317850</td>\n",
       "      <td>Facebook for Android</td>\n",
       "      <td>1897622</td>\n",
       "    </tr>\n",
       "    <tr>\n",
       "      <th>2</th>\n",
       "      <td>0.023670</td>\n",
       "      <td>0.023669</td>\n",
       "      <td>0.023668</td>\n",
       "      <td>0.023679</td>\n",
       "      <td>0.023691</td>\n",
       "      <td>0.023667</td>\n",
       "      <td>0.023674</td>\n",
       "      <td>0.594844</td>\n",
       "      <td>0.215729</td>\n",
       "      <td>0.023710</td>\n",
       "      <td>Pandora?? internet radio</td>\n",
       "      <td>650856</td>\n",
       "    </tr>\n",
       "    <tr>\n",
       "      <th>3</th>\n",
       "      <td>0.028327</td>\n",
       "      <td>0.028329</td>\n",
       "      <td>0.028335</td>\n",
       "      <td>0.583973</td>\n",
       "      <td>0.028329</td>\n",
       "      <td>0.189381</td>\n",
       "      <td>0.028329</td>\n",
       "      <td>0.028328</td>\n",
       "      <td>0.028327</td>\n",
       "      <td>0.028343</td>\n",
       "      <td>Zedge Ringtones &amp; Wallpapers</td>\n",
       "      <td>240408</td>\n",
       "    </tr>\n",
       "    <tr>\n",
       "      <th>4</th>\n",
       "      <td>0.374700</td>\n",
       "      <td>0.033243</td>\n",
       "      <td>0.033252</td>\n",
       "      <td>0.033248</td>\n",
       "      <td>0.033250</td>\n",
       "      <td>0.033244</td>\n",
       "      <td>0.033242</td>\n",
       "      <td>0.033244</td>\n",
       "      <td>0.359333</td>\n",
       "      <td>0.033246</td>\n",
       "      <td>Advanced Task Killer</td>\n",
       "      <td>344603</td>\n",
       "    </tr>\n",
       "    <tr>\n",
       "      <th>...</th>\n",
       "      <td>...</td>\n",
       "      <td>...</td>\n",
       "      <td>...</td>\n",
       "      <td>...</td>\n",
       "      <td>...</td>\n",
       "      <td>...</td>\n",
       "      <td>...</td>\n",
       "      <td>...</td>\n",
       "      <td>...</td>\n",
       "      <td>...</td>\n",
       "      <td>...</td>\n",
       "      <td>...</td>\n",
       "    </tr>\n",
       "    <tr>\n",
       "      <th>90</th>\n",
       "      <td>0.023670</td>\n",
       "      <td>0.023669</td>\n",
       "      <td>0.023668</td>\n",
       "      <td>0.023679</td>\n",
       "      <td>0.023691</td>\n",
       "      <td>0.023667</td>\n",
       "      <td>0.023674</td>\n",
       "      <td>0.594844</td>\n",
       "      <td>0.215729</td>\n",
       "      <td>0.023710</td>\n",
       "      <td>Pandora® internet radio</td>\n",
       "      <td>659115</td>\n",
       "    </tr>\n",
       "    <tr>\n",
       "      <th>91</th>\n",
       "      <td>0.478908</td>\n",
       "      <td>0.022717</td>\n",
       "      <td>0.022708</td>\n",
       "      <td>0.271220</td>\n",
       "      <td>0.022735</td>\n",
       "      <td>0.090863</td>\n",
       "      <td>0.022710</td>\n",
       "      <td>0.022715</td>\n",
       "      <td>0.022712</td>\n",
       "      <td>0.022710</td>\n",
       "      <td>Dolphin Browser™ HD</td>\n",
       "      <td>219335</td>\n",
       "    </tr>\n",
       "    <tr>\n",
       "      <th>92</th>\n",
       "      <td>0.026394</td>\n",
       "      <td>0.026390</td>\n",
       "      <td>0.026392</td>\n",
       "      <td>0.026389</td>\n",
       "      <td>0.026404</td>\n",
       "      <td>0.026392</td>\n",
       "      <td>0.762467</td>\n",
       "      <td>0.026392</td>\n",
       "      <td>0.026391</td>\n",
       "      <td>0.026389</td>\n",
       "      <td>Brightest Flashlight Free™</td>\n",
       "      <td>139279</td>\n",
       "    </tr>\n",
       "    <tr>\n",
       "      <th>93</th>\n",
       "      <td>0.017476</td>\n",
       "      <td>0.017481</td>\n",
       "      <td>0.017476</td>\n",
       "      <td>0.136699</td>\n",
       "      <td>0.017488</td>\n",
       "      <td>0.017614</td>\n",
       "      <td>0.017475</td>\n",
       "      <td>0.017481</td>\n",
       "      <td>0.017483</td>\n",
       "      <td>0.723326</td>\n",
       "      <td>Handcent SMS</td>\n",
       "      <td>396166</td>\n",
       "    </tr>\n",
       "    <tr>\n",
       "      <th>94</th>\n",
       "      <td>0.030292</td>\n",
       "      <td>0.030309</td>\n",
       "      <td>0.030294</td>\n",
       "      <td>0.030291</td>\n",
       "      <td>0.030307</td>\n",
       "      <td>0.030298</td>\n",
       "      <td>0.030293</td>\n",
       "      <td>0.030294</td>\n",
       "      <td>0.727332</td>\n",
       "      <td>0.030290</td>\n",
       "      <td>Restaurant Story™</td>\n",
       "      <td>109318</td>\n",
       "    </tr>\n",
       "  </tbody>\n",
       "</table>\n",
       "<p>95 rows × 12 columns</p>\n",
       "</div>"
      ],
      "text/plain": [
       "           0         1         2         3         4         5         6  \\\n",
       "0   0.018412  0.018413  0.018407  0.710073  0.018412  0.018407  0.018413   \n",
       "1   0.019843  0.019846  0.019843  0.523399  0.019845  0.019843  0.019843   \n",
       "2   0.023670  0.023669  0.023668  0.023679  0.023691  0.023667  0.023674   \n",
       "3   0.028327  0.028329  0.028335  0.583973  0.028329  0.189381  0.028329   \n",
       "4   0.374700  0.033243  0.033252  0.033248  0.033250  0.033244  0.033242   \n",
       "..       ...       ...       ...       ...       ...       ...       ...   \n",
       "90  0.023670  0.023669  0.023668  0.023679  0.023691  0.023667  0.023674   \n",
       "91  0.478908  0.022717  0.022708  0.271220  0.022735  0.090863  0.022710   \n",
       "92  0.026394  0.026390  0.026392  0.026389  0.026404  0.026392  0.762467   \n",
       "93  0.017476  0.017481  0.017476  0.136699  0.017488  0.017614  0.017475   \n",
       "94  0.030292  0.030309  0.030294  0.030291  0.030307  0.030298  0.030293   \n",
       "\n",
       "           7         8         9                           App  \\\n",
       "0   0.142626  0.018416  0.018421                   Google Maps   \n",
       "1   0.019842  0.019845  0.317850          Facebook for Android   \n",
       "2   0.594844  0.215729  0.023710      Pandora?? internet radio   \n",
       "3   0.028328  0.028327  0.028343  Zedge Ringtones & Wallpapers   \n",
       "4   0.033244  0.359333  0.033246          Advanced Task Killer   \n",
       "..       ...       ...       ...                           ...   \n",
       "90  0.594844  0.215729  0.023710       Pandora® internet radio   \n",
       "91  0.022715  0.022712  0.022710           Dolphin Browser™ HD   \n",
       "92  0.026392  0.026391  0.026389    Brightest Flashlight Free™   \n",
       "93  0.017481  0.017483  0.723326                  Handcent SMS   \n",
       "94  0.030294  0.727332  0.030290             Restaurant Story™   \n",
       "\n",
       "    Number of ratings  \n",
       "0             1438259  \n",
       "1             1897622  \n",
       "2              650856  \n",
       "3              240408  \n",
       "4              344603  \n",
       "..                ...  \n",
       "90             659115  \n",
       "91             219335  \n",
       "92             139279  \n",
       "93             396166  \n",
       "94             109318  \n",
       "\n",
       "[95 rows x 12 columns]"
      ]
     },
     "execution_count": 19,
     "metadata": {},
     "output_type": "execute_result"
    }
   ],
   "source": [
    "df_doc_topic_dist"
   ]
  },
  {
   "cell_type": "code",
   "execution_count": 24,
   "metadata": {},
   "outputs": [
    {
     "name": "stdout",
     "output_type": "stream",
     "text": [
      "Topic  0\n",
      "['Toss It', 'Dictionary.com', 'Air Control Lite']\n",
      "\n",
      "Topic  1\n",
      "['Live Holdem Poker Pro', 'Vaulty Free Hides Pictures', 'Drag Racing']\n",
      "\n",
      "Topic  2\n",
      "['Yoo Ninja! Free', 'Angry Birds Seasons', 'Adobe Reader']\n",
      "\n",
      "Topic  3\n",
      "['Lookout Security & Antivirus', 'Antivirus Free', 'WhatsApp Messenger']\n",
      "\n",
      "Topic  4\n",
      "['Real BlackJack', 'ColorNote Notepad Notes', 'Robo Defense FREE']\n",
      "\n",
      "Topic  5\n",
      "['Paradise Island', 'World Newspapers', 'My Country']\n",
      "\n",
      "Topic  6\n",
      "['Brightest Flashlight Free™', 'Brightest Flashlight Free???', 'Tiny Flashlight + LED']\n",
      "\n",
      "Topic  7\n",
      "['Slice It!', 'Racing Moto', 'Blast Monkeys']\n",
      "\n",
      "Topic  8\n",
      "['TuneIn Radio', 'Restaurant Story???', 'Restaurant Story™']\n",
      "\n",
      "Topic  9\n",
      "['GO SMS Pro', 'chompSMS', 'PowerAMP Music Player (Trial)']\n",
      "\n"
     ]
    }
   ],
   "source": [
    "# filter out the apps that have less than 100000 ratings\n",
    "df_doc_topic_dist = df_doc_topic_dist[df_doc_topic_dist[\"Number of ratings\"] >= 100000].reset_index(drop=True)\n",
    "\n",
    "for i in range(10):\n",
    "    print(\"Topic \", i)\n",
    "    print(df_doc_topic_dist.sort_values(by=i, ascending=False).head(n=3)[\"App\"].tolist())\n",
    "    print()"
   ]
  },
  {
   "cell_type": "markdown",
   "metadata": {},
   "source": [
    "### Part G: Visualize the document-topic proportion matrix in 2-D using t-SNE [10 points]\n",
    "\n",
    "Does our reduced dimensional space contain any structure? Visualize the documents (in the topic-space) using t-SNE.\n",
    "\n",
    "   * Use `TSNE` from `scikit-learn`.\n",
    "   * Set the angle to 0.99 and init to 'PCA'. Pick any learning rate that gives you a visually pleasing result.\n",
    "   * You may `fit` TSNE to a sample of the data (>1000 documents) instead of the full data.\n",
    "   * Remember to call `fit_transform` to obtain your 2-D data.\n",
    "   * Plot the t-SNE dimensions as a scatterplot.\n",
    "   * Color each point based on its most probable topic. Make sure you include a legend (10 colors).\n",
    "   \n",
    "Clusters in the t-SNE plot indicate groups of apps that have similar topics."
   ]
  },
  {
   "cell_type": "code",
   "execution_count": 36,
   "metadata": {},
   "outputs": [],
   "source": [
    "# assign topics to each app\n",
    "df_doc_topic_dist[\"Topic\"] = df_doc_topic_dist.drop([\"App\", \"Number of ratings\"], axis=1).idxmax(axis=1)\n",
    "\n",
    "# take a subset of the data that have 2000 rows\n",
    "df_doc_topic_dist_subset = df_doc_topic_dist.sample(n=1000, random_state=42).reset_index(drop=True)"
   ]
  },
  {
   "cell_type": "markdown",
   "metadata": {},
   "source": []
  },
  {
   "cell_type": "code",
   "execution_count": 43,
   "metadata": {},
   "outputs": [
    {
     "data": {
      "text/html": [
       "<div>\n",
       "<style scoped>\n",
       "    .dataframe tbody tr th:only-of-type {\n",
       "        vertical-align: middle;\n",
       "    }\n",
       "\n",
       "    .dataframe tbody tr th {\n",
       "        vertical-align: top;\n",
       "    }\n",
       "\n",
       "    .dataframe thead th {\n",
       "        text-align: right;\n",
       "    }\n",
       "</style>\n",
       "<table border=\"1\" class=\"dataframe\">\n",
       "  <thead>\n",
       "    <tr style=\"text-align: right;\">\n",
       "      <th></th>\n",
       "      <th>0</th>\n",
       "      <th>1</th>\n",
       "      <th>2</th>\n",
       "      <th>3</th>\n",
       "      <th>4</th>\n",
       "      <th>5</th>\n",
       "      <th>6</th>\n",
       "      <th>7</th>\n",
       "      <th>8</th>\n",
       "      <th>9</th>\n",
       "      <th>App</th>\n",
       "      <th>Number of ratings</th>\n",
       "      <th>Topic</th>\n",
       "    </tr>\n",
       "  </thead>\n",
       "  <tbody>\n",
       "    <tr>\n",
       "      <th>0</th>\n",
       "      <td>0.050002</td>\n",
       "      <td>0.050004</td>\n",
       "      <td>0.050000</td>\n",
       "      <td>0.050002</td>\n",
       "      <td>0.050007</td>\n",
       "      <td>0.549970</td>\n",
       "      <td>0.050005</td>\n",
       "      <td>0.050004</td>\n",
       "      <td>0.050004</td>\n",
       "      <td>0.050002</td>\n",
       "      <td>Droid Subtitle</td>\n",
       "      <td>1</td>\n",
       "      <td>5</td>\n",
       "    </tr>\n",
       "    <tr>\n",
       "      <th>1</th>\n",
       "      <td>0.035404</td>\n",
       "      <td>0.035403</td>\n",
       "      <td>0.035421</td>\n",
       "      <td>0.035398</td>\n",
       "      <td>0.035403</td>\n",
       "      <td>0.035406</td>\n",
       "      <td>0.035399</td>\n",
       "      <td>0.035411</td>\n",
       "      <td>0.681355</td>\n",
       "      <td>0.035399</td>\n",
       "      <td>Ballroom Dancing Beginners Pt1</td>\n",
       "      <td>4</td>\n",
       "      <td>8</td>\n",
       "    </tr>\n",
       "    <tr>\n",
       "      <th>2</th>\n",
       "      <td>0.608804</td>\n",
       "      <td>0.029207</td>\n",
       "      <td>0.029187</td>\n",
       "      <td>0.029188</td>\n",
       "      <td>0.157651</td>\n",
       "      <td>0.029184</td>\n",
       "      <td>0.029188</td>\n",
       "      <td>0.029218</td>\n",
       "      <td>0.029188</td>\n",
       "      <td>0.029185</td>\n",
       "      <td>Devil Beastmaster</td>\n",
       "      <td>1</td>\n",
       "      <td>0</td>\n",
       "    </tr>\n",
       "  </tbody>\n",
       "</table>\n",
       "</div>"
      ],
      "text/plain": [
       "          0         1         2         3         4         5         6  \\\n",
       "0  0.050002  0.050004  0.050000  0.050002  0.050007  0.549970  0.050005   \n",
       "1  0.035404  0.035403  0.035421  0.035398  0.035403  0.035406  0.035399   \n",
       "2  0.608804  0.029207  0.029187  0.029188  0.157651  0.029184  0.029188   \n",
       "\n",
       "          7         8         9                             App  \\\n",
       "0  0.050004  0.050004  0.050002                  Droid Subtitle   \n",
       "1  0.035411  0.681355  0.035399  Ballroom Dancing Beginners Pt1   \n",
       "2  0.029218  0.029188  0.029185               Devil Beastmaster   \n",
       "\n",
       "   Number of ratings  Topic  \n",
       "0                  1      5  \n",
       "1                  4      8  \n",
       "2                  1      0  "
      ]
     },
     "execution_count": 43,
     "metadata": {},
     "output_type": "execute_result"
    }
   ],
   "source": [
    "df_doc_topic_dist_subset.head(n=3)"
   ]
  },
  {
   "cell_type": "code",
   "execution_count": 44,
   "metadata": {},
   "outputs": [],
   "source": [
    "# make dimensionality reduction using t-SNE\n",
    "from sklearn.manifold import TSNE\n",
    "tsne = TSNE(n_components=2, random_state=0)\n",
    "X_tsne = tsne.fit_transform(df_doc_topic_dist_subset.drop([\"App\", \"Number of ratings\", \"Topic\"], axis=1))"
   ]
  },
  {
   "cell_type": "code",
   "execution_count": 45,
   "metadata": {},
   "outputs": [
    {
     "name": "stderr",
     "output_type": "stream",
     "text": [
      "<ipython-input-45-a7d182543d91>:5: MatplotlibDeprecationWarning: The get_cmap function was deprecated in Matplotlib 3.7 and will be removed two minor releases later. Use ``matplotlib.colormaps[name]`` or ``matplotlib.colormaps.get_cmap(obj)`` instead.\n",
      "  plt.scatter(X_tsne[:, 0], X_tsne[:, 1], c=df_doc_topic_dist_subset[\"Topic\"].astype(int), cmap=plt.cm.get_cmap(\"jet\", 10))\n"
     ]
    },
    {
     "data": {
      "image/png": "[encoded data removed]",
      "text/plain": [
       "<Figure size 432x288 with 2 Axes>"
      ]
     },
     "metadata": {
      "needs_background": "light"
     },
     "output_type": "display_data"
    }
   ],
   "source": [
    "# visualize the X_tsne, using the topic as the color\n",
    "import matplotlib.pyplot as plt\n",
    "%matplotlib inline\n",
    "\n",
    "plt.scatter(X_tsne[:, 0], X_tsne[:, 1], c=df_doc_topic_dist_subset[\"Topic\"].astype(int), cmap=plt.cm.get_cmap(\"jet\", 10))\n",
    "plt.colorbar(ticks=range(10))\n",
    "plt.clim(-0.5, 9.5)\n",
    "plt.show()"
   ]
  },
  {
   "cell_type": "markdown",
   "metadata": {},
   "source": []
  },
  {
   "cell_type": "markdown",
   "metadata": {},
   "source": [
    "## Question 3: Questionnaire [5 points]\n",
    "\n",
    "Please answer this survey after you have done this homework: https://forms.gle/8i5htD6oXMr1nK958"
   ]
  }
 ],
 "metadata": {
  "kernelspec": {
   "display_name": "Python 3 (ipykernel)",
   "language": "python",
   "name": "python3"
  },
  "language_info": {
   "codemirror_mode": {
    "name": "ipython",
    "version": 3
   },
   "file_extension": ".py",
   "mimetype": "text/x-python",
   "name": "python",
   "nbconvert_exporter": "python",
   "pygments_lexer": "ipython3",
   "version": "3.8.8"
  }
 },
 "nbformat": 4,
 "nbformat_minor": 2
}
