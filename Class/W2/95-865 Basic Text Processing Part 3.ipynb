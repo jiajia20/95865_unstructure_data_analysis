{
 "cells": [
  {
   "cell_type": "markdown",
   "metadata": {},
   "source": [
    "# 95-865: Basic Text Processing Part 3\n",
    "\n",
    "Author: George H. Chen (georgechen [at symbol] cmu.edu)\n",
    "\n",
    "In this demo, we show how basic co-occurrence analysis at the character level (using n-grams) enables us to generate text using the approach by Claude Shannon (1948)."
   ]
  },
  {
   "cell_type": "code",
   "execution_count": 2,
   "metadata": {},
   "outputs": [],
   "source": [
    "import numpy as np\n",
    "from collections import Counter"
   ]
  },
  {
   "cell_type": "code",
   "execution_count": 3,
   "metadata": {
    "scrolled": true
   },
   "outputs": [],
   "source": [
    "text = open('opioid_epidemic.txt').read()  # open text file of text from opioid epidemic Wikipedia page"
   ]
  },
  {
   "cell_type": "code",
   "execution_count": 4,
   "metadata": {},
   "outputs": [],
   "source": [
    "unique_characters = np.unique(list(text))"
   ]
  },
  {
   "cell_type": "code",
   "execution_count": 5,
   "metadata": {},
   "outputs": [
    {
     "data": {
      "text/plain": [
       "array(['\\n', ' ', '\"', '$', '%', '&', \"'\", '(', ')', ',', '-', '.', '/',\n",
       "       '0', '1', '2', '3', '4', '5', '6', '7', '8', '9', ':', ';', '?',\n",
       "       'A', 'B', 'C', 'D', 'E', 'F', 'G', 'H', 'I', 'J', 'K', 'L', 'M',\n",
       "       'N', 'O', 'P', 'R', 'S', 'T', 'U', 'V', 'W', 'X', 'Y', '[', ']',\n",
       "       '^', 'a', 'b', 'c', 'd', 'e', 'f', 'g', 'h', 'i', 'j', 'k', 'l',\n",
       "       'm', 'n', 'o', 'p', 'q', 'r', 's', 't', 'u', 'v', 'w', 'x', 'y',\n",
       "       'z', '|', '–', '—', '‘', '’', '“', '”'], dtype='<U1')"
      ]
     },
     "execution_count": 5,
     "metadata": {},
     "output_type": "execute_result"
    }
   ],
   "source": [
    "unique_characters"
   ]
  },
  {
   "cell_type": "code",
   "execution_count": 6,
   "metadata": {},
   "outputs": [
    {
     "data": {
      "text/plain": [
       "86"
      ]
     },
     "execution_count": 6,
     "metadata": {},
     "output_type": "execute_result"
    }
   ],
   "source": [
    "len(unique_characters)"
   ]
  },
  {
   "cell_type": "markdown",
   "metadata": {},
   "source": [
    "### Given $L$ consecutive characters, compute distribution of $(L+1)$-st character"
   ]
  },
  {
   "cell_type": "code",
   "execution_count": 7,
   "metadata": {},
   "outputs": [],
   "source": [
    "L = 3"
   ]
  },
  {
   "cell_type": "code",
   "execution_count": 8,
   "metadata": {},
   "outputs": [],
   "source": [
    "seq_counts = Counter()\n",
    "prev_seq_counts = Counter()\n",
    "\n",
    "for idx in range(len(text) - (L + 1)):\n",
    "    seq = text[idx:idx+L+1]  # sequence of length L+1\n",
    "    prev_seq = seq[:-1]  # everything except for last character\n",
    "\n",
    "    seq_counts[seq] += 1\n",
    "    prev_seq_counts[prev_seq] += 1"
   ]
  },
  {
   "cell_type": "code",
   "execution_count": 9,
   "metadata": {},
   "outputs": [
    {
     "data": {
      "text/plain": [
       "298"
      ]
     },
     "execution_count": 9,
     "metadata": {},
     "output_type": "execute_result"
    }
   ],
   "source": [
    "prev_seq_counts['the']"
   ]
  },
  {
   "cell_type": "code",
   "execution_count": 10,
   "metadata": {},
   "outputs": [
    {
     "data": {
      "text/plain": [
       "223"
      ]
     },
     "execution_count": 10,
     "metadata": {},
     "output_type": "execute_result"
    }
   ],
   "source": [
    "seq_counts['the ']"
   ]
  },
  {
   "cell_type": "code",
   "execution_count": 9,
   "metadata": {},
   "outputs": [
    {
     "data": {
      "text/plain": [
       "[(' ', 0.8409090909090909),\n",
       " ('r', 0.09090909090909091),\n",
       " ('s', 0.045454545454545456),\n",
       " ('y', 0.022727272727272728),\n",
       " ('\\n', 0.0),\n",
       " ('\"', 0.0),\n",
       " ('$', 0.0),\n",
       " ('%', 0.0),\n",
       " ('&', 0.0),\n",
       " (\"'\", 0.0),\n",
       " ('(', 0.0),\n",
       " (')', 0.0),\n",
       " (',', 0.0),\n",
       " ('-', 0.0),\n",
       " ('.', 0.0),\n",
       " ('/', 0.0),\n",
       " ('0', 0.0),\n",
       " ('1', 0.0),\n",
       " ('2', 0.0),\n",
       " ('3', 0.0),\n",
       " ('4', 0.0),\n",
       " ('5', 0.0),\n",
       " ('6', 0.0),\n",
       " ('7', 0.0),\n",
       " ('8', 0.0),\n",
       " ('9', 0.0),\n",
       " (':', 0.0),\n",
       " (';', 0.0),\n",
       " ('?', 0.0),\n",
       " ('A', 0.0),\n",
       " ('B', 0.0),\n",
       " ('C', 0.0),\n",
       " ('D', 0.0),\n",
       " ('E', 0.0),\n",
       " ('F', 0.0),\n",
       " ('G', 0.0),\n",
       " ('H', 0.0),\n",
       " ('I', 0.0),\n",
       " ('J', 0.0),\n",
       " ('K', 0.0),\n",
       " ('L', 0.0),\n",
       " ('M', 0.0),\n",
       " ('N', 0.0),\n",
       " ('O', 0.0),\n",
       " ('P', 0.0),\n",
       " ('R', 0.0),\n",
       " ('S', 0.0),\n",
       " ('T', 0.0),\n",
       " ('U', 0.0),\n",
       " ('V', 0.0),\n",
       " ('W', 0.0),\n",
       " ('X', 0.0),\n",
       " ('Y', 0.0),\n",
       " ('[', 0.0),\n",
       " (']', 0.0),\n",
       " ('^', 0.0),\n",
       " ('a', 0.0),\n",
       " ('b', 0.0),\n",
       " ('c', 0.0),\n",
       " ('d', 0.0),\n",
       " ('e', 0.0),\n",
       " ('f', 0.0),\n",
       " ('g', 0.0),\n",
       " ('h', 0.0),\n",
       " ('i', 0.0),\n",
       " ('j', 0.0),\n",
       " ('k', 0.0),\n",
       " ('l', 0.0),\n",
       " ('m', 0.0),\n",
       " ('n', 0.0),\n",
       " ('o', 0.0),\n",
       " ('p', 0.0),\n",
       " ('q', 0.0),\n",
       " ('t', 0.0),\n",
       " ('u', 0.0),\n",
       " ('v', 0.0),\n",
       " ('w', 0.0),\n",
       " ('x', 0.0),\n",
       " ('z', 0.0),\n",
       " ('|', 0.0),\n",
       " ('–', 0.0),\n",
       " ('—', 0.0),\n",
       " ('‘', 0.0),\n",
       " ('’', 0.0),\n",
       " ('“', 0.0),\n",
       " ('”', 0.0)]"
      ]
     },
     "execution_count": 9,
     "metadata": {},
     "output_type": "execute_result"
    }
   ],
   "source": [
    "prev_seq = 'The'\n",
    "\n",
    "assert len(prev_seq) == L\n",
    "\n",
    "distribution_of_next_character = Counter()\n",
    "for character in unique_characters:\n",
    "    distribution_of_next_character[character] = \\\n",
    "        seq_counts[prev_seq + character] / prev_seq_counts[prev_seq]\n",
    "\n",
    "distribution_of_next_character.most_common()"
   ]
  },
  {
   "cell_type": "markdown",
   "metadata": {},
   "source": [
    "### Additive smoothing for handling unseen previous sequences"
   ]
  },
  {
   "cell_type": "code",
   "execution_count": 10,
   "metadata": {},
   "outputs": [
    {
     "data": {
      "text/plain": [
       "[('\\n', 0.011627906976744186),\n",
       " (' ', 0.011627906976744186),\n",
       " ('\"', 0.011627906976744186),\n",
       " ('$', 0.011627906976744186),\n",
       " ('%', 0.011627906976744186),\n",
       " ('&', 0.011627906976744186),\n",
       " (\"'\", 0.011627906976744186),\n",
       " ('(', 0.011627906976744186),\n",
       " (')', 0.011627906976744186),\n",
       " (',', 0.011627906976744186),\n",
       " ('-', 0.011627906976744186),\n",
       " ('.', 0.011627906976744186),\n",
       " ('/', 0.011627906976744186),\n",
       " ('0', 0.011627906976744186),\n",
       " ('1', 0.011627906976744186),\n",
       " ('2', 0.011627906976744186),\n",
       " ('3', 0.011627906976744186),\n",
       " ('4', 0.011627906976744186),\n",
       " ('5', 0.011627906976744186),\n",
       " ('6', 0.011627906976744186),\n",
       " ('7', 0.011627906976744186),\n",
       " ('8', 0.011627906976744186),\n",
       " ('9', 0.011627906976744186),\n",
       " (':', 0.011627906976744186),\n",
       " (';', 0.011627906976744186),\n",
       " ('?', 0.011627906976744186),\n",
       " ('A', 0.011627906976744186),\n",
       " ('B', 0.011627906976744186),\n",
       " ('C', 0.011627906976744186),\n",
       " ('D', 0.011627906976744186),\n",
       " ('E', 0.011627906976744186),\n",
       " ('F', 0.011627906976744186),\n",
       " ('G', 0.011627906976744186),\n",
       " ('H', 0.011627906976744186),\n",
       " ('I', 0.011627906976744186),\n",
       " ('J', 0.011627906976744186),\n",
       " ('K', 0.011627906976744186),\n",
       " ('L', 0.011627906976744186),\n",
       " ('M', 0.011627906976744186),\n",
       " ('N', 0.011627906976744186),\n",
       " ('O', 0.011627906976744186),\n",
       " ('P', 0.011627906976744186),\n",
       " ('R', 0.011627906976744186),\n",
       " ('S', 0.011627906976744186),\n",
       " ('T', 0.011627906976744186),\n",
       " ('U', 0.011627906976744186),\n",
       " ('V', 0.011627906976744186),\n",
       " ('W', 0.011627906976744186),\n",
       " ('X', 0.011627906976744186),\n",
       " ('Y', 0.011627906976744186),\n",
       " ('[', 0.011627906976744186),\n",
       " (']', 0.011627906976744186),\n",
       " ('^', 0.011627906976744186),\n",
       " ('a', 0.011627906976744186),\n",
       " ('b', 0.011627906976744186),\n",
       " ('c', 0.011627906976744186),\n",
       " ('d', 0.011627906976744186),\n",
       " ('e', 0.011627906976744186),\n",
       " ('f', 0.011627906976744186),\n",
       " ('g', 0.011627906976744186),\n",
       " ('h', 0.011627906976744186),\n",
       " ('i', 0.011627906976744186),\n",
       " ('j', 0.011627906976744186),\n",
       " ('k', 0.011627906976744186),\n",
       " ('l', 0.011627906976744186),\n",
       " ('m', 0.011627906976744186),\n",
       " ('n', 0.011627906976744186),\n",
       " ('o', 0.011627906976744186),\n",
       " ('p', 0.011627906976744186),\n",
       " ('q', 0.011627906976744186),\n",
       " ('r', 0.011627906976744186),\n",
       " ('s', 0.011627906976744186),\n",
       " ('t', 0.011627906976744186),\n",
       " ('u', 0.011627906976744186),\n",
       " ('v', 0.011627906976744186),\n",
       " ('w', 0.011627906976744186),\n",
       " ('x', 0.011627906976744186),\n",
       " ('y', 0.011627906976744186),\n",
       " ('z', 0.011627906976744186),\n",
       " ('|', 0.011627906976744186),\n",
       " ('–', 0.011627906976744186),\n",
       " ('—', 0.011627906976744186),\n",
       " ('‘', 0.011627906976744186),\n",
       " ('’', 0.011627906976744186),\n",
       " ('“', 0.011627906976744186),\n",
       " ('”', 0.011627906976744186)]"
      ]
     },
     "execution_count": 10,
     "metadata": {},
     "output_type": "execute_result"
    }
   ],
   "source": [
    "prev_seq = 'zqe'\n",
    "\n",
    "assert len(prev_seq) == L\n",
    "\n",
    "pseudocount = 1\n",
    "distribution_of_next_character = Counter()\n",
    "for character in unique_characters:\n",
    "    distribution_of_next_character[character] = \\\n",
    "        (seq_counts[prev_seq + character] + pseudocount) / \\\n",
    "        (prev_seq_counts[prev_seq] + pseudocount * len(unique_characters))\n",
    "\n",
    "distribution_of_next_character.most_common()"
   ]
  },
  {
   "cell_type": "markdown",
   "metadata": {},
   "source": [
    "### Text generation given an initial length $L$ sequence"
   ]
  },
  {
   "cell_type": "code",
   "execution_count": 11,
   "metadata": {},
   "outputs": [],
   "source": [
    "def get_distribution(prev_seq, pseudocount=1e-8):\n",
    "    assert len(prev_seq) == L\n",
    "    distribution_of_next_character = Counter()\n",
    "    for character in unique_characters:\n",
    "        distribution_of_next_character[character] = \\\n",
    "            (seq_counts[prev_seq + character] + pseudocount) / \\\n",
    "            (prev_seq_counts[prev_seq] + pseudocount * len(unique_characters))\n",
    "    return distribution_of_next_character"
   ]
  },
  {
   "cell_type": "code",
   "execution_count": 12,
   "metadata": {},
   "outputs": [
    {
     "name": "stdout",
     "output_type": "stream",
     "text": [
      "The more is durise. Retrieven the neventernmender 2017\n",
      "^ Jump up from 2017 sure addican commonic, co-sp\n"
     ]
    }
   ],
   "source": [
    "np.random.seed(0)\n",
    "prev_seq = 'The'\n",
    "seq_so_far = prev_seq[:]\n",
    "generate_length = 100\n",
    "for _ in range(generate_length):\n",
    "    distribution = get_distribution(prev_seq)\n",
    "    characters, probabilities = zip(*[(character, prob) for character, prob in distribution.items() if prob > 0])\n",
    "    random_character = np.random.choice(characters, size=1, p=probabilities)\n",
    "    seq_so_far += random_character[0]\n",
    "    prev_seq = seq_so_far[-L:]\n",
    "print(seq_so_far)"
   ]
  }
 ],
 "metadata": {
  "kernelspec": {
   "display_name": "Python 3 (ipykernel)",
   "language": "python",
   "name": "python3"
  },
  "language_info": {
   "codemirror_mode": {
    "name": "ipython",
    "version": 3
   },
   "file_extension": ".py",
   "mimetype": "text/x-python",
   "name": "python",
   "nbconvert_exporter": "python",
   "pygments_lexer": "ipython3",
   "version": "3.8.8"
  }
 },
 "nbformat": 4,
 "nbformat_minor": 1
}
