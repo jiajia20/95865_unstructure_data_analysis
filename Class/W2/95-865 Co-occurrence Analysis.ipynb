{
 "cells": [
  {
   "cell_type": "markdown",
   "id": "a6e018f6",
   "metadata": {},
   "source": [
    "# 95-865: Co-occurrence Analysis Toy Example\n",
    "\n",
    "Author: George H. Chen (georgechen [at symbol] cmu.edu)\n",
    "\n",
    "For this demo to work, please be sure to download this pickle file [[click here](https://www.andrew.cmu.edu/user/georgech/95-865/co_occurrence_demo_docs.pickle)] and save it to the same directory as this Jupyter notebook.\n",
    "\n",
    "We will only keep track of a few people and a few companies:"
   ]
  },
  {
   "cell_type": "code",
   "execution_count": 1,
   "id": "a42e75d2",
   "metadata": {},
   "outputs": [],
   "source": [
    "people = ['Elon Musk', 'Sundar Pichai', 'Lisa Su']\n",
    "companies = ['Alphabet', 'AMD', 'Tesla']"
   ]
  },
  {
   "cell_type": "markdown",
   "id": "04507881",
   "metadata": {},
   "source": [
    "We load in some preprocessed text documents."
   ]
  },
  {
   "cell_type": "code",
   "execution_count": 2,
   "id": "fb22ed88",
   "metadata": {},
   "outputs": [
    {
     "ename": "FileNotFoundError",
     "evalue": "[Errno 2] No such file or directory: 'co_occurrence_demo_docs.pickle'",
     "output_type": "error",
     "traceback": [
      "\u001b[0;31m---------------------------------------------------------------------------\u001b[0m",
      "\u001b[0;31mFileNotFoundError\u001b[0m                         Traceback (most recent call last)",
      "\u001b[0;32m<ipython-input-2-302e805929ad>\u001b[0m in \u001b[0;36m<module>\u001b[0;34m\u001b[0m\n\u001b[1;32m      1\u001b[0m \u001b[0;32mimport\u001b[0m \u001b[0mpickle\u001b[0m\u001b[0;34m\u001b[0m\u001b[0;34m\u001b[0m\u001b[0m\n\u001b[1;32m      2\u001b[0m \u001b[0;34m\u001b[0m\u001b[0m\n\u001b[0;32m----> 3\u001b[0;31m \u001b[0;32mwith\u001b[0m \u001b[0mopen\u001b[0m\u001b[0;34m(\u001b[0m\u001b[0;34m'co_occurrence_demo_docs.pickle'\u001b[0m\u001b[0;34m,\u001b[0m \u001b[0;34m'rb'\u001b[0m\u001b[0;34m)\u001b[0m \u001b[0;32mas\u001b[0m \u001b[0mf\u001b[0m\u001b[0;34m:\u001b[0m\u001b[0;34m\u001b[0m\u001b[0;34m\u001b[0m\u001b[0m\n\u001b[0m\u001b[1;32m      4\u001b[0m     \u001b[0mdocs\u001b[0m \u001b[0;34m=\u001b[0m \u001b[0mpickle\u001b[0m\u001b[0;34m.\u001b[0m\u001b[0mload\u001b[0m\u001b[0;34m(\u001b[0m\u001b[0mf\u001b[0m\u001b[0;34m)\u001b[0m\u001b[0;34m\u001b[0m\u001b[0;34m\u001b[0m\u001b[0m\n",
      "\u001b[0;31mFileNotFoundError\u001b[0m: [Errno 2] No such file or directory: 'co_occurrence_demo_docs.pickle'"
     ]
    }
   ],
   "source": [
    "import pickle\n",
    "\n",
    "with open('co_occurrence_demo_docs.pickle', 'rb') as f:\n",
    "    docs = pickle.load(f)"
   ]
  },
  {
   "cell_type": "code",
   "execution_count": 3,
   "id": "d587d04e",
   "metadata": {},
   "outputs": [
    {
     "data": {
      "text/plain": [
       "list"
      ]
     },
     "execution_count": 3,
     "metadata": {},
     "output_type": "execute_result"
    }
   ],
   "source": [
    "type(docs)"
   ]
  },
  {
   "cell_type": "code",
   "execution_count": 4,
   "id": "9fe46bcf",
   "metadata": {},
   "outputs": [
    {
     "data": {
      "text/plain": [
       "25000"
      ]
     },
     "execution_count": 4,
     "metadata": {},
     "output_type": "execute_result"
    }
   ],
   "source": [
    "len(docs)"
   ]
  },
  {
   "cell_type": "markdown",
   "id": "a646e0cd",
   "metadata": {},
   "source": [
    "The variable `docs` is a list consisting of text documents, where each text document is represented as a list containing names of people and companies (where we only keep track of the names present in the variables `people` and `companies` above; so a document that doesn't mention any of the people in `people` and also doesn't mention any of the companies in `companies` would be represented as an empty list). For example, we can look at the document \\#837:"
   ]
  },
  {
   "cell_type": "code",
   "execution_count": 5,
   "id": "c9f6f7d2",
   "metadata": {},
   "outputs": [
    {
     "data": {
      "text/plain": [
       "['Elon Musk',\n",
       " 'Tesla',\n",
       " 'Elon Musk',\n",
       " 'Tesla',\n",
       " 'Tesla',\n",
       " 'Elon Musk',\n",
       " 'Elon Musk',\n",
       " 'Tesla',\n",
       " 'Tesla',\n",
       " 'Elon Musk',\n",
       " 'Elon Musk',\n",
       " 'Tesla',\n",
       " 'Lisa Su',\n",
       " 'AMD']"
      ]
     },
     "execution_count": 5,
     "metadata": {},
     "output_type": "execute_result"
    }
   ],
   "source": [
    "docs[837]"
   ]
  },
  {
   "cell_type": "code",
   "execution_count": 6,
   "id": "44aec604",
   "metadata": {},
   "outputs": [
    {
     "data": {
      "text/plain": [
       "[]"
      ]
     },
     "execution_count": 6,
     "metadata": {},
     "output_type": "execute_result"
    }
   ],
   "source": [
    "docs[0]"
   ]
  },
  {
   "cell_type": "markdown",
   "id": "12ee4097",
   "metadata": {},
   "source": [
    "### Computing co-occurrence probabilities, and then sorting them from largest to smallest"
   ]
  },
  {
   "cell_type": "code",
   "execution_count": 7,
   "id": "26582e8e",
   "metadata": {},
   "outputs": [],
   "source": [
    "all_pairs = [(person, company)\n",
    "             for person in people\n",
    "             for company in companies]"
   ]
  },
  {
   "cell_type": "code",
   "execution_count": 8,
   "id": "7c22619d",
   "metadata": {},
   "outputs": [
    {
     "data": {
      "text/plain": [
       "[('Elon Musk', 'Alphabet'),\n",
       " ('Elon Musk', 'AMD'),\n",
       " ('Elon Musk', 'Tesla'),\n",
       " ('Sundar Pichai', 'Alphabet'),\n",
       " ('Sundar Pichai', 'AMD'),\n",
       " ('Sundar Pichai', 'Tesla'),\n",
       " ('Lisa Su', 'Alphabet'),\n",
       " ('Lisa Su', 'AMD'),\n",
       " ('Lisa Su', 'Tesla')]"
      ]
     },
     "execution_count": 8,
     "metadata": {},
     "output_type": "execute_result"
    }
   ],
   "source": [
    "all_pairs"
   ]
  },
  {
   "cell_type": "code",
   "execution_count": 9,
   "id": "5b9d7714",
   "metadata": {},
   "outputs": [],
   "source": [
    "from collections import Counter\n",
    "co_occurrence_probabilities = Counter()\n",
    "for person, company in all_pairs:\n",
    "    count = 0\n",
    "    for doc in docs:\n",
    "        if person in doc and company in doc:\n",
    "            count += 1\n",
    "    co_occurrence_probabilities[(person, company)] = count / len(docs)"
   ]
  },
  {
   "cell_type": "code",
   "execution_count": 10,
   "id": "fb01a33f",
   "metadata": {},
   "outputs": [
    {
     "data": {
      "text/plain": [
       "[(('Elon Musk', 'Tesla'), 0.53652),\n",
       " (('Elon Musk', 'AMD'), 0.08952),\n",
       " (('Elon Musk', 'Alphabet'), 0.0824),\n",
       " (('Sundar Pichai', 'Alphabet'), 0.04076),\n",
       " (('Lisa Su', 'AMD'), 0.02876),\n",
       " (('Sundar Pichai', 'Tesla'), 0.02608),\n",
       " (('Lisa Su', 'Tesla'), 0.01704),\n",
       " (('Sundar Pichai', 'AMD'), 0.0066),\n",
       " (('Lisa Su', 'Alphabet'), 0.004)]"
      ]
     },
     "execution_count": 10,
     "metadata": {},
     "output_type": "execute_result"
    }
   ],
   "source": [
    "co_occurrence_probabilities.most_common()"
   ]
  },
  {
   "cell_type": "markdown",
   "id": "d14015a8",
   "metadata": {},
   "source": [
    "Is it really the case that (Elon Musk, Tesla), (Elon Musk, AMD), and (Elon Musk, Alphabet) are truly the three most interesting person-company pairs? Perhaps ranking by co-occurrence probabilities alone isn't the best way to figure out what are the most interesting person-company pairs...\n",
    "\n",
    "In this case, it seems like Elon Musk might just be appearing a lot. The next approach provides a principled way of down-weighting specific people or companies that occur too frequently."
   ]
  },
  {
   "cell_type": "markdown",
   "id": "3d4eec28",
   "metadata": {},
   "source": [
    "### Let's first look at *marginal* probabilities\n",
    "\n",
    "These are the probabilities of an individual person occurring, or of an individual company occurring."
   ]
  },
  {
   "cell_type": "code",
   "execution_count": 11,
   "id": "db5a084e",
   "metadata": {},
   "outputs": [
    {
     "name": "stdout",
     "output_type": "stream",
     "text": [
      "Counter({'Elon Musk': 0.596, 'Sundar Pichai': 0.04564, 'Lisa Su': 0.03048})\n"
     ]
    }
   ],
   "source": [
    "people_probabilities = Counter()\n",
    "for person in people:\n",
    "    count = 0\n",
    "    for doc in docs:\n",
    "        if person in doc:\n",
    "            count += 1\n",
    "    people_probabilities[person] = count / len(docs)\n",
    "print(people_probabilities)"
   ]
  },
  {
   "cell_type": "code",
   "execution_count": 12,
   "id": "0bf5d029",
   "metadata": {},
   "outputs": [
    {
     "name": "stdout",
     "output_type": "stream",
     "text": [
      "Counter({'Tesla': 0.53772, 'AMD': 0.102, 'Alphabet': 0.09868})\n"
     ]
    }
   ],
   "source": [
    "company_probabilities = Counter()\n",
    "for company in companies:\n",
    "    count = 0\n",
    "    for doc in docs:\n",
    "        if company in doc:\n",
    "            count += 1\n",
    "    company_probabilities[company] = count / len(docs)\n",
    "print(company_probabilities)"
   ]
  },
  {
   "cell_type": "markdown",
   "id": "a11dd24c",
   "metadata": {},
   "source": [
    "### Computing pointwise mutual information (PMI), and then sorting from largest to smallest\n",
    "\n",
    "Recall that PMI is defined as:\n",
    "\n",
    "$$\\log \\frac{P(A,B)}{P(A)P(B)}$$\n",
    "\n",
    "In the code below, we use natural log."
   ]
  },
  {
   "cell_type": "code",
   "execution_count": 13,
   "id": "2ff306ff",
   "metadata": {},
   "outputs": [],
   "source": [
    "from math import log  # natural log\n",
    "pmi_scores = Counter()\n",
    "for person, company in all_pairs:\n",
    "    ratio = co_occurrence_probabilities[(person, company)] / (people_probabilities[person] * company_probabilities[company])\n",
    "    pmi_scores[(person, company)] = log(ratio)"
   ]
  },
  {
   "cell_type": "code",
   "execution_count": 14,
   "id": "1fb3120e",
   "metadata": {},
   "outputs": [
    {
     "data": {
      "text/plain": [
       "[(('Lisa Su', 'AMD'), 2.2246972677322665),\n",
       " (('Sundar Pichai', 'Alphabet'), 2.2027896706816303),\n",
       " (('Elon Musk', 'Tesla'), 0.515280473364625),\n",
       " (('Elon Musk', 'AMD'), 0.38700386263618614),\n",
       " (('Sundar Pichai', 'AMD'), 0.34906758973637103),\n",
       " (('Elon Musk', 'Alphabet'), 0.33721775717105734),\n",
       " (('Lisa Su', 'Alphabet'), 0.28509661762242633),\n",
       " (('Sundar Pichai', 'Tesla'), 0.060801512460662566),\n",
       " (('Lisa Su', 'Tesla'), 0.03891009097880922)]"
      ]
     },
     "execution_count": 14,
     "metadata": {},
     "output_type": "execute_result"
    }
   ],
   "source": [
    "pmi_scores.most_common()"
   ]
  }
 ],
 "metadata": {
  "kernelspec": {
   "display_name": "Python 3 (ipykernel)",
   "language": "python",
   "name": "python3"
  },
  "language_info": {
   "codemirror_mode": {
    "name": "ipython",
    "version": 3
   },
   "file_extension": ".py",
   "mimetype": "text/x-python",
   "name": "python",
   "nbconvert_exporter": "python",
   "pygments_lexer": "ipython3",
   "version": "3.8.8"
  }
 },
 "nbformat": 4,
 "nbformat_minor": 5
}
