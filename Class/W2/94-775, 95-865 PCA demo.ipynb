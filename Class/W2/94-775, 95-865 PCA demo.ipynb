{
 "cells": [
  {
   "cell_type": "markdown",
   "metadata": {},
   "source": [
    "# 95-865: PCA Demo\n",
    "Author: George Chen (georgechen [at symbol] cmu.edu)\n",
    "\n",
    "This demo is heavily based on Mark Richardson's 2009 \"Principle Component Analysis\" notes and uses data he pulled from DEFRA on 1997 UK food consumption (grams/person/week). This dataset is also used as a nice illustrated example of PCA here:\n",
    "http://setosa.io/ev/principal-component-analysis/"
   ]
  },
  {
   "cell_type": "code",
   "execution_count": 1,
   "metadata": {},
   "outputs": [],
   "source": [
    "%matplotlib inline\n",
    "import matplotlib.pyplot as plt\n",
    "plt.style.use('seaborn')  # prettier plots\n",
    "import numpy as np\n",
    "\n",
    "# grams per person per week\n",
    "food_data = np.array([[105, 103, 103, 66],\n",
    "                      [245, 227, 242, 267],\n",
    "                      [685, 803, 750, 586],\n",
    "                      [147, 160, 122, 93],\n",
    "                      [193, 235, 184, 209], \n",
    "                      [156, 175, 147, 139],\n",
    "                      [720, 874, 566, 1033],\n",
    "                      [253, 265, 171, 143],\n",
    "                      [488, 570, 418, 355],\n",
    "                      [198, 203, 220, 187],\n",
    "                      [360, 365, 337, 334],\n",
    "                      [1102, 1137, 957, 674],\n",
    "                      [1472, 1582, 1462, 1494],\n",
    "                      [57, 73, 53, 47],\n",
    "                      [1374, 1256, 1572, 1506],\n",
    "                      [375, 475, 458, 135],\n",
    "                      [54, 64, 62, 41]])\n",
    "row_labels = ['Cheese',\n",
    "              'Carcass meat',\n",
    "              'Other meat',\n",
    "              'Fish',\n",
    "              'Fats and oils',\n",
    "              'Sugars',\n",
    "              'Fresh potatoes',\n",
    "              'Fresh Veg',\n",
    "              'Other Veg',\n",
    "              'Processed potatoes',\n",
    "              'Processed Veg',\n",
    "              'Fresh fruit',\n",
    "              'Cereals',\n",
    "              'Beverages',\n",
    "              'Soft drinks',\n",
    "              'Alcoholic drinks',\n",
    "              'Confectionary']\n",
    "column_labels = ['England', 'Wales', 'Scotland', 'N Ireland']"
   ]
  },
  {
   "cell_type": "code",
   "execution_count": 2,
   "metadata": {},
   "outputs": [
    {
     "name": "stdout",
     "output_type": "stream",
     "text": [
      "                            England          Wales       Scotland      N Ireland\n",
      "Cheese                          105            103            103             66\n",
      "Carcass meat                    245            227            242            267\n",
      "Other meat                      685            803            750            586\n",
      "Fish                            147            160            122             93\n",
      "Fats and oils                   193            235            184            209\n",
      "Sugars                          156            175            147            139\n",
      "Fresh potatoes                  720            874            566           1033\n",
      "Fresh Veg                       253            265            171            143\n",
      "Other Veg                       488            570            418            355\n",
      "Processed potatoes              198            203            220            187\n",
      "Processed Veg                   360            365            337            334\n",
      "Fresh fruit                    1102           1137            957            674\n",
      "Cereals                        1472           1582           1462           1494\n",
      "Beverages                        57             73             53             47\n",
      "Soft drinks                    1374           1256           1572           1506\n",
      "Alcoholic drinks                375            475            458            135\n",
      "Confectionary                    54             64             62             41\n"
     ]
    }
   ],
   "source": [
    "# printing out the table using some basic Python\n",
    "\n",
    "first_column_width = 20\n",
    "other_columns_width = 15\n",
    "\n",
    "# print header\n",
    "print(\"\".ljust(first_column_width), end='')\n",
    "for column_label in column_labels:\n",
    "    print(column_label.rjust(other_columns_width), end='')\n",
    "print()\n",
    "\n",
    "# print each row in the numpy array with a column label\n",
    "for row_label, row in zip(row_labels, food_data):\n",
    "    print(row_label.ljust(first_column_width), end='')\n",
    "    print(\"\".join([(\"%d\" % x).rjust(other_columns_width) for x in row]))"
   ]
  },
  {
   "cell_type": "code",
   "execution_count": 3,
   "metadata": {},
   "outputs": [
    {
     "data": {
      "text/html": [
       "<div>\n",
       "<style scoped>\n",
       "    .dataframe tbody tr th:only-of-type {\n",
       "        vertical-align: middle;\n",
       "    }\n",
       "\n",
       "    .dataframe tbody tr th {\n",
       "        vertical-align: top;\n",
       "    }\n",
       "\n",
       "    .dataframe thead th {\n",
       "        text-align: right;\n",
       "    }\n",
       "</style>\n",
       "<table border=\"1\" class=\"dataframe\">\n",
       "  <thead>\n",
       "    <tr style=\"text-align: right;\">\n",
       "      <th></th>\n",
       "      <th>England</th>\n",
       "      <th>Wales</th>\n",
       "      <th>Scotland</th>\n",
       "      <th>N Ireland</th>\n",
       "    </tr>\n",
       "  </thead>\n",
       "  <tbody>\n",
       "    <tr>\n",
       "      <th>Cheese</th>\n",
       "      <td>105</td>\n",
       "      <td>103</td>\n",
       "      <td>103</td>\n",
       "      <td>66</td>\n",
       "    </tr>\n",
       "    <tr>\n",
       "      <th>Carcass meat</th>\n",
       "      <td>245</td>\n",
       "      <td>227</td>\n",
       "      <td>242</td>\n",
       "      <td>267</td>\n",
       "    </tr>\n",
       "    <tr>\n",
       "      <th>Other meat</th>\n",
       "      <td>685</td>\n",
       "      <td>803</td>\n",
       "      <td>750</td>\n",
       "      <td>586</td>\n",
       "    </tr>\n",
       "    <tr>\n",
       "      <th>Fish</th>\n",
       "      <td>147</td>\n",
       "      <td>160</td>\n",
       "      <td>122</td>\n",
       "      <td>93</td>\n",
       "    </tr>\n",
       "    <tr>\n",
       "      <th>Fats and oils</th>\n",
       "      <td>193</td>\n",
       "      <td>235</td>\n",
       "      <td>184</td>\n",
       "      <td>209</td>\n",
       "    </tr>\n",
       "    <tr>\n",
       "      <th>Sugars</th>\n",
       "      <td>156</td>\n",
       "      <td>175</td>\n",
       "      <td>147</td>\n",
       "      <td>139</td>\n",
       "    </tr>\n",
       "    <tr>\n",
       "      <th>Fresh potatoes</th>\n",
       "      <td>720</td>\n",
       "      <td>874</td>\n",
       "      <td>566</td>\n",
       "      <td>1033</td>\n",
       "    </tr>\n",
       "    <tr>\n",
       "      <th>Fresh Veg</th>\n",
       "      <td>253</td>\n",
       "      <td>265</td>\n",
       "      <td>171</td>\n",
       "      <td>143</td>\n",
       "    </tr>\n",
       "    <tr>\n",
       "      <th>Other Veg</th>\n",
       "      <td>488</td>\n",
       "      <td>570</td>\n",
       "      <td>418</td>\n",
       "      <td>355</td>\n",
       "    </tr>\n",
       "    <tr>\n",
       "      <th>Processed potatoes</th>\n",
       "      <td>198</td>\n",
       "      <td>203</td>\n",
       "      <td>220</td>\n",
       "      <td>187</td>\n",
       "    </tr>\n",
       "    <tr>\n",
       "      <th>Processed Veg</th>\n",
       "      <td>360</td>\n",
       "      <td>365</td>\n",
       "      <td>337</td>\n",
       "      <td>334</td>\n",
       "    </tr>\n",
       "    <tr>\n",
       "      <th>Fresh fruit</th>\n",
       "      <td>1102</td>\n",
       "      <td>1137</td>\n",
       "      <td>957</td>\n",
       "      <td>674</td>\n",
       "    </tr>\n",
       "    <tr>\n",
       "      <th>Cereals</th>\n",
       "      <td>1472</td>\n",
       "      <td>1582</td>\n",
       "      <td>1462</td>\n",
       "      <td>1494</td>\n",
       "    </tr>\n",
       "    <tr>\n",
       "      <th>Beverages</th>\n",
       "      <td>57</td>\n",
       "      <td>73</td>\n",
       "      <td>53</td>\n",
       "      <td>47</td>\n",
       "    </tr>\n",
       "    <tr>\n",
       "      <th>Soft drinks</th>\n",
       "      <td>1374</td>\n",
       "      <td>1256</td>\n",
       "      <td>1572</td>\n",
       "      <td>1506</td>\n",
       "    </tr>\n",
       "    <tr>\n",
       "      <th>Alcoholic drinks</th>\n",
       "      <td>375</td>\n",
       "      <td>475</td>\n",
       "      <td>458</td>\n",
       "      <td>135</td>\n",
       "    </tr>\n",
       "    <tr>\n",
       "      <th>Confectionary</th>\n",
       "      <td>54</td>\n",
       "      <td>64</td>\n",
       "      <td>62</td>\n",
       "      <td>41</td>\n",
       "    </tr>\n",
       "  </tbody>\n",
       "</table>\n",
       "</div>"
      ],
      "text/plain": [
       "                    England  Wales  Scotland  N Ireland\n",
       "Cheese                  105    103       103         66\n",
       "Carcass meat            245    227       242        267\n",
       "Other meat              685    803       750        586\n",
       "Fish                    147    160       122         93\n",
       "Fats and oils           193    235       184        209\n",
       "Sugars                  156    175       147        139\n",
       "Fresh potatoes          720    874       566       1033\n",
       "Fresh Veg               253    265       171        143\n",
       "Other Veg               488    570       418        355\n",
       "Processed potatoes      198    203       220        187\n",
       "Processed Veg           360    365       337        334\n",
       "Fresh fruit            1102   1137       957        674\n",
       "Cereals                1472   1582      1462       1494\n",
       "Beverages                57     73        53         47\n",
       "Soft drinks            1374   1256      1572       1506\n",
       "Alcoholic drinks        375    475       458        135\n",
       "Confectionary            54     64        62         41"
      ]
     },
     "execution_count": 3,
     "metadata": {},
     "output_type": "execute_result"
    }
   ],
   "source": [
    "# printing out the table using Pandas\n",
    "\n",
    "import pandas\n",
    "df = pandas.DataFrame(food_data, columns=column_labels, index=row_labels)\n",
    "df"
   ]
  },
  {
   "cell_type": "code",
   "execution_count": 4,
   "metadata": {},
   "outputs": [
    {
     "data": {
      "text/plain": [
       "array([[ 105,  245,  685,  147,  193,  156,  720,  253,  488,  198,  360,\n",
       "        1102, 1472,   57, 1374,  375,   54],\n",
       "       [ 103,  227,  803,  160,  235,  175,  874,  265,  570,  203,  365,\n",
       "        1137, 1582,   73, 1256,  475,   64],\n",
       "       [ 103,  242,  750,  122,  184,  147,  566,  171,  418,  220,  337,\n",
       "         957, 1462,   53, 1572,  458,   62],\n",
       "       [  66,  267,  586,   93,  209,  139, 1033,  143,  355,  187,  334,\n",
       "         674, 1494,   47, 1506,  135,   41]])"
      ]
     },
     "execution_count": 4,
     "metadata": {},
     "output_type": "execute_result"
    }
   ],
   "source": [
    "food_data.T"
   ]
  },
  {
   "cell_type": "code",
   "execution_count": 5,
   "metadata": {},
   "outputs": [
    {
     "data": {
      "text/plain": [
       "(4, 17)"
      ]
     },
     "execution_count": 5,
     "metadata": {},
     "output_type": "execute_result"
    }
   ],
   "source": [
    "food_data.T.shape"
   ]
  },
  {
   "cell_type": "code",
   "execution_count": 7,
   "metadata": {},
   "outputs": [
    {
     "data": {
      "text/plain": [
       "array([ 105,  245,  685,  147,  193,  156,  720,  253,  488,  198,  360,\n",
       "       1102, 1472,   57, 1374,  375,   54])"
      ]
     },
     "execution_count": 7,
     "metadata": {},
     "output_type": "execute_result"
    }
   ],
   "source": [
    "food_data[:, 0]"
   ]
  },
  {
   "cell_type": "code",
   "execution_count": 6,
   "metadata": {},
   "outputs": [
    {
     "data": {
      "text/plain": [
       "([<matplotlib.axis.XTick at 0x7fde7876e2b0>,\n",
       "  <matplotlib.axis.XTick at 0x7fde7876e280>,\n",
       "  <matplotlib.axis.XTick at 0x7fde78759d90>,\n",
       "  <matplotlib.axis.XTick at 0x7fde50c78b50>,\n",
       "  <matplotlib.axis.XTick at 0x7fde50c8a0a0>,\n",
       "  <matplotlib.axis.XTick at 0x7fde50c8a5b0>,\n",
       "  <matplotlib.axis.XTick at 0x7fde78759e50>,\n",
       "  <matplotlib.axis.XTick at 0x7fde50c343a0>,\n",
       "  <matplotlib.axis.XTick at 0x7fde7876b8e0>,\n",
       "  <matplotlib.axis.XTick at 0x7fde7876beb0>,\n",
       "  <matplotlib.axis.XTick at 0x7fde50c418b0>,\n",
       "  <matplotlib.axis.XTick at 0x7fde50c8aa30>,\n",
       "  <matplotlib.axis.XTick at 0x7fde50c8af40>,\n",
       "  <matplotlib.axis.XTick at 0x7fde98ac9490>,\n",
       "  <matplotlib.axis.XTick at 0x7fde50c41730>,\n",
       "  <matplotlib.axis.XTick at 0x7fde7876efd0>,\n",
       "  <matplotlib.axis.XTick at 0x7fde98ac97f0>],\n",
       " [Text(0, 0, 'Cheese'),\n",
       "  Text(1, 0, 'Carcass meat'),\n",
       "  Text(2, 0, 'Other meat'),\n",
       "  Text(3, 0, 'Fish'),\n",
       "  Text(4, 0, 'Fats and oils'),\n",
       "  Text(5, 0, 'Sugars'),\n",
       "  Text(6, 0, 'Fresh potatoes'),\n",
       "  Text(7, 0, 'Fresh Veg'),\n",
       "  Text(8, 0, 'Other Veg'),\n",
       "  Text(9, 0, 'Processed potatoes'),\n",
       "  Text(10, 0, 'Processed Veg'),\n",
       "  Text(11, 0, 'Fresh fruit'),\n",
       "  Text(12, 0, 'Cereals'),\n",
       "  Text(13, 0, 'Beverages'),\n",
       "  Text(14, 0, 'Soft drinks'),\n",
       "  Text(15, 0, 'Alcoholic drinks'),\n",
       "  Text(16, 0, 'Confectionary')])"
      ]
     },
     "execution_count": 6,
     "metadata": {},
     "output_type": "execute_result"
    },
    {
     "data": {
      "image/png": "[encoded data removed]",
      "text/plain": [
       "<Figure size 576x396 with 1 Axes>"
      ]
     },
     "metadata": {},
     "output_type": "display_data"
    }
   ],
   "source": [
    "plt.bar(range(len(row_labels)), food_data[:, 0])\n",
    "plt.xticks(range(len(row_labels)), row_labels, rotation=90)"
   ]
  },
  {
   "cell_type": "code",
   "execution_count": 8,
   "metadata": {},
   "outputs": [
    {
     "data": {
      "text/plain": [
       "([<matplotlib.axis.XTick at 0x7fde58ebcb20>,\n",
       "  <matplotlib.axis.XTick at 0x7fde58ebcaf0>,\n",
       "  <matplotlib.axis.XTick at 0x7fde58eb5610>,\n",
       "  <matplotlib.axis.XTick at 0x7fde58e09490>,\n",
       "  <matplotlib.axis.XTick at 0x7fde58e099a0>,\n",
       "  <matplotlib.axis.XTick at 0x7fde58e09eb0>,\n",
       "  <matplotlib.axis.XTick at 0x7fde58e12400>,\n",
       "  <matplotlib.axis.XTick at 0x7fde58e12910>,\n",
       "  <matplotlib.axis.XTick at 0x7fde58e12e20>,\n",
       "  <matplotlib.axis.XTick at 0x7fde58e17370>,\n",
       "  <matplotlib.axis.XTick at 0x7fde58e17880>,\n",
       "  <matplotlib.axis.XTick at 0x7fde58e12580>,\n",
       "  <matplotlib.axis.XTick at 0x7fde58e09610>,\n",
       "  <matplotlib.axis.XTick at 0x7fde58e17040>,\n",
       "  <matplotlib.axis.XTick at 0x7fde58e17f40>,\n",
       "  <matplotlib.axis.XTick at 0x7fde68968490>,\n",
       "  <matplotlib.axis.XTick at 0x7fde689689a0>],\n",
       " [Text(0, 0, 'Cheese'),\n",
       "  Text(1, 0, 'Carcass meat'),\n",
       "  Text(2, 0, 'Other meat'),\n",
       "  Text(3, 0, 'Fish'),\n",
       "  Text(4, 0, 'Fats and oils'),\n",
       "  Text(5, 0, 'Sugars'),\n",
       "  Text(6, 0, 'Fresh potatoes'),\n",
       "  Text(7, 0, 'Fresh Veg'),\n",
       "  Text(8, 0, 'Other Veg'),\n",
       "  Text(9, 0, 'Processed potatoes'),\n",
       "  Text(10, 0, 'Processed Veg'),\n",
       "  Text(11, 0, 'Fresh fruit'),\n",
       "  Text(12, 0, 'Cereals'),\n",
       "  Text(13, 0, 'Beverages'),\n",
       "  Text(14, 0, 'Soft drinks'),\n",
       "  Text(15, 0, 'Alcoholic drinks'),\n",
       "  Text(16, 0, 'Confectionary')])"
      ]
     },
     "execution_count": 8,
     "metadata": {},
     "output_type": "execute_result"
    },
    {
     "data": {
      "image/png": "[encoded data removed]",
      "text/plain": [
       "<Figure size 576x396 with 1 Axes>"
      ]
     },
     "metadata": {},
     "output_type": "display_data"
    }
   ],
   "source": [
    "plt.bar(range(len(row_labels)), food_data[:, 1])\n",
    "plt.xticks(range(len(row_labels)), row_labels, rotation=90)"
   ]
  },
  {
   "cell_type": "code",
   "execution_count": 9,
   "metadata": {},
   "outputs": [],
   "source": [
    "from sklearn.decomposition import PCA\n",
    "\n",
    "single_dimension_pca = PCA(n_components=1)  # project data down to a single dimension\n",
    "\n",
    "# single_dimension_pca.fit(food_data.T)\n",
    "\n",
    "single_dimension_food_data = single_dimension_pca.fit_transform(food_data.T)"
   ]
  },
  {
   "cell_type": "code",
   "execution_count": 10,
   "metadata": {},
   "outputs": [
    {
     "data": {
      "text/plain": [
       "array([[-144.99315218],\n",
       "       [-240.52914764],\n",
       "       [ -91.869339  ],\n",
       "       [ 477.39163882]])"
      ]
     },
     "execution_count": 10,
     "metadata": {},
     "output_type": "execute_result"
    }
   ],
   "source": [
    "single_dimension_food_data"
   ]
  },
  {
   "cell_type": "code",
   "execution_count": 11,
   "metadata": {},
   "outputs": [
    {
     "data": {
      "image/png": "[encoded data removed]",
      "text/plain": [
       "<Figure size 576x396 with 1 Axes>"
      ]
     },
     "metadata": {},
     "output_type": "display_data"
    }
   ],
   "source": [
    "# matplotlib doesn't have a built-in 1D scatter plot but we can\n",
    "# just use a 2D scatter plot with y-axis values all set to 0\n",
    "y_axis_all_zeros = np.zeros(len(single_dimension_food_data))\n",
    "\n",
    "plt.scatter(single_dimension_food_data, y_axis_all_zeros)\n",
    "for idx in range(len(single_dimension_food_data)):\n",
    "    plt.annotate(column_labels[idx],\n",
    "                 (single_dimension_food_data[idx],\n",
    "                  y_axis_all_zeros[idx]), rotation=90)"
   ]
  },
  {
   "cell_type": "code",
   "execution_count": 12,
   "metadata": {},
   "outputs": [
    {
     "data": {
      "text/plain": [
       "array([0.67444346])"
      ]
     },
     "execution_count": 12,
     "metadata": {},
     "output_type": "execute_result"
    }
   ],
   "source": [
    "single_dimension_pca.explained_variance_ratio_"
   ]
  },
  {
   "cell_type": "markdown",
   "metadata": {},
   "source": [
    "For any data point in the original 17-dimensional space, we can see what the PCA single-dimensional representation is using the `transform` function. For example, in the next cell, we compute the 1D projections for both England and Wales. However, we could actually plug in data that we didn't fit the PCA model with (for example, if we collected the 17 measurements for Pennsylvania, we could use it with transform as well, etc)."
   ]
  },
  {
   "cell_type": "code",
   "execution_count": 13,
   "metadata": {},
   "outputs": [
    {
     "data": {
      "text/plain": [
       "[array([ 105,  245,  685,  147,  193,  156,  720,  253,  488,  198,  360,\n",
       "        1102, 1472,   57, 1374,  375,   54]),\n",
       " array([ 103,  227,  803,  160,  235,  175,  874,  265,  570,  203,  365,\n",
       "        1137, 1582,   73, 1256,  475,   64])]"
      ]
     },
     "execution_count": 13,
     "metadata": {},
     "output_type": "execute_result"
    }
   ],
   "source": [
    "[food_data[:, 0], food_data[:, 1]]"
   ]
  },
  {
   "cell_type": "code",
   "execution_count": 14,
   "metadata": {},
   "outputs": [
    {
     "data": {
      "text/plain": [
       "array([[-144.99315218],\n",
       "       [-240.52914764]])"
      ]
     },
     "execution_count": 14,
     "metadata": {},
     "output_type": "execute_result"
    }
   ],
   "source": [
    "single_dimension_pca.transform([food_data[:, 0], food_data[:, 1]])"
   ]
  },
  {
   "cell_type": "markdown",
   "metadata": {},
   "source": [
    "Here, we use transform to find the 1D PCA representation for a completely made-up feature vector of food/drink consumption values:"
   ]
  },
  {
   "cell_type": "code",
   "execution_count": 15,
   "metadata": {},
   "outputs": [
    {
     "data": {
      "text/plain": [
       "array([[543.79528741]])"
      ]
     },
     "execution_count": 15,
     "metadata": {},
     "output_type": "execute_result"
    }
   ],
   "source": [
    "single_dimension_pca.transform([[0, 1, 2, 3, 4, 5, 6, 7, 8, 9, 10, 11, 12, 13, 14, 15, 16]])"
   ]
  },
  {
   "cell_type": "markdown",
   "metadata": {},
   "source": [
    "## Interpretation\n",
    "\n",
    "How do we interpret the low-dimensional representation? Why is North Ireland so far away from the other points? One way to try to answer this question is to first look at what features (i.e., what specific food/drink items) are being assigned high weight by PCA:"
   ]
  },
  {
   "cell_type": "code",
   "execution_count": 16,
   "metadata": {},
   "outputs": [
    {
     "name": "stdout",
     "output_type": "stream",
     "text": [
      "[-0.05695538  0.04792763 -0.25891666 -0.08441498 -0.00519362 -0.03762098\n",
      "  0.40140206 -0.15184994 -0.24359373 -0.02688623 -0.03648827 -0.6326409\n",
      " -0.04770286 -0.02618776  0.23224414 -0.46396817 -0.0296502 ]\n"
     ]
    }
   ],
   "source": [
    "print(single_dimension_pca.components_[0])  # index 0 is for the 1st principal component (since Python starts counting at 0)"
   ]
  },
  {
   "cell_type": "markdown",
   "metadata": {},
   "source": [
    "Importantly, how PCA (that has already been fitted) actually projects a data point to 1D is to take a weighted combination using the above weights (although it first subtracts off the feature means). Specifically, here are the calculations for England and Wales:"
   ]
  },
  {
   "cell_type": "code",
   "execution_count": 17,
   "metadata": {},
   "outputs": [
    {
     "data": {
      "text/plain": [
       "array([ 105,  245,  685,  147,  193,  156,  720,  253,  488,  198,  360,\n",
       "       1102, 1472,   57, 1374,  375,   54])"
      ]
     },
     "execution_count": 17,
     "metadata": {},
     "output_type": "execute_result"
    }
   ],
   "source": [
    "food_data[:, 0]"
   ]
  },
  {
   "cell_type": "code",
   "execution_count": 18,
   "metadata": {},
   "outputs": [
    {
     "data": {
      "text/plain": [
       "array([  94.25,  245.25,  706.  ,  130.5 ,  205.25,  154.25,  798.25,\n",
       "        208.  ,  457.75,  202.  ,  349.  ,  967.5 , 1502.5 ,   57.5 ,\n",
       "       1427.  ,  360.75,   55.25])"
      ]
     },
     "execution_count": 18,
     "metadata": {},
     "output_type": "execute_result"
    }
   ],
   "source": [
    "single_dimension_pca.mean_"
   ]
  },
  {
   "cell_type": "code",
   "execution_count": 19,
   "metadata": {},
   "outputs": [
    {
     "data": {
      "text/plain": [
       "-144.99315218207673"
      ]
     },
     "execution_count": 19,
     "metadata": {},
     "output_type": "execute_result"
    }
   ],
   "source": [
    "np.inner(single_dimension_pca.components_[0],\n",
    "         food_data[:, 0] - single_dimension_pca.mean_)"
   ]
  },
  {
   "cell_type": "code",
   "execution_count": 20,
   "metadata": {},
   "outputs": [
    {
     "data": {
      "text/plain": [
       "-240.52914763517674"
      ]
     },
     "execution_count": 20,
     "metadata": {},
     "output_type": "execute_result"
    }
   ],
   "source": [
    "np.inner(single_dimension_pca.components_[0],\n",
    "         food_data[:, 1] - single_dimension_pca.mean_)"
   ]
  },
  {
   "cell_type": "markdown",
   "metadata": {},
   "source": [
    "Weights with larger absolute value correspond to features that lead to the largest spread along the projected 1D axis."
   ]
  },
  {
   "cell_type": "markdown",
   "metadata": {},
   "source": [
    "Here's some code to rank the weights by largest absolute value to smallest absolute value:"
   ]
  },
  {
   "cell_type": "code",
   "execution_count": 21,
   "metadata": {},
   "outputs": [
    {
     "name": "stdout",
     "output_type": "stream",
     "text": [
      "Fresh fruit : -0.6326408978722377\n",
      "Alcoholic drinks : -0.4639681679767063\n",
      "Fresh potatoes : 0.4014020602962481\n",
      "Other meat : -0.25891665833612115\n",
      "Other Veg : -0.24359372899027432\n",
      "Soft drinks : 0.23224414047289454\n",
      "Fresh Veg : -0.1518499415623022\n",
      "Fish : -0.08441498252508357\n",
      "Cheese : -0.05695537978568527\n",
      "Carcass meat : 0.04792762813468528\n",
      "Cereals : -0.04770285837364895\n",
      "Sugars : -0.03762098283940196\n",
      "Processed Veg : -0.03648826911159385\n",
      "Confectionary : -0.029650201087993874\n",
      "Processed potatoes : -0.026886232536746928\n",
      "Beverages : -0.02618775590853346\n",
      "Fats and oils : -0.005193622660047751\n"
     ]
    }
   ],
   "source": [
    "abs_val_of_1st_principal_component_weights = np.abs(single_dimension_pca.components_[0])\n",
    "\n",
    "# in the previous lecture we saw the `sorted` function; now we introduce numpy's `argsort`,\n",
    "# which does *not* return the sorted list but instead returns the rearranged indices that\n",
    "# would sort the list (put another way, it returns rankings)\n",
    "ranking_of_largest_to_smallest = np.argsort(-abs_val_of_1st_principal_component_weights)  # use negative to get largest to smallest\n",
    "\n",
    "# now print out the food items having highest to lowest absolute value weight\n",
    "for rank in ranking_of_largest_to_smallest:\n",
    "    print(row_labels[rank], ':', single_dimension_pca.components_[0][rank])"
   ]
  },
  {
   "cell_type": "markdown",
   "metadata": {},
   "source": [
    "At this point, we leave the following as an exercise to you: for a few of the food/drink items with the highest absolute value weight, compare the values between the different regions of the UK. Can you see why North Ireland is considered very different from the other regions?"
   ]
  }
 ],
 "metadata": {
  "kernelspec": {
   "display_name": "Python 3",
   "language": "python",
   "name": "python3"
  },
  "language_info": {
   "codemirror_mode": {
    "name": "ipython",
    "version": 3
   },
   "file_extension": ".py",
   "mimetype": "text/x-python",
   "name": "python",
   "nbconvert_exporter": "python",
   "pygments_lexer": "ipython3",
   "version": "3.8.8"
  }
 },
 "nbformat": 4,
 "nbformat_minor": 1
}
