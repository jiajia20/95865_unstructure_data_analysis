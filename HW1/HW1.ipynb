{
 "cells": [
  {
   "cell_type": "markdown",
   "metadata": {},
   "source": [
    "# Unstructured Data Analytics HW1\n",
    "\n",
    "Name: Wenjia Hu\n",
    "\n",
    "Andrew ID: Wenjiah\n",
    "\n",
    "Collaborators： I used some chatGPT to search for libraries and code syntax. \n",
    "\n",
    "Reminder: you should not be sharing code."
   ]
  },
  {
   "cell_type": "markdown",
   "metadata": {},
   "source": [
    "**Reminder:** As stated in Lecture 1, homework assignments this semester will be submitted as PDFs and, in particular, we will not be re-running your code. Please make sure that you have run all your code cells so that the code cell outputs are actually displayed. To save your Jupyter notebook as a PDF, we recommend simply using your browser's print functionality and using that to print/save the notebook as a PDF."
   ]
  },
  {
   "cell_type": "markdown",
   "metadata": {},
   "source": [
    "**Warning: make sure your compute environment is set up first.** This homework assignment assumes that you have already installed Anaconda Python 3 and spaCy. Instructions for installing these are part of the tutorial [here](https://www.andrew.cmu.edu/user/georgech/95-865/Anaconda,%20Jupyter,%20and%20spaCy%20setup%20tutorial.pdf)."
   ]
  },
  {
   "cell_type": "markdown",
   "metadata": {},
   "source": [
    "### Instructions\n",
    "1. Fill in your name, Andrew ID, and collaborators above.\n",
    "2. Fill in the code/text blocks to answer each question.\n",
    "3. Do *not* change any of the existing code provided.\n",
    "4. Run the entire notebook *before* submitting it on Canvas to make sure that the code actually runs without errors. (**Important**: Any code cells that you have entered code for but did not actually execute will be disregarded, so please be sure to actually run your code first and make sure it runs without errors! We may re-run a subset of your code for grading purposes.)\n",
    "5. Be careful about where you save data for use with this Jupyter notebook (more details on this later)."
   ]
  },
  {
   "cell_type": "markdown",
   "metadata": {},
   "source": [
    "### [Problem 1] Basic Text Analysis [45 pts]\n",
    "\n",
    "This problem involves a mix of Python review (loops, conditionals, counters/dictionaries, sorting) and learning to work with a sizable collection of text data.\n",
    "\n",
    "You will be looking at a phenomenon of \"natural languages\" (i.e., human languages, such as English) called *Zipf's law*, which relates how frequently a word occurs in a language to its \"rank\" (the word with rank 1 is the most frequently occurring word, the word with rank 2 is the second most frequently occurring word, etc). Roughly speaking, the word with rank 1 appears twice as likely as the word with rank 2, and the three times as likely as the word with rank 3, and so forth. (Some details on Zipf's law can be found on [Wikipedia](https://en.wikipedia.org/wiki/Zipf%27s_law).) In this problem, you are going to check whether Zipf's law holds for a real dataset of text documents.\n",
    "\n",
    "The dataset we look at is a collection of the 100 most popular books downloaded from the [Gutenburg Project](https://www.gutenberg.org/browse/scores/top). These 100 books form the corpus that we consider for this problem. Each file contains the text of a book. We will read in all 100 books.\n",
    "\n",
    "Note: Please *do not* change the folder name or the path, and make sure you use a relative path (e.g. './HW1_Dataset/*filename*) when reading the files. When grading your homework, we will put your Jupyter notebook file and the dataset in the same folder, and run your code. **You will not receive points for this problem if your code fails to load the data.**\n",
    "\n",
    "Hint: To list all files that match a certain pattern, you can use the `glob` package. Here's an example usage:\n",
    "\n",
    "```python\n",
    "import glob\n",
    "print(glob.glob('./HW1_Dataset/*.txt'))\n",
    "```\n",
    "\n",
    "**(a) Warm-up/basic Python review [15 pts across subparts].** This part serves as a warm-up, getting you familiar with the kind of code we will be writing in this class. Note that throughout part (a), your code should **not** be using spaCy.\n",
    "\n",
    "**Subpart i [5 pts].** Write a loop that iterates through all 100 books; for each book, print out its corresponding file name and also how long the book is in terms of string length (meaning that if we load in the book as a string, we compute the length of the string using the built-in Python function `len`; this is just counting the number of characters).\n",
    "\n",
    "**Please do not actually print out the contents of each book since many of the books are extremely long, and by printing out all the books' contents, you'll end up creating a Jupyter notebook that has a massive file size.**\n",
    "\n",
    "Hint: When debugging your code, you may want to first make sure your code runs on a few of the books rather than all 100 (for example, you can start by only having 3 of the text files in `HW1_Dataset`). Once you're confident that your solution is correct on a few text files, then run on all of them! This is a standard approach to debugging code that is meant to handle large datasets.\n",
    "\n",
    "Your output should look like (although there should be 100 books rather than 3 as shown below; also, the ordering of the books might be different on your machine):\n",
    "\n",
    "```\n",
    "./HW1_Dataset/War and Peace by graf Leo Tolstoy (251).txt 3227580\n",
    "./HW1_Dataset/Democracy in America — Volume 1 by Alexis de Tocqueville (147).txt 1148435\n",
    "./HW1_Dataset/Frankenstein; Or, The Modern Prometheus by Mary Wollstonecraft Shelley (501).txt 441034\n",
    "```"
   ]
  },
  {
   "cell_type": "code",
   "execution_count": 1,
   "metadata": {},
   "outputs": [],
   "source": [
    "import os\n",
    "import pandas as pd\n",
    "from tqdm import tqdm"
   ]
  },
  {
   "cell_type": "code",
   "execution_count": 10,
   "metadata": {},
   "outputs": [
    {
     "name": "stdout",
     "output_type": "stream",
     "text": [
      "War and Peace by graf Leo Tolstoy (251).txt\n",
      "3227580\n",
      "Democracy in America — Volume 1 by Alexis de Tocqueville (147).txt\n",
      "1148435\n",
      "Frankenstein; Or, The Modern Prometheus by Mary Wollstonecraft Shelley (501).txt\n",
      "441034\n",
      "The King James Version of the Bible (132).txt\n",
      "4351846\n",
      "Et dukkehjem. English by Henrik Ibsen (557).txt\n",
      "161241\n",
      "Outpost in the Wilderness_ Fort Wayne, 1706-1828 by Charles Poinsatte (161).txt\n",
      "363234\n",
      "The Romance of Lust_ A Classic Victorian erotic novel by Anonymous (294).txt\n",
      "1051148\n",
      "The Odyssey by Homer (124).txt\n",
      "697404\n",
      "A History of Spanish Literature by James Fitzmaurice-Kelly (109).txt\n",
      "765918\n",
      "The Philosophy of Spiritual Activity by Rudolf Steiner (144).txt\n",
      "545031\n",
      "My Fifteen Lost Years by Florence Elizabeth Maybrick (499).txt\n",
      "383694\n",
      "Prestuplenie i nakazanie. English by Fyodor Dostoyevsky (160).txt\n",
      "1154508\n",
      "The History of the Peloponnesian War by Thucydides (122).txt\n",
      "1200021\n",
      "Gulliver's Travels into Several Remote Nations of the World by Jonathan Swift (136).txt\n",
      "600105\n",
      "The Peddler Spy by W. J. Hamilton (356).txt\n",
      "197390\n",
      "Dubliners by James Joyce (219).txt\n",
      "389199\n",
      "The Hound of the Baskervilles by Arthur Conan Doyle (223).txt\n",
      "339188\n",
      "The Boy Fortune Hunters in China by L. Frank  Baum (215).txt\n",
      "324452\n",
      "Leviathan by Thomas Hobbes (417).txt\n",
      "1231784\n",
      "The Awakening, and Selected Short Stories by Kate Chopin (192).txt\n",
      "378936\n",
      "The Interesting Narrative of the Life of Olaudah Equiano, Or Gustavus Vassa, The African by Equiano (114).txt\n",
      "471165\n",
      "Through the Looking-Glass by Lewis Carroll (134).txt\n",
      "181667\n",
      "Il Principe. English by Niccolò Machiavelli (428) (Unicode Encoding Conflict).txt\n",
      "300788\n",
      "On Liberty by John Stuart Mill (116).txt\n",
      "325922\n",
      "The Law of Storms by John Wilson Ross (110).txt\n",
      "65264\n",
      "The Strange Case of Dr. Jekyll and Mr. Hyde by Robert Louis Stevenson (170).txt\n",
      "159542\n",
      "Liberalism by L. T.  Hobhouse (119).txt\n",
      "305345\n",
      "Semmering 1912 by Peter Altenberg (221).txt\n",
      "264946\n",
      "Les Misérables by Victor Hugo (165) (Unicode Encoding Conflict).txt\n",
      "3254333\n",
      "The Count of Monte Cristo, Illustrated by Alexandre Dumas (160).txt\n",
      "2643849\n",
      "Alice in Wonderland by Lewis Carroll and Alice Gerstenberg (126).txt\n",
      "104079\n",
      "Common Sense by Thomas Paine (297).txt\n",
      "145353\n",
      "Narrative of the Captivity and Restoration of Mrs. Mary Rowlandson by Mary White Rowlandson (222).txt\n",
      "123784\n",
      "The Divine Comedy by Dante, Illustrated by Dante Alighieri (119).txt\n",
      "2161\n",
      "The Importance of Being Earnest_ A Trivial Comedy for Serious People by Oscar Wilde (454).txt\n",
      "138887\n",
      "Walden, and On The Duty Of Civil Disobedience by Henry David Thoreau (180).txt\n",
      "656207\n",
      "The Yellow Wallpaper by Charlotte Perkins Gilman (462).txt\n",
      "50841\n",
      "Jane Eyre_ An Autobiography by Charlotte Brontë (290) (Unicode Encoding Conflict).txt\n",
      "1049267\n",
      "The Kama Sutra of Vatsyayana by Vatsyayana (172).txt\n",
      "351664\n",
      "Sense and Sensibility by Jane Austen (177).txt\n",
      "693095\n",
      "Adventures of Huckleberry Finn by Mark Twain (401).txt\n",
      "593962\n",
      "Heart of Darkness by Joseph Conrad (213).txt\n",
      "229835\n",
      "The Republic by Plato (246).txt\n",
      "1214387\n",
      "The Complete Works of William Shakespeare by William Shakespeare (132).txt\n",
      "5465100\n",
      "The Picture of Dorian Gray by Oscar Wilde (282).txt\n",
      "453169\n",
      "The Works of Edgar Allan Poe — Volume 2 by Edgar Allan Poe (137).txt\n",
      "569966\n",
      "Ulysses by James Joyce (282).txt\n",
      "1534140\n",
      "The Federalist Papers by Alexander Hamilton and John Jay and James Madison (116).txt\n",
      "1167141\n",
      "Leaves of Grass by Walt Whitman (164).txt\n",
      "757361\n",
      "Narrative of the Life of Frederick Douglass, an American Slave by Frederick Douglass (243).txt\n",
      "244263\n",
      "A Study in Scarlet by Arthur Conan Doyle (163).txt\n",
      "262340\n",
      "Beowulf An Anglo-Saxon Epic Poem (403).txt\n",
      "292953\n",
      "The Wendigo by Algernon Blackwood (174).txt\n",
      "127464\n",
      "The Scarlet Letter by Nathaniel Hawthorne (211).txt\n",
      "506975\n",
      "Persuasion by Jane Austen (2234).txt\n",
      "486251\n",
      "The Time Machine by H. G.  Wells (137).txt\n",
      "198281\n",
      "The Guardsman by Homer Greene (175).txt\n",
      "412900\n",
      "Carmilla by Joseph Sheridan Le Fanu (135).txt\n",
      "176408\n",
      "Uncle Tom's Cabin by Harriet Beecher Stowe (108).txt\n",
      "1025501\n",
      "A Tale of Two Cities by Charles Dickens (425).txt\n",
      "776702\n",
      "Moby Dick; Or, The Whale by Herman Melville (413).txt\n",
      "1238569\n",
      "Songs of Innocence, and Songs of Experience by William Blake (166).txt\n",
      "51724\n",
      "Dracula by Bram Stoker (461).txt\n",
      "867141\n",
      "Emma by Jane Austen (166).txt\n",
      "902390\n",
      "Wuthering Heights by Emily Brontë (179) (Unicode Encoding Conflict).txt\n",
      "669150\n",
      "Autobiography of Benjamin Franklin by Benjamin Franklin (247).txt\n",
      "458600\n",
      "The Strange Case of Dr. Jekyll and Mr. Hyde by Robert Louis Stevenson (158).txt\n",
      "158048\n",
      "Anne of Green Gables by L. M.  Montgomery (114).txt\n",
      "580635\n",
      "The Souls of Black Folk by W. E. B.  Du Bois (172).txt\n",
      "421336\n",
      "The Confessions of St. Augustine by Bishop of Hippo Saint Augustine (157).txt\n",
      "622405\n",
      "Candide by Voltaire (180).txt\n",
      "224924\n",
      "The Legend of Sleepy Hollow by Washington Irving (399).txt\n",
      "89237\n",
      "Alice's Adventures in Wonderland by Lewis Carroll (564).txt\n",
      "163817\n",
      "Peter Pan by J. M.  Barrie (274).txt\n",
      "278194\n",
      "The Wonderful Wizard of Oz by L. Frank  Baum (150).txt\n",
      "227654\n",
      "The Innocents Abroad by Mark Twain (108).txt\n",
      "1126278\n",
      "The Turn of the Screw by Henry James (185).txt\n",
      "248089\n",
      "The Adventures of Tom Sawyer by Mark Twain (371).txt\n",
      "412712\n",
      "The Tragedy of Romeo and Juliet by William Shakespeare (131).txt\n",
      "174128\n",
      "A Modest Proposal by Jonathan Swift (233).txt\n",
      "38966\n",
      "A Christmas Carol in Prose; Being a Ghost Story of Christmas by Charles Dickens (265).txt\n",
      "177758\n",
      "Essays of Michel de Montaigne — Complete by Michel de Montaigne (205).txt\n",
      "3033575\n",
      "The Adventures of Sherlock Holmes by Arthur Conan Doyle (447).txt\n",
      "581864\n",
      "Robert Greene by Robert Greene (126).txt\n",
      "760655\n",
      "Essays by Ralph Waldo Emerson by Ralph Waldo Emerson (239).txt\n",
      "557197\n",
      "The Boy Fortune Hunters in the South Seas by L. Frank  Baum (150).txt\n",
      "266166\n",
      "Pride and Prejudice by Jane Austen (1003).txt\n",
      "704192\n",
      "My Secret Life, Volumes I. to III. by Anonymous (157).txt\n",
      "1378627\n",
      "The Mysterious Affair at Styles by Agatha Christie (115).txt\n",
      "340770\n",
      "Treasure Island by Robert Louis Stevenson (236).txt\n",
      "383675\n",
      "Hedda Gabler by Henrik Ibsen (123).txt\n",
      "193875\n",
      "Metamorphosis by Franz Kafka (483).txt\n",
      "139056\n",
      "Great Expectations by Charles Dickens (293).txt\n",
      "1013450\n",
      "The Life and Adventures of Robinson Crusoe by Daniel Defoe (126).txt\n",
      "642909\n",
      "The Iliad by Homer (256).txt\n",
      "1175588\n",
      "The Tragical History of Doctor Faustus by Christopher Marlowe (144).txt\n",
      "143736\n",
      "Grimms' Fairy Tales by Jacob Grimm and Wilhelm Grimm (429).txt\n",
      "540241\n",
      "Beyond Good and Evil by Friedrich Wilhelm Nietzsche (120).txt\n",
      "402273\n",
      "Siddhartha by Hermann Hesse (216).txt\n",
      "236855\n",
      "The Faery Queen and Her Knights by Alfred John Church (177).txt\n",
      "447320\n"
     ]
    }
   ],
   "source": [
    "# Write a loop that iterates through all 100 books; \n",
    "path =  '/Users/cmu-work/Code/CMU Class Code/95865_unstructure_data_analysis/HW1/HW1_Dataset'\n",
    "\n",
    "# list all files in the directory   \n",
    "files = os.listdir(path)\n",
    "\n",
    "#print file name and file length\n",
    "for book in files:\n",
    "    print(book)\n",
    "    book_path = path + '/' + book\n",
    "    with open(book_path, 'r') as f:\n",
    "        text = f.read()\n",
    "    print(len(text))  "
   ]
  },
  {
   "cell_type": "markdown",
   "metadata": {},
   "source": [
    "**Subpart ii [5 pts].** Copy and paste your code from **subpart i** into the code cell below. Then in the code cell below, modify the code so that it prints out the top 15 longest books (in terms of raw string length, which is what you had already computed). In particular, please write your code so that the printout is of the following format:\n",
    "\n",
    "```\n",
    "1. <number of characters in longest text file> <filename of longest text file>\n",
    "2. <number of characters in 2nd longest text file> <filename of 2nd longest text file>\n",
    "...\n",
    "15. <number of characters in 15th longest text file> <filename of 15th longest text file>\n",
    "```\n",
    "\n",
    "Note: only print out information for the top 15 books in the format above; please do not repeat printing what we asked you to print in **subpart i**."
   ]
  },
  {
   "cell_type": "code",
   "execution_count": 14,
   "metadata": {},
   "outputs": [],
   "source": [
    "# Write a loop that iterates through all 100 books; \n",
    "path =  '/Users/cmu-work/Code/CMU Class Code/95865_unstructure_data_analysis/HW1/HW1_Dataset'\n",
    "\n",
    "# list all files in the directory   \n",
    "files = os.listdir(path)\n",
    "\n",
    "df = pd.DataFrame(columns=['book_name', 'book_length'])\n",
    "#print file name and file length\n",
    "for book in files:\n",
    "    book_path = path + '/' + book\n",
    "    with open(book_path, 'r') as f:\n",
    "        text = f.read()\n",
    "\n",
    "    data = pd.DataFrame({'book_name': book, 'book_length': len(text)}, index=[0])\n",
    "\n",
    "    # meger data\n",
    "    df = pd.concat([df, data], ignore_index=True)\n",
    "     "
   ]
  },
  {
   "cell_type": "code",
   "execution_count": 18,
   "metadata": {},
   "outputs": [],
   "source": [
    "# sort by book_length\n",
    "df = df.sort_values(by='book_length', ascending=False)\n",
    "\n",
    "#reset index\n",
    "df = df.reset_index(drop=True)"
   ]
  },
  {
   "cell_type": "code",
   "execution_count": 20,
   "metadata": {},
   "outputs": [
    {
     "name": "stdout",
     "output_type": "stream",
     "text": [
      "5465100 The Complete Works of William Shakespeare by William Shakespeare (132).txt\n",
      "4351846 The King James Version of the Bible (132).txt\n",
      "3254333 Les Misérables by Victor Hugo (165) (Unicode Encoding Conflict).txt\n",
      "3227580 War and Peace by graf Leo Tolstoy (251).txt\n",
      "3033575 Essays of Michel de Montaigne — Complete by Michel de Montaigne (205).txt\n",
      "2643849 The Count of Monte Cristo, Illustrated by Alexandre Dumas (160).txt\n",
      "1534140 Ulysses by James Joyce (282).txt\n",
      "1378627 My Secret Life, Volumes I. to III. by Anonymous (157).txt\n",
      "1238569 Moby Dick; Or, The Whale by Herman Melville (413).txt\n",
      "1231784 Leviathan by Thomas Hobbes (417).txt\n",
      "1214387 The Republic by Plato (246).txt\n",
      "1200021 The History of the Peloponnesian War by Thucydides (122).txt\n",
      "1175588 The Iliad by Homer (256).txt\n",
      "1167141 The Federalist Papers by Alexander Hamilton and John Jay and James Madison (116).txt\n",
      "1154508 Prestuplenie i nakazanie. English by Fyodor Dostoyevsky (160).txt\n"
     ]
    }
   ],
   "source": [
    "# print out the top 15 books in the format <number of characters in longest text file> <filename of longest text file>\n",
    "for i in range(15):\n",
    "    print(df['book_length'][i], df['book_name'][i])"
   ]
  },
  {
   "cell_type": "markdown",
   "metadata": {},
   "source": [
    "**Subpart iii [5 pts].** You should find that some of the books are quite long. Processing very long books will be problematic with spaCy, so we will want to chop up long books into pieces. Note that later on in the course, we shall see that chopping up large amounts of data into small pieces or \"batches\" is in fact quite common in machine learning since for massive datasets, we often cannot store them in their entirety on a CPU or GPU for processing all at once.\n",
    "\n",
    "As a toy example, suppose that a book's text is `'cat dog shark spam eggs'` and we want to split it up into batches where each batch has at most 3 words. Then we could split up the book's text into two batches/pieces: `'cat dog shark'` and `'spam eggs'`.\n",
    "\n",
    "We have provided code for you to do this below."
   ]
  },
  {
   "cell_type": "code",
   "execution_count": 21,
   "metadata": {},
   "outputs": [
    {
     "name": "stdout",
     "output_type": "stream",
     "text": [
      "['cat dog shark', 'spam eggs']\n"
     ]
    }
   ],
   "source": [
    "import numpy as np\n",
    "\n",
    "def split_into_batches(book_text, max_num_words_per_batch):\n",
    "    words_split_on_spaces = book_text.split(' ')\n",
    "    num_book_pieces = int(np.ceil(len(words_split_on_spaces) / max_num_words_per_batch))\n",
    "    batches = []\n",
    "    for piece_idx in range(num_book_pieces):\n",
    "        start_idx = piece_idx * max_num_words_per_batch\n",
    "        end_idx = (piece_idx + 1) * max_num_words_per_batch\n",
    "        if end_idx > len(words_split_on_spaces):\n",
    "            end_idx = len(words_split_on_spaces)\n",
    "        book_piece = ' '.join(words_split_on_spaces[start_idx:end_idx])\n",
    "        batches.append(book_piece)\n",
    "    return batches\n",
    "\n",
    "print(split_into_batches('cat dog shark spam eggs', 3))"
   ]
  },
  {
   "cell_type": "markdown",
   "metadata": {},
   "source": [
    "Now write a loop that goes through all 100 books again. However, for each book, split it up into batches so that each batch has at most 10000 words. In this case, how many batches are there total across all 100 books? Please write code that computes this number of batches. Your code should print out the following (with the correct total number of batches):\n",
    "\n",
    "```\n",
    "Total number of batches: <total number of batches across all 100 books>\n",
    "```"
   ]
  },
  {
   "cell_type": "code",
   "execution_count": 28,
   "metadata": {},
   "outputs": [
    {
     "name": "stderr",
     "output_type": "stream",
     "text": [
      "  0%|          | 0/100 [00:00<?, ?it/s]"
     ]
    },
    {
     "name": "stderr",
     "output_type": "stream",
     "text": [
      "100%|██████████| 100/100 [00:01<00:00, 54.48it/s]"
     ]
    },
    {
     "name": "stdout",
     "output_type": "stream",
     "text": [
      "Total number of batches:  1246\n"
     ]
    },
    {
     "name": "stderr",
     "output_type": "stream",
     "text": [
      "\n"
     ]
    }
   ],
   "source": [
    "total_batch = 0\n",
    "for book in tqdm(files):\n",
    "    book_path = path + '/' + book\n",
    "    with open(book_path, 'r') as f:\n",
    "        text = f.read()\n",
    "        result = split_into_batches(text, 10000)\n",
    "        total_batch += len(result)\n",
    "\n",
    "print ('Total number of batches: ', total_batch)\n"
   ]
  },
  {
   "cell_type": "markdown",
   "metadata": {},
   "source": [
    "**(b) [10 pts]** Now we will finally use spaCy. Note that for this problem, you don't actually need `spaCy`'s named entity recognition or grammatical parsing. Turning these elements off when you instantiate the `nlp` object can substantially speed up your code. To make sure these are off when instantiating the `nlp` object, call: \n",
    "\n",
    "```python\n",
    "nlp = spacy.load('en_core_web_sm', disable=['ner', 'parser'])\n",
    "```\n",
    "\n",
    "**Throughout this problem, do not remove stopwords.**\n",
    "\n",
    "Build a term frequency (raw counts) table that is for all 100 books. Specifically, building on your solution to part (a)-subpart iii, read in a single book at a time and for each book, do the following:\n",
    "\n",
    "  1. Split it up into batches where each batch has at most 10000 words.\n",
    "  2. For each batch:\n",
    "    1. Process the batch by separating and lemmatizing the words\n",
    "    2. Count the number of times each lemma appears and add these to the frequency table. For simplicity, **do not convert lemmas to lowercase**. (Note that we use raw counts as the \"frequency\"--do not do any division.) Also, as we explain below, we will only count lemmas that are alphabetic.\n",
    "\n",
    "Note that just as we had said in part (a): do **not** print out the complete contents of every book since doing so will result in a Jupyter notebook file that is massive.\n",
    "\n",
    "After looping through all 100 books, you should have the term frequency table for the entire corpus (importantly, the frequency table should not just be for a single book; it should be for all 100 books). Sort the table and print the top 50 most frequent words, along with their frequencies and ranks. Don't worry about ties (for example, if multiple things have the same frequency, it's fine if your solution breaks ties arbitrarily in the sorting).\n",
    "\n",
    "Note: When counting the lemmas, only include lemmas that consist of alphabetic letters (a-z and A-Z). You can do this with what's called a *regular expression*. For example, to check whether the words \"will.i.am\" or \"Tesla\" are alphabetic, you would do the following:\n",
    "\n",
    "```python\n",
    "import re  # regular expression package\n",
    "if re.match('[a-zA-Z]+$', 'will.i.am'):\n",
    "    print('will.i.am consists only of alphabetic letters!')\n",
    "if re.match('[a-zA-Z]+$', 'Tesla'):\n",
    "    print('tesla consists only of alphabetic letters!')\n",
    "```"
   ]
  },
  {
   "cell_type": "code",
   "execution_count": 29,
   "metadata": {},
   "outputs": [
    {
     "name": "stdout",
     "output_type": "stream",
     "text": [
      "tesla consists only of alphabetic letters!\n"
     ]
    }
   ],
   "source": [
    "import re  # regular expression package\n",
    "if re.match('[a-zA-Z]+$', 'will.i.am'):\n",
    "    print('will.i.am consists only of alphabetic letters!')\n",
    "if re.match('[a-zA-Z]+$', 'Tesla'):\n",
    "    print('tesla consists only of alphabetic letters!')"
   ]
  },
  {
   "cell_type": "code",
   "execution_count": 31,
   "metadata": {},
   "outputs": [],
   "source": [
    "import spacy\n",
    "nlp = spacy.load('en_core_web_sm')"
   ]
  },
  {
   "cell_type": "code",
   "execution_count": null,
   "metadata": {},
   "outputs": [],
   "source": [
    "# test 1\n",
    "# test_doc = nlp('cat dog shark spam eggs will.i.am Tesla')\n",
    "\n",
    "# for token in test_doc:\n",
    "#     if re.match('[a-zA-Z]+$', token.lemma_):\n",
    "#         if token.lemma_ in test_freq_table:\n",
    "#             test_freq_table[token.lemma_] += 1\n",
    "#         else:\n",
    "#             test_freq_table[token.lemma_] = 1\n",
    "\n",
    "# print(test_freq_table)"
   ]
  },
  {
   "cell_type": "code",
   "execution_count": null,
   "metadata": {},
   "outputs": [],
   "source": [
    "# Test 2\n",
    "# # Build a term frequency (raw counts) table for test_path\n",
    "\n",
    "# nlp = spacy.load('en_core_web_sm', disable=['ner', 'parser'])\n",
    "\n",
    "# test_freq_table = {}\n",
    "# #make a empty dictionary\n",
    "\n",
    "# test_path\n",
    "# with open(book_path, 'r') as f:\n",
    "#     text = f.read()\n",
    "#     result = split_into_batches(text, 10000)\n",
    "#     for batch in tqdm(result):\n",
    "#         doc = nlp(batch)\n",
    "#         for token in doc:\n",
    "#             if re.match('[a-zA-Z]+$', token.lemma_):\n",
    "#                 if token.lemma_ in test_freq_table:\n",
    "#                     test_freq_table[token.lemma_] += 1\n",
    "#                 else:\n",
    "#                     test_freq_table[token.lemma_] = 1"
   ]
  },
  {
   "cell_type": "code",
   "execution_count": 40,
   "metadata": {},
   "outputs": [
    {
     "name": "stderr",
     "output_type": "stream",
     "text": [
      "100%|██████████| 100/100 [13:51<00:00,  8.31s/it]\n"
     ]
    }
   ],
   "source": [
    "# Build a term frequency (raw counts) table for test_path\n",
    "\n",
    "nlp = spacy.load('en_core_web_sm', disable=['ner', 'parser'])\n",
    "\n",
    "test_freq_table = {}\n",
    "#make a empty dictionary\n",
    "\n",
    "for book in tqdm(files):\n",
    "    book_path = path + '/' + book\n",
    "    with open(book_path, 'r') as f:\n",
    "        text = f.read()\n",
    "        result = split_into_batches(text, 10000)\n",
    "        for batch in result:\n",
    "            doc = nlp(batch)\n",
    "            for token in doc:\n",
    "                if re.match('[a-zA-Z]+$', token.lemma_):\n",
    "                    if token.lemma_ in test_freq_table:\n",
    "                        test_freq_table[token.lemma_] += 1\n",
    "                    else:\n",
    "                        test_freq_table[token.lemma_] = 1"
   ]
  },
  {
   "cell_type": "code",
   "execution_count": 42,
   "metadata": {},
   "outputs": [],
   "source": [
    "# save the dictionary to a csv file\n",
    "df_freq = pd.DataFrame(list(test_freq_table.items()), columns=['lemma', 'count'])\n",
    "df_freq.to_csv('test_freq_table.csv', index=False)\n"
   ]
  },
  {
   "cell_type": "markdown",
   "metadata": {},
   "source": [
    "**(c) [10 pts]** Visualize the frequency table by plotting a **raw scatter plot** (put frequency as the y-axis and rank as the x-axis), and a **log-log plot** (use logarithmic scales on both the x- and y- axes). Note that this should be for all words and not only the top 50. As before, for the ranks, do not worry about ties, i.e., break ties arbitrarily."
   ]
  },
  {
   "cell_type": "code",
   "execution_count": 43,
   "metadata": {},
   "outputs": [
    {
     "data": {
      "image/png": "[encoded data removed]",
      "text/plain": [
       "<Figure size 720x360 with 1 Axes>"
      ]
     },
     "metadata": {
      "needs_background": "light"
     },
     "output_type": "display_data"
    }
   ],
   "source": [
    "# Raw scatter plot with the frequency table\n",
    "import matplotlib.pyplot as plt\n",
    "import numpy as np\n",
    "\n",
    "# Load the frequency table\n",
    "df_freq = pd.read_csv('test_freq_table.csv')\n",
    "\n",
    "# Sort the frequency table by count\n",
    "df_freq = df_freq.sort_values(by='count', ascending=False)\n",
    "\n",
    "# Reset the index\n",
    "df_freq = df_freq.reset_index(drop=True)\n",
    "\n",
    "# # Plot the raw scatter plot\n",
    "# plt.figure(figsize=(10, 5))\n",
    "# plt.scatter(np.arange(len(df_freq)), df_freq['count'])\n",
    "# plt.xlabel('Rank')\n",
    "# plt.ylabel('Raw count')\n",
    "# plt.show()\n",
    "\n",
    "\n"
   ]
  },
  {
   "cell_type": "code",
   "execution_count": 46,
   "metadata": {},
   "outputs": [
    {
     "data": {
      "image/png": "[encoded data removed]",
      "text/plain": [
       "<Figure size 720x360 with 1 Axes>"
      ]
     },
     "metadata": {
      "needs_background": "light"
     },
     "output_type": "display_data"
    }
   ],
   "source": [
    "# add lables to top 10 words\n",
    "plt.figure(figsize=(10, 5))\n",
    "plt.scatter(np.arange(len(df_freq)), df_freq['count'])\n",
    "plt.xlabel('Rank')\n",
    "plt.ylabel('Raw count')\n",
    "for i in range(10):\n",
    "    plt.annotate(df_freq['lemma'][i], (i, df_freq['count'][i]))\n",
    "plt.show()"
   ]
  },
  {
   "cell_type": "code",
   "execution_count": 48,
   "metadata": {},
   "outputs": [
    {
     "data": {
      "image/png": "[encoded data removed]",
      "text/plain": [
       "<Figure size 720x360 with 1 Axes>"
      ]
     },
     "metadata": {
      "needs_background": "light"
     },
     "output_type": "display_data"
    }
   ],
   "source": [
    "# make log log plot\n",
    "\n",
    "plt.figure(figsize=(10, 5))\n",
    "\n",
    "# Convert to a numpy array before indexing instea of using pandas indexing\n",
    "x = np.arange(len(df_freq))\n",
    "y = df_freq['count'].to_numpy()\n",
    "\n",
    "plt.loglog(x, y)\n",
    "\n",
    "plt.xlabel('Rank')\n",
    "plt.ylabel('Raw count')\n",
    "\n",
    "plt.show()\n"
   ]
  },
  {
   "cell_type": "markdown",
   "metadata": {},
   "source": [
    "**(d) [10 pts across subparts]** Let's now try to make sense of the very last plot in part **(c)**. Zipf's law states that term frequency is governed by a power law, i.e. the relationship between term frequency and rank can be approximated by $f(r) = cr^{-1}$, where $f(r)$ is the frequency of the term at rank $r$, $r$ is the rank of a term, and $c$ is a constant that is approximately 0.1*(corpus size) for English.\n",
    "\n",
    "Please answer the following questions:\n",
    "\n",
    "**Subpart i [2 pts].** What do you observe in the log-log plot above? Is this consist with the power law?"
   ]
  },
  {
   "cell_type": "markdown",
   "metadata": {},
   "source": [
    "Your text answer (for this question, your answer is *not* code): \n",
    "I observed that in the log-log plot, the distribution of word frequencies also adheres to the power law. The negative linear correlation between the raw count and rank in the log-log plot suggests that the distribution of word frequencies follows this power law."
   ]
  },
  {
   "cell_type": "markdown",
   "metadata": {},
   "source": [
    "**Subpart ii [4 pts].** Think of the corpus as a (large) unigram bag of words. Following the analogy from lecture, imagine drawing a single word from this big bag (note that we are assuming that we've lemmatized the words and also filtered out non-alphabetic words; thus what remains in the bag are actually alphabetic lemmas). What is the probability of drawing one of the 4 most frequent alphabetic lemmas? What is the probability of drawing one of the 50 most frequent alphabetic lemmas? Answer these two questions using code rather than just entering in the final answers as numbers."
   ]
  },
  {
   "cell_type": "code",
   "execution_count": 51,
   "metadata": {},
   "outputs": [
    {
     "name": "stdout",
     "output_type": "stream",
     "text": [
      "Probability of drawing one of the 4 most frequent alphabetic lemmas: \n",
      "0.16224400336116176\n",
      "Probability of drawing one of the 50 most frequent alphabetic lemmas: \n",
      "0.48310940071723874\n"
     ]
    }
   ],
   "source": [
    "print('Probability of drawing one of the 4 most frequent alphabetic lemmas: ')\n",
    "# find out the probability of drawing one of the 4 most frequent alphabetic lemmas\n",
    "print(df_freq['count'][0:4].sum() / df_freq['count'].sum())\n",
    "\n",
    "print('Probability of drawing one of the 50 most frequent alphabetic lemmas: ')\n",
    "# find out the probability of drawing one of the 50 most frequent alphabetic lemmas\n",
    "print(df_freq['count'][0:50].sum() / df_freq['count'].sum())"
   ]
  },
  {
   "cell_type": "markdown",
   "metadata": {},
   "source": [
    "**Subpart iii [4 pts].** What proportion of the alphabetic lemmas occur only once? What proportion of the alphabetic lemmas occur fewer than 10 times?"
   ]
  },
  {
   "cell_type": "code",
   "execution_count": 54,
   "metadata": {
    "scrolled": true
   },
   "outputs": [
    {
     "name": "stdout",
     "output_type": "stream",
     "text": [
      "Occur only once: \n",
      "0.44752296068407005\n",
      "Occur fewer than 10 times: \n",
      "0.7815500158349545\n"
     ]
    }
   ],
   "source": [
    "print(\"Occur only once: \")\n",
    "# find out the proportion of alphabetic lemmas that occur only once\n",
    "print(df_freq[df_freq['count'] == 1].shape[0] / df_freq.shape[0])\n",
    "\n",
    "print(\"Occur fewer than 10 times: \")\n",
    "# find out the proportion of alphabetic lemmas that occur fewer than 10 times\n",
    "print(df_freq[df_freq['count'] < 10].shape[0] / df_freq.shape[0])"
   ]
  },
  {
   "cell_type": "markdown",
   "metadata": {},
   "source": [
    "### [Problem 2] Entity Recognition and Pointwise Mutual Information (PMI) [50 pts]\n",
    "By using the entity recognition system in `spaCy`, let's identify named entities from newspaper articles. You'll be using Reuters corpus which contains more than ten thousand newspaper articles. To run the code below, you need to download the Reuters dataset. To do so, in a terminal/command line (recall that you can open a terminal from Jupyter's webpage that shows all the files, which by default is [http://localhost:8888/tree](http://localhost:8888/tree)), start up Python and enter:\n",
    "\n",
    "```python\n",
    "import nltk\n",
    "nltk.download('reuters')\n",
    "```\n",
    "\n",
    "Then proceed to the problem subparts below.\n",
    "\n",
    "Note that in this problem you will need named entity recognition but not grammatical parsing. Hence, you will want to instantiate the nlp object by calling:\n",
    "\n",
    "```python\n",
    "nlp = spacy.load('en_core_web_sm', disable=['parser'])\n",
    "```\n"
   ]
  },
  {
   "cell_type": "markdown",
   "metadata": {},
   "source": [
    "**(a) [15 pts]** Draw a bar chart in which one of the axes shows entity labels and the other shows the frequency of the corresponding label. Use the variables `reuters_nlp` and `label_counter` provided in the code below."
   ]
  },
  {
   "cell_type": "code",
   "execution_count": 2,
   "metadata": {},
   "outputs": [
    {
     "name": "stderr",
     "output_type": "stream",
     "text": [
      "[nltk_data] Downloading package reuters to /Users/cmu-\n",
      "[nltk_data]     work/nltk_data...\n",
      "[nltk_data]   Package reuters is already up-to-date!\n"
     ]
    }
   ],
   "source": [
    "import matplotlib.pyplot as plt\n",
    "from collections import Counter\n",
    "from nltk.corpus import reuters\n",
    "import re\n",
    "import spacy\n",
    "from tqdm import tqdm\n",
    "import numpy as np\n",
    "import pandas as pd\n",
    "\n",
    "import nltk\n",
    "nltk.download('reuters')\n",
    "nlp = spacy.load('en_core_web_sm', disable=['parser'])"
   ]
  },
  {
   "cell_type": "code",
   "execution_count": 3,
   "metadata": {},
   "outputs": [
    {
     "name": "stderr",
     "output_type": "stream",
     "text": [
      "  0%|          | 0/10788 [00:00<?, ?it/s]/Users/cmu-work/opt/anaconda3/lib/python3.8/site-packages/spacy/pipeline/lemmatizer.py:211: UserWarning: [W108] The rule-based lemmatizer did not find POS annotation for one or more tokens. Check that your pipeline includes components that assign token.pos, typically 'tagger'+'attribute_ruler' or 'morphologizer'.\n",
      "  warnings.warn(Warnings.W108)\n",
      "100%|██████████| 10788/10788 [02:27<00:00, 73.33it/s]\n"
     ]
    }
   ],
   "source": [
    "\n",
    "nlp = spacy.load('en_core_web_sm', disable=['parser', 'tagger'])\n",
    "reuters_fileids = reuters.fileids()  # hint: when first debugging, consider looking at just the first few\n",
    "reuters_nlp = [nlp(re.sub('\\s+',' ', reuters.raw(i)).strip()) for i in tqdm(reuters_fileids)]\n"
   ]
  },
  {
   "cell_type": "code",
   "execution_count": 8,
   "metadata": {},
   "outputs": [
    {
     "name": "stderr",
     "output_type": "stream",
     "text": [
      "  0%|          | 0/10788 [00:00<?, ?it/s]"
     ]
    },
    {
     "name": "stderr",
     "output_type": "stream",
     "text": [
      "100%|██████████| 10788/10788 [00:00<00:00, 32647.80it/s]\n"
     ]
    }
   ],
   "source": [
    "# cacluate the number of entities in each category\n",
    "all_ent = []\n",
    "\n",
    "for doc in tqdm(reuters_nlp):\n",
    "    for ent in doc.ents :\n",
    "        all_ent.append(ent.label_)"
   ]
  },
  {
   "cell_type": "code",
   "execution_count": 9,
   "metadata": {},
   "outputs": [],
   "source": [
    "label_counter = Counter(all_ent)"
   ]
  },
  {
   "cell_type": "code",
   "execution_count": 170,
   "metadata": {},
   "outputs": [
    {
     "data": {
      "text/html": [
       "<div>\n",
       "<style scoped>\n",
       "    .dataframe tbody tr th:only-of-type {\n",
       "        vertical-align: middle;\n",
       "    }\n",
       "\n",
       "    .dataframe tbody tr th {\n",
       "        vertical-align: top;\n",
       "    }\n",
       "\n",
       "    .dataframe thead th {\n",
       "        text-align: right;\n",
       "    }\n",
       "</style>\n",
       "<table border=\"1\" class=\"dataframe\">\n",
       "  <thead>\n",
       "    <tr style=\"text-align: right;\">\n",
       "      <th></th>\n",
       "      <th>count</th>\n",
       "      <th>label_text</th>\n",
       "      <th>label_type</th>\n",
       "    </tr>\n",
       "  </thead>\n",
       "  <tbody>\n",
       "    <tr>\n",
       "      <th>0</th>\n",
       "      <td>4</td>\n",
       "      <td>ASIAN</td>\n",
       "      <td>NORP</td>\n",
       "    </tr>\n",
       "    <tr>\n",
       "      <th>1</th>\n",
       "      <td>3907</td>\n",
       "      <td>U.S.</td>\n",
       "      <td>GPE</td>\n",
       "    </tr>\n",
       "    <tr>\n",
       "      <th>2</th>\n",
       "      <td>1291</td>\n",
       "      <td>Japan</td>\n",
       "      <td>GPE</td>\n",
       "    </tr>\n",
       "    <tr>\n",
       "      <th>3</th>\n",
       "      <td>32</td>\n",
       "      <td>Asia</td>\n",
       "      <td>LOC</td>\n",
       "    </tr>\n",
       "    <tr>\n",
       "      <th>4</th>\n",
       "      <td>14</td>\n",
       "      <td>Reuter</td>\n",
       "      <td>PERSON</td>\n",
       "    </tr>\n",
       "    <tr>\n",
       "      <th>...</th>\n",
       "      <td>...</td>\n",
       "      <td>...</td>\n",
       "      <td>...</td>\n",
       "    </tr>\n",
       "    <tr>\n",
       "      <th>64575</th>\n",
       "      <td>1</td>\n",
       "      <td>5,167,573</td>\n",
       "      <td>CARDINAL</td>\n",
       "    </tr>\n",
       "    <tr>\n",
       "      <th>64576</th>\n",
       "      <td>1</td>\n",
       "      <td>1,251,337</td>\n",
       "      <td>CARDINAL</td>\n",
       "    </tr>\n",
       "    <tr>\n",
       "      <th>64577</th>\n",
       "      <td>1</td>\n",
       "      <td>AUTOMOTIVE TECHNOLOGIES CORP</td>\n",
       "      <td>ORG</td>\n",
       "    </tr>\n",
       "    <tr>\n",
       "      <th>64578</th>\n",
       "      <td>1</td>\n",
       "      <td>1,916,000</td>\n",
       "      <td>CARDINAL</td>\n",
       "    </tr>\n",
       "    <tr>\n",
       "      <th>64579</th>\n",
       "      <td>1</td>\n",
       "      <td>Revs 32.6</td>\n",
       "      <td>PRODUCT</td>\n",
       "    </tr>\n",
       "  </tbody>\n",
       "</table>\n",
       "<p>64580 rows × 3 columns</p>\n",
       "</div>"
      ],
      "text/plain": [
       "       count                    label_text label_type\n",
       "0          4                         ASIAN       NORP\n",
       "1       3907                          U.S.        GPE\n",
       "2       1291                         Japan        GPE\n",
       "3         32                          Asia        LOC\n",
       "4         14                        Reuter     PERSON\n",
       "...      ...                           ...        ...\n",
       "64575      1                     5,167,573   CARDINAL\n",
       "64576      1                     1,251,337   CARDINAL\n",
       "64577      1  AUTOMOTIVE TECHNOLOGIES CORP        ORG\n",
       "64578      1                     1,916,000   CARDINAL\n",
       "64579      1                     Revs 32.6    PRODUCT\n",
       "\n",
       "[64580 rows x 3 columns]"
      ]
     },
     "execution_count": 170,
     "metadata": {},
     "output_type": "execute_result"
    }
   ],
   "source": [
    "# turn the label_counter dictionary into a dataframe\n",
    "# df = pd.DataFrame(list(label_counter.items()), columns=['label', 'count'])\n",
    "\n",
    "# # seppearate the label column into two columns: label_text and label_type\n",
    "# df['label_text'] = df['label'].apply(lambda x: x[0])\n",
    "# df['label_type'] = df['label'].apply(lambda x: x[1])\n",
    "\n",
    "# # drop the label column\n",
    "# df = df.drop(columns=['label'])\n",
    "# df \n",
    "\n",
    "# # order by count\n",
    "# df = df.sort_values(by='count', ascending=False)\n",
    "# df = df.reset_index(drop=True)\n",
    "# df\n",
    "\n",
    "# sum up the count for each label type\n",
    "# df_sum = df.groupby('label_type').sum()\n",
    "# df_sum = df_sum.reset_index()\n",
    "# df_sum"
   ]
  },
  {
   "cell_type": "code",
   "execution_count": 13,
   "metadata": {},
   "outputs": [],
   "source": [
    "import numpy as np"
   ]
  },
  {
   "cell_type": "code",
   "execution_count": 19,
   "metadata": {},
   "outputs": [
    {
     "data": {
      "image/png": "[encoded data removed]",
      "text/plain": [
       "<Figure size 720x360 with 1 Axes>"
      ]
     },
     "metadata": {
      "needs_background": "light"
     },
     "output_type": "display_data"
    }
   ],
   "source": [
    "# draw a bar plot for counter object\n",
    "plt.figure(figsize=(10, 5))\n",
    "\n",
    "elements = label_counter.keys()\n",
    "counts = label_counter.values()\n",
    "\n",
    "# Create a bar chart\n",
    "plt.bar(elements, counts)\n",
    "\n",
    "plt.bar(x, y)\n",
    "\n",
    "plt.xlabel('Label')\n",
    "plt.ylabel('Count')\n",
    "\n",
    "# plt.xticks(np.arange(len(label_counter)), label_counter)\n",
    "\n",
    "plt.show()\n"
   ]
  },
  {
   "cell_type": "markdown",
   "metadata": {},
   "source": [
    "**(b) [15 pts]** Now list the top 10 most frequently occurring entities (entity text and the number of occurence) with label `ORG` (organization). Separately list the top 10 most frequently occurring entities with label `GPE` (geopolitical entity such as countries, cities, states) respectively. **In both cases, please convert the entity names to lowercase first before computing the top 10.**\n",
    "\n",
    "Here, when counting the (raw count) frequency, we need to count how many articles have an entity with the desired property. For every article, we add 1 if the article has the entity and 0 otherwise."
   ]
  },
  {
   "cell_type": "code",
   "execution_count": 34,
   "metadata": {},
   "outputs": [
    {
     "name": "stderr",
     "output_type": "stream",
     "text": [
      "  0%|          | 0/10788 [00:00<?, ?it/s]"
     ]
    },
    {
     "name": "stderr",
     "output_type": "stream",
     "text": [
      "100%|██████████| 10788/10788 [00:00<00:00, 15043.90it/s]\n"
     ]
    }
   ],
   "source": [
    "# cacluate the number of entities in each category\n",
    "all_ent = []\n",
    "\n",
    "for doc in tqdm(reuters_nlp):\n",
    "\n",
    "    for ent in doc.ents :\n",
    "        all_ent.append((ent.text.lower(), ent.label_))\n",
    "\n",
    "label_counter = Counter(all_ent)\n"
   ]
  },
  {
   "cell_type": "code",
   "execution_count": 36,
   "metadata": {},
   "outputs": [],
   "source": [
    "# turn the label_counter dictionary into a dataframe\n",
    "df = pd.DataFrame(list(label_counter.items()), columns=['label', 'count'])\n",
    "\n",
    "# seppearate the label column into two columns: label_text and label_type\n",
    "df['label_text'] = df['label'].apply(lambda x: x[0])\n",
    "df['label_type'] = df['label'].apply(lambda x: x[1])\n",
    "\n",
    "# drop the label column\n",
    "df = df.drop(columns=['label'])"
   ]
  },
  {
   "cell_type": "code",
   "execution_count": 38,
   "metadata": {},
   "outputs": [
    {
     "name": "stdout",
     "output_type": "stream",
     "text": [
      "matsushita electric industrial co ltd &lt;mc.t\n",
      "broker &lt;james capel and co\n",
      "the u.s. threat\n",
      "u.s. products\n",
      "u.s. retaliation\n",
      "textile exporters &lt;taiwan safe group\n",
      "the federation of hong kong industry\n",
      "liberal democratic party\n",
      "international trade and industry\n",
      "miti\n"
     ]
    }
   ],
   "source": [
    "#  list the top 10 most frequently occurring entities (entity text and the number of occurence) with label `ORG` (organization)\n",
    "for item in df[df['label_type'] == 'ORG'][0:10]['label_text']:\n",
    "    print(item.lower())"
   ]
  },
  {
   "cell_type": "code",
   "execution_count": 39,
   "metadata": {},
   "outputs": [
    {
     "name": "stdout",
     "output_type": "stream",
     "text": [
      "u.s.\n",
      "japan\n",
      "tokyo\n",
      "taiwan\n",
      "south korea's\n",
      "south korea\n",
      "malaysia\n",
      "hong kong\n",
      "hong kong's\n",
      "canberra\n"
     ]
    }
   ],
   "source": [
    "# Separately list the top 10 most frequently occurring entities with label `GPE` (geopolitical entity such as countries, cities, states) respectivel\n",
    "for item in df[df['label_type'] == 'GPE'][0:10]['label_text']:\n",
    "    print(item.lower())"
   ]
  },
  {
   "cell_type": "markdown",
   "metadata": {},
   "source": [
    "**(c) [20 pts]** Give the top 50 `GPE` (countries, cities, states) entities that have the highest Pointwise Mutual Information (PMI) values with regard to the `ORG` (organization) entity **'opec'** (your list of this top 50 should be ranked in decreasing PMI value). Did you find any unexpected results? If so, why do you think it happened? If you found some of the results to be unsurprisingly, how come? **Just like in the previous part, please convert entity names to lowercase in your analysis.**\n",
    "\n",
    "Hint 1: As in lecture, when computing PMI, we will compute probabilities by counting the number of documents where entities occur or co-occur.  For example, $P('opec') = \\frac{number \\ \\ of \\ \\ documents \\ \\ containing \\ \\ 'opec'}{number \\ \\ of \\ \\ documents}$.  \n",
    "\n",
    "Hint 2: To compute this ranking, you do not have to compute the full PMI equation."
   ]
  },
  {
   "cell_type": "code",
   "execution_count": 4,
   "metadata": {},
   "outputs": [
    {
     "name": "stderr",
     "output_type": "stream",
     "text": [
      "  0%|          | 0/10788 [00:00<?, ?it/s]"
     ]
    },
    {
     "name": "stderr",
     "output_type": "stream",
     "text": [
      "100%|██████████| 10788/10788 [00:00<00:00, 15805.71it/s]\n"
     ]
    }
   ],
   "source": [
    "# cacluate the number of entities in each category\n",
    "all_ent = []\n",
    "index = 0\n",
    "\n",
    "for doc in tqdm(reuters_nlp):\n",
    "\n",
    "    for ent in doc.ents :\n",
    "        all_ent.append((ent.text.lower(), ent.label_,index))\n",
    "    index += 1\n",
    "\n",
    "label_counter = Counter(all_ent)"
   ]
  },
  {
   "cell_type": "code",
   "execution_count": 5,
   "metadata": {},
   "outputs": [],
   "source": [
    "df = pd.DataFrame(list(label_counter.items()), columns=['label', 'count'])\n",
    "\n",
    "# seppearate the label column into two columns: label_text and label_type\n",
    "df['label_text'] = df['label'].apply(lambda x: x[0])\n",
    "df['label_type'] = df['label'].apply(lambda x: x[1])\n",
    "df['index'] = df['label'].apply(lambda x: x[2])\n",
    "\n",
    "# drop the label column\n",
    "df = df.drop(columns=['label'])"
   ]
  },
  {
   "cell_type": "code",
   "execution_count": 6,
   "metadata": {},
   "outputs": [],
   "source": [
    "# identify all the GPE entities\n",
    "all_gpe = df[df['label_type'] == 'GPE']['label_text'].to_list()\n",
    "\n",
    "#identify all ORG entities\n",
    "all_org = df[df['label_type'] == 'ORG']['label_text'].to_list()\n",
    "\n",
    "# identify the index list\n",
    "all_index = df['index'].unique().tolist()"
   ]
  },
  {
   "cell_type": "code",
   "execution_count": 7,
   "metadata": {},
   "outputs": [],
   "source": [
    "# shorten df to only include GPE and ORG\n",
    "df = df[(df['label_type'] == 'GPE') | (df['label_type'] == 'ORG')]"
   ]
  },
  {
   "cell_type": "code",
   "execution_count": 8,
   "metadata": {},
   "outputs": [],
   "source": [
    "# find unique value for all_gpe\n",
    "all_gpe = list(set(all_gpe))\n",
    "all_org = list(set(all_org))"
   ]
  },
  {
   "cell_type": "code",
   "execution_count": 9,
   "metadata": {},
   "outputs": [],
   "source": [
    "# initialize a dataframe with one column for each index and one row for each GPE entity\n",
    "df_gpe = pd.DataFrame(columns=np.arange(len(reuters_nlp)), index=all_gpe)\n",
    "# set the variable type as binary\n",
    "df_gpe = df_gpe.fillna(0)\n",
    "\n",
    "# initialize a dataframe with one column for each index and one row for each ORG entity\n",
    "df_org = pd.DataFrame(columns=np.arange(len(reuters_nlp)), index=all_org)\n",
    "df_org = df_org.fillna(0)\n"
   ]
  },
  {
   "cell_type": "code",
   "execution_count": 10,
   "metadata": {},
   "outputs": [
    {
     "name": "stderr",
     "output_type": "stream",
     "text": [
      "100%|██████████| 10787/10787 [03:41<00:00, 48.73it/s]\n"
     ]
    }
   ],
   "source": [
    "for index_num in tqdm(range(10787)):\n",
    "    all_label_in_indexed_doc = df[df['index'] == index_num]['label_text'].to_list()\n",
    "    for gpe_label in all_gpe:\n",
    "        if gpe_label in all_label_in_indexed_doc:\n",
    "            df_gpe[index_num][gpe_label] = 1"
   ]
  },
  {
   "cell_type": "code",
   "execution_count": 11,
   "metadata": {},
   "outputs": [
    {
     "name": "stderr",
     "output_type": "stream",
     "text": [
      "<ipython-input-11-3042107162eb>:2: PerformanceWarning: DataFrame is highly fragmented.  This is usually the result of calling `frame.insert` many times, which has poor performance.  Consider joining all columns at once using pd.concat(axis=1) instead. To get a de-fragmented frame, use `newframe = frame.copy()`\n",
      "  df_gpe['index'] = df_gpe.index\n"
     ]
    }
   ],
   "source": [
    "# save index\n",
    "df_gpe['index'] = df_gpe.index\n",
    "df_gpe.to_csv('df_gpe.csv')"
   ]
  },
  {
   "cell_type": "code",
   "execution_count": 12,
   "metadata": {},
   "outputs": [
    {
     "name": "stderr",
     "output_type": "stream",
     "text": [
      "100%|██████████| 10787/10787 [09:43<00:00, 18.50it/s]\n"
     ]
    }
   ],
   "source": [
    "for index_num in tqdm(range(10787)):\n",
    "    all_label_in_indexed_doc = df[df['index'] == index_num]['label_text'].to_list()\n",
    "    for org_label in all_org:\n",
    "        if org_label in all_label_in_indexed_doc:\n",
    "            df_org[index_num][org_label] = 1"
   ]
  },
  {
   "cell_type": "code",
   "execution_count": 13,
   "metadata": {},
   "outputs": [],
   "source": [
    "# save \n",
    "df_org.to_csv('df_org.csv')"
   ]
  },
  {
   "cell_type": "code",
   "execution_count": 14,
   "metadata": {},
   "outputs": [],
   "source": [
    "# remove the index column of df_gpe \n",
    "df_gpe = df_gpe.drop(columns=['index'])\n"
   ]
  },
  {
   "cell_type": "code",
   "execution_count": 15,
   "metadata": {},
   "outputs": [],
   "source": [
    "# create a dataframe whose row is GPE and column is ORG\n",
    "df_gpe_org = pd.DataFrame(columns=all_org, index=all_gpe)\n",
    "df_gpe_org = df_gpe_org.fillna(0)"
   ]
  },
  {
   "cell_type": "code",
   "execution_count": 39,
   "metadata": {},
   "outputs": [
    {
     "data": {
      "text/plain": [
       "(1852, 10788)"
      ]
     },
     "execution_count": 39,
     "metadata": {},
     "output_type": "execute_result"
    }
   ],
   "source": [
    "df_gpe.shape"
   ]
  },
  {
   "cell_type": "code",
   "execution_count": 40,
   "metadata": {},
   "outputs": [
    {
     "data": {
      "text/plain": [
       "(20465, 10788)"
      ]
     },
     "execution_count": 40,
     "metadata": {},
     "output_type": "execute_result"
    }
   ],
   "source": [
    "df_org.shape"
   ]
  },
  {
   "cell_type": "code",
   "execution_count": 41,
   "metadata": {},
   "outputs": [
    {
     "data": {
      "text/plain": [
       "1852"
      ]
     },
     "execution_count": 41,
     "metadata": {},
     "output_type": "execute_result"
    }
   ],
   "source": [
    "len(all_gpe)"
   ]
  },
  {
   "cell_type": "code",
   "execution_count": 42,
   "metadata": {},
   "outputs": [],
   "source": [
    "# create a empty numpy array\n",
    "gpe_org_matrix = np.zeros((len(all_gpe), len(all_org)))"
   ]
  },
  {
   "cell_type": "code",
   "execution_count": 44,
   "metadata": {},
   "outputs": [
    {
     "data": {
      "text/plain": [
       "(1852, 20465)"
      ]
     },
     "execution_count": 44,
     "metadata": {},
     "output_type": "execute_result"
    }
   ],
   "source": [
    "gpe_org_matrix.shape"
   ]
  },
  {
   "cell_type": "code",
   "execution_count": 46,
   "metadata": {},
   "outputs": [],
   "source": [
    "# convert df_gpe to numpy array\n",
    "gpe_matrix = df_gpe.to_numpy()\n",
    "\n",
    "# convert df_org to numpy array\n",
    "org_matrix = df_org.to_numpy()\n"
   ]
  },
  {
   "cell_type": "code",
   "execution_count": 47,
   "metadata": {},
   "outputs": [
    {
     "data": {
      "text/plain": [
       "(1852, 10788)"
      ]
     },
     "execution_count": 47,
     "metadata": {},
     "output_type": "execute_result"
    }
   ],
   "source": [
    "gpe_matrix.shape"
   ]
  },
  {
   "cell_type": "code",
   "execution_count": 68,
   "metadata": {},
   "outputs": [],
   "source": [
    "# find the index for OPEC\n",
    "all_org.index('opec')\n",
    "\n",
    "opec_row = df_org.iloc[8188].to_numpy()\n",
    "opec_mean = opec_row.mean()"
   ]
  },
  {
   "cell_type": "code",
   "execution_count": 69,
   "metadata": {},
   "outputs": [
    {
     "name": "stderr",
     "output_type": "stream",
     "text": [
      "100%|██████████| 1852/1852 [00:00<00:00, 5865.79it/s]\n"
     ]
    }
   ],
   "source": [
    "result_list = []\n",
    "\n",
    "for i in tqdm(range(len(all_gpe))):\n",
    "    gpe_row = gpe_matrix[0]\n",
    "    dot = np.dot(gpe_row, opec_row.T)\n",
    "    result = dot/(gpe_row.mean() * opec_mean)\n",
    "    result_list.append(result)\n",
    "\n",
    "\n"
   ]
  },
  {
   "cell_type": "code",
   "execution_count": null,
   "metadata": {},
   "outputs": [],
   "source": [
    "\n"
   ]
  },
  {
   "cell_type": "code",
   "execution_count": 74,
   "metadata": {},
   "outputs": [],
   "source": [
    "result_list= np.array(result_list)"
   ]
  },
  {
   "cell_type": "code",
   "execution_count": 75,
   "metadata": {},
   "outputs": [],
   "source": [
    "# find the index of top 50 values in the result_list\n",
    "\n",
    "top_50_index = np.argsort(result_list)[-50:]\n"
   ]
  },
  {
   "cell_type": "code",
   "execution_count": 77,
   "metadata": {},
   "outputs": [
    {
     "name": "stdout",
     "output_type": "stream",
     "text": [
      "canton\n",
      "subotica\n",
      "south australia\n",
      "ivory coast\n",
      "deleware\n",
      "minstar\n",
      "vertex\n",
      "guangxi\n",
      "mountain states\n",
      "san bernardino county\n",
      "rouen\n",
      "announce\n",
      "mississippi\n",
      "allegheny county\n",
      "boston\n",
      "schuykill county\n",
      "tonnes\n",
      "buffton\n",
      "hunt valley\n",
      "minn\n",
      "healy\n",
      "west malaysia\n",
      "the united states-iraq business forum\n",
      "zentralsparkasse\n",
      "uruguay\n",
      "scottsboro\n",
      "turkey\n",
      "new york state's\n",
      "morning\n",
      "cebu\n",
      "mayaguez\n",
      "nra\n",
      "koether\n",
      "d.c.\n",
      "indonesia\n",
      "orlando\n",
      "madagascar\n",
      "canada\n",
      "dominican republic\n",
      "rocky mount\n",
      "belzberg\n",
      "shelby\n",
      "west) germany\n",
      "independence\n",
      "merlin\n",
      "ill.\n",
      "u.s. autoparts\n",
      "comstock\n",
      "moscow\n",
      "demerara\n"
     ]
    }
   ],
   "source": [
    "# print the top 50 GPE entities\n",
    "for index in top_50_index:\n",
    "    print(all_gpe[index])"
   ]
  },
  {
   "cell_type": "code",
   "execution_count": null,
   "metadata": {},
   "outputs": [],
   "source": [
    "# find the highest top 50 value in the matrix\n",
    "\n"
   ]
  },
  {
   "cell_type": "code",
   "execution_count": null,
   "metadata": {},
   "outputs": [],
   "source": []
  },
  {
   "cell_type": "code",
   "execution_count": null,
   "metadata": {},
   "outputs": [],
   "source": []
  },
  {
   "cell_type": "markdown",
   "metadata": {},
   "source": [
    "Your text answer (for this question, your answer is *not* code): *** WRITE YOUR ANSWER HERE ***"
   ]
  },
  {
   "cell_type": "markdown",
   "metadata": {},
   "source": [
    "### [Problem 3] Questionnaire [5 pts]\n",
    "\n",
    "Please provide feedback! To receive the 5 points, be sure to enter your Andrew ID correctly in this Google form: https://forms.gle/8heZamsAnE8S7VTWA"
   ]
  }
 ],
 "metadata": {
  "anaconda-cloud": {},
  "kernelspec": {
   "display_name": "Python 3 (ipykernel)",
   "language": "python",
   "name": "python3"
  },
  "language_info": {
   "codemirror_mode": {
    "name": "ipython",
    "version": 3
   },
   "file_extension": ".py",
   "mimetype": "text/x-python",
   "name": "python",
   "nbconvert_exporter": "python",
   "pygments_lexer": "ipython3",
   "version": "3.8.8"
  }
 },
 "nbformat": 4,
 "nbformat_minor": 2
}
